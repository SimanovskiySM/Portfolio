{
  "cells": [
    {
      "cell_type": "markdown",
      "metadata": {
        "id": "V7wBSWvl0dol"
      },
      "source": [
        "# Восстановление золота из руды. Описание проекта."
      ]
    },
    {
      "cell_type": "markdown",
      "metadata": {
        "id": "dfqF7-pC0dol"
      },
      "source": [
        "Подготовьте прототип модели машинного обучения для «Цифры». Компания разрабатывает решения для эффективной работы промышленных предприятий.\n",
        "\n",
        "Модель должна предсказать коэффициент восстановления золота из золотосодержащей руды. Используйте данные с параметрами добычи и очистки.\n",
        "\n",
        "Модель поможет оптимизировать производство, чтобы не запускать предприятие с убыточными характеристиками.\n",
        "\n",
        "Вам нужно:\n",
        "\n",
        "1. Подготовить данные;\n",
        "2. Провести исследовательский анализ данных;\n",
        "3. Построить и обучить модель."
      ]
    },
    {
      "cell_type": "markdown",
      "metadata": {
        "id": "RMWWp4dR0dom"
      },
      "source": [
        "# Подготовка данных"
      ]
    },
    {
      "cell_type": "markdown",
      "metadata": {
        "id": "UfP_AfIe0don"
      },
      "source": [
        "## Загрузка данных и получение информации о них."
      ]
    },
    {
      "cell_type": "markdown",
      "source": [
        "Импортируем необходимые для нашей работы библиотеки."
      ],
      "metadata": {
        "id": "1HbPM4-3N5RM"
      }
    },
    {
      "cell_type": "code",
      "execution_count": null,
      "metadata": {
        "id": "igkiuUhr0don"
      },
      "outputs": [],
      "source": [
        "import pandas as pd\n",
        "import numpy as np\n",
        "\n",
        "from sklearn.metrics import mean_absolute_error, make_scorer\n",
        "from sklearn.preprocessing import StandardScaler\n",
        "from sklearn.model_selection import cross_val_score, GridSearchCV\n",
        "from sklearn.linear_model import LinearRegression\n",
        "from sklearn.tree import DecisionTreeRegressor\n",
        "from sklearn.ensemble import RandomForestRegressor\n",
        "from sklearn.dummy import DummyRegressor\n",
        "\n",
        "import matplotlib.pyplot as plt\n",
        "import seaborn as sns\n",
        "\n",
        "from ipywidgets import GridspecLayout\n",
        "\n",
        "import warnings\n",
        "warnings.filterwarnings('ignore')"
      ]
    },
    {
      "cell_type": "markdown",
      "source": [
        "Загружаем данные."
      ],
      "metadata": {
        "id": "gpEvTYihN8Om"
      }
    },
    {
      "cell_type": "code",
      "execution_count": null,
      "metadata": {
        "id": "8fRbkHJF0dop"
      },
      "outputs": [],
      "source": [
        "train_df = pd.read_csv('/datasets/gold_industry_full.csv')\n",
        "test_df = pd.read_csv('/datasets/gold_industry_test.csv')\n",
        "full_df = pd.read_csv('/datasets/gold_industry_train.csv')"
      ]
    },
    {
      "cell_type": "markdown",
      "metadata": {
        "id": "L4CAeaJw0dop"
      },
      "source": [
        "Посмотрим информацию о каждом из получившихся датасетов."
      ]
    },
    {
      "cell_type": "code",
      "execution_count": null,
      "metadata": {
        "scrolled": true,
        "id": "DCEQcQwW0dop",
        "outputId": "a3165307-76b8-49a7-b9f6-b54ad6f01e93",
        "colab": {
          "base_uri": "https://localhost:8080/"
        }
      },
      "outputs": [
        {
          "output_type": "stream",
          "name": "stdout",
          "text": [
            "<class 'pandas.core.frame.DataFrame'>\n",
            "RangeIndex: 19439 entries, 0 to 19438\n",
            "Data columns (total 87 columns):\n",
            " #   Column                                              Non-Null Count  Dtype  \n",
            "---  ------                                              --------------  -----  \n",
            " 0   date                                                19439 non-null  object \n",
            " 1   rougher.input.feed_au                               19439 non-null  float64\n",
            " 2   rougher.input.feed_ag                               19439 non-null  float64\n",
            " 3   rougher.input.feed_pb                               19339 non-null  float64\n",
            " 4   rougher.input.feed_sol                              19340 non-null  float64\n",
            " 5   rougher.input.feed_rate                             19428 non-null  float64\n",
            " 6   rougher.input.feed_size                             19294 non-null  float64\n",
            " 7   rougher.input.floatbank10_sulfate                   19405 non-null  float64\n",
            " 8   rougher.input.floatbank10_xanthate                  19431 non-null  float64\n",
            " 9   rougher.state.floatbank10_a_air                     19438 non-null  float64\n",
            " 10  rougher.state.floatbank10_a_level                   19438 non-null  float64\n",
            " 11  rougher.state.floatbank10_b_air                     19438 non-null  float64\n",
            " 12  rougher.state.floatbank10_b_level                   19438 non-null  float64\n",
            " 13  rougher.state.floatbank10_c_air                     19438 non-null  float64\n",
            " 14  rougher.state.floatbank10_c_level                   19438 non-null  float64\n",
            " 15  rougher.state.floatbank10_d_air                     19439 non-null  float64\n",
            " 16  rougher.state.floatbank10_d_level                   19439 non-null  float64\n",
            " 17  rougher.state.floatbank10_e_air                     19003 non-null  float64\n",
            " 18  rougher.state.floatbank10_e_level                   19439 non-null  float64\n",
            " 19  rougher.state.floatbank10_f_air                     19439 non-null  float64\n",
            " 20  rougher.state.floatbank10_f_level                   19439 non-null  float64\n",
            " 21  rougher.input.floatbank11_sulfate                   19395 non-null  float64\n",
            " 22  rougher.input.floatbank11_xanthate                  18986 non-null  float64\n",
            " 23  rougher.calculation.sulfate_to_au_concentrate       19437 non-null  float64\n",
            " 24  rougher.calculation.floatbank10_sulfate_to_au_feed  19437 non-null  float64\n",
            " 25  rougher.calculation.floatbank11_sulfate_to_au_feed  19437 non-null  float64\n",
            " 26  rougher.calculation.au_pb_ratio                     19439 non-null  float64\n",
            " 27  rougher.output.concentrate_au                       19439 non-null  float64\n",
            " 28  rougher.output.concentrate_ag                       19439 non-null  float64\n",
            " 29  rougher.output.concentrate_pb                       19439 non-null  float64\n",
            " 30  rougher.output.concentrate_sol                      19416 non-null  float64\n",
            " 31  rougher.output.recovery                             19439 non-null  float64\n",
            " 32  rougher.output.tail_au                              19439 non-null  float64\n",
            " 33  rougher.output.tail_ag                              19438 non-null  float64\n",
            " 34  rougher.output.tail_pb                              19439 non-null  float64\n",
            " 35  rougher.output.tail_sol                             19439 non-null  float64\n",
            " 36  primary_cleaner.input.sulfate                       19415 non-null  float64\n",
            " 37  primary_cleaner.input.depressant                    19402 non-null  float64\n",
            " 38  primary_cleaner.input.feed_size                     19439 non-null  float64\n",
            " 39  primary_cleaner.input.xanthate                      19335 non-null  float64\n",
            " 40  primary_cleaner.state.floatbank8_a_air              19435 non-null  float64\n",
            " 41  primary_cleaner.state.floatbank8_a_level            19438 non-null  float64\n",
            " 42  primary_cleaner.state.floatbank8_b_air              19435 non-null  float64\n",
            " 43  primary_cleaner.state.floatbank8_b_level            19438 non-null  float64\n",
            " 44  primary_cleaner.state.floatbank8_c_air              19437 non-null  float64\n",
            " 45  primary_cleaner.state.floatbank8_c_level            19438 non-null  float64\n",
            " 46  primary_cleaner.state.floatbank8_d_air              19436 non-null  float64\n",
            " 47  primary_cleaner.state.floatbank8_d_level            19438 non-null  float64\n",
            " 48  primary_cleaner.output.concentrate_au               19439 non-null  float64\n",
            " 49  primary_cleaner.output.concentrate_ag               19439 non-null  float64\n",
            " 50  primary_cleaner.output.concentrate_pb               19323 non-null  float64\n",
            " 51  primary_cleaner.output.concentrate_sol              19069 non-null  float64\n",
            " 52  primary_cleaner.output.tail_au                      19439 non-null  float64\n",
            " 53  primary_cleaner.output.tail_ag                      19435 non-null  float64\n",
            " 54  primary_cleaner.output.tail_pb                      19418 non-null  float64\n",
            " 55  primary_cleaner.output.tail_sol                     19377 non-null  float64\n",
            " 56  secondary_cleaner.state.floatbank2_a_air            19219 non-null  float64\n",
            " 57  secondary_cleaner.state.floatbank2_a_level          19438 non-null  float64\n",
            " 58  secondary_cleaner.state.floatbank2_b_air            19416 non-null  float64\n",
            " 59  secondary_cleaner.state.floatbank2_b_level          19438 non-null  float64\n",
            " 60  secondary_cleaner.state.floatbank3_a_air            19426 non-null  float64\n",
            " 61  secondary_cleaner.state.floatbank3_a_level          19438 non-null  float64\n",
            " 62  secondary_cleaner.state.floatbank3_b_air            19438 non-null  float64\n",
            " 63  secondary_cleaner.state.floatbank3_b_level          19438 non-null  float64\n",
            " 64  secondary_cleaner.state.floatbank4_a_air            19433 non-null  float64\n",
            " 65  secondary_cleaner.state.floatbank4_a_level          19438 non-null  float64\n",
            " 66  secondary_cleaner.state.floatbank4_b_air            19438 non-null  float64\n",
            " 67  secondary_cleaner.state.floatbank4_b_level          19438 non-null  float64\n",
            " 68  secondary_cleaner.state.floatbank5_a_air            19438 non-null  float64\n",
            " 69  secondary_cleaner.state.floatbank5_a_level          19438 non-null  float64\n",
            " 70  secondary_cleaner.state.floatbank5_b_air            19438 non-null  float64\n",
            " 71  secondary_cleaner.state.floatbank5_b_level          19438 non-null  float64\n",
            " 72  secondary_cleaner.state.floatbank6_a_air            19437 non-null  float64\n",
            " 73  secondary_cleaner.state.floatbank6_a_level          19438 non-null  float64\n",
            " 74  secondary_cleaner.output.tail_au                    19439 non-null  float64\n",
            " 75  secondary_cleaner.output.tail_ag                    19437 non-null  float64\n",
            " 76  secondary_cleaner.output.tail_pb                    19427 non-null  float64\n",
            " 77  secondary_cleaner.output.tail_sol                   17691 non-null  float64\n",
            " 78  final.output.concentrate_au                         19439 non-null  float64\n",
            " 79  final.output.concentrate_ag                         19438 non-null  float64\n",
            " 80  final.output.concentrate_pb                         19438 non-null  float64\n",
            " 81  final.output.concentrate_sol                        19228 non-null  float64\n",
            " 82  final.output.recovery                               19439 non-null  float64\n",
            " 83  final.output.tail_au                                19439 non-null  float64\n",
            " 84  final.output.tail_ag                                19438 non-null  float64\n",
            " 85  final.output.tail_pb                                19338 non-null  float64\n",
            " 86  final.output.tail_sol                               19433 non-null  float64\n",
            "dtypes: float64(86), object(1)\n",
            "memory usage: 12.9+ MB\n"
          ]
        }
      ],
      "source": [
        "train_df.info()"
      ]
    },
    {
      "cell_type": "code",
      "execution_count": null,
      "metadata": {
        "id": "ZJWiLfml0doq",
        "outputId": "7045e2a6-31d5-4266-ec6f-cbcc3a9e75a1",
        "colab": {
          "base_uri": "https://localhost:8080/",
          "height": 473
        }
      },
      "outputs": [
        {
          "output_type": "execute_result",
          "data": {
            "text/plain": [
              "                  date  rougher.input.feed_au  rougher.input.feed_ag  \\\n",
              "0  2016-01-15 00:00:00               6.486150               6.100378   \n",
              "1  2016-01-15 01:00:00               6.478583               6.161113   \n",
              "2  2016-01-15 02:00:00               6.362222               6.116455   \n",
              "3  2016-01-15 03:00:00               6.118189               6.043309   \n",
              "4  2016-01-15 04:00:00               5.663707               6.060915   \n",
              "\n",
              "   rougher.input.feed_pb  rougher.input.feed_sol  rougher.input.feed_rate  \\\n",
              "0               2.284912               36.808594               523.546326   \n",
              "1               2.266033               35.753385               525.290581   \n",
              "2               2.159622               35.971630               530.026610   \n",
              "3               2.037807               36.862241               542.590390   \n",
              "4               1.786875               34.347666               540.531893   \n",
              "\n",
              "   rougher.input.feed_size  rougher.input.floatbank10_sulfate  \\\n",
              "0                55.486599                          11.986616   \n",
              "1                57.278666                          11.971193   \n",
              "2                57.510649                          11.920603   \n",
              "3                57.792734                          11.630094   \n",
              "4                56.047189                          10.957755   \n",
              "\n",
              "   rougher.input.floatbank10_xanthate  rougher.state.floatbank10_a_air  ...  \\\n",
              "0                            6.007990                       999.706909  ...   \n",
              "1                            6.005766                      1000.286398  ...   \n",
              "2                            6.197377                       999.719565  ...   \n",
              "3                            6.203177                       999.814770  ...   \n",
              "4                            6.198826                       999.678690  ...   \n",
              "\n",
              "   secondary_cleaner.output.tail_sol  final.output.concentrate_au  \\\n",
              "0                           8.764648                    42.192020   \n",
              "1                           9.001494                    42.701629   \n",
              "2                           8.842896                    42.657501   \n",
              "3                           9.122857                    42.689819   \n",
              "4                           8.871028                    42.774141   \n",
              "\n",
              "   final.output.concentrate_ag  final.output.concentrate_pb  \\\n",
              "0                     6.055403                     9.889648   \n",
              "1                     6.029369                     9.968944   \n",
              "2                     6.055926                    10.213995   \n",
              "3                     6.047977                     9.977019   \n",
              "4                     6.148599                    10.142511   \n",
              "\n",
              "   final.output.concentrate_sol  final.output.recovery  final.output.tail_au  \\\n",
              "0                      5.507324              70.541216              2.143149   \n",
              "1                      5.257781              69.266198              2.224930   \n",
              "2                      5.383759              68.116445              2.257889   \n",
              "3                      4.858634              68.347543              2.146849   \n",
              "4                      4.939416              66.927016              2.055292   \n",
              "\n",
              "   final.output.tail_ag  final.output.tail_pb  final.output.tail_sol  \n",
              "0             10.411962              0.895447              16.904297  \n",
              "1             10.462676              0.927452              16.634514  \n",
              "2             10.507046              0.953716              16.208849  \n",
              "3             10.422762              0.883763              16.532835  \n",
              "4             10.360302              0.792826              16.525686  \n",
              "\n",
              "[5 rows x 87 columns]"
            ],
            "text/html": [
              "\n",
              "  <div id=\"df-b6ed6ff6-01d6-446e-9c8f-0a0dfb897046\">\n",
              "    <div class=\"colab-df-container\">\n",
              "      <div>\n",
              "<style scoped>\n",
              "    .dataframe tbody tr th:only-of-type {\n",
              "        vertical-align: middle;\n",
              "    }\n",
              "\n",
              "    .dataframe tbody tr th {\n",
              "        vertical-align: top;\n",
              "    }\n",
              "\n",
              "    .dataframe thead th {\n",
              "        text-align: right;\n",
              "    }\n",
              "</style>\n",
              "<table border=\"1\" class=\"dataframe\">\n",
              "  <thead>\n",
              "    <tr style=\"text-align: right;\">\n",
              "      <th></th>\n",
              "      <th>date</th>\n",
              "      <th>rougher.input.feed_au</th>\n",
              "      <th>rougher.input.feed_ag</th>\n",
              "      <th>rougher.input.feed_pb</th>\n",
              "      <th>rougher.input.feed_sol</th>\n",
              "      <th>rougher.input.feed_rate</th>\n",
              "      <th>rougher.input.feed_size</th>\n",
              "      <th>rougher.input.floatbank10_sulfate</th>\n",
              "      <th>rougher.input.floatbank10_xanthate</th>\n",
              "      <th>rougher.state.floatbank10_a_air</th>\n",
              "      <th>...</th>\n",
              "      <th>secondary_cleaner.output.tail_sol</th>\n",
              "      <th>final.output.concentrate_au</th>\n",
              "      <th>final.output.concentrate_ag</th>\n",
              "      <th>final.output.concentrate_pb</th>\n",
              "      <th>final.output.concentrate_sol</th>\n",
              "      <th>final.output.recovery</th>\n",
              "      <th>final.output.tail_au</th>\n",
              "      <th>final.output.tail_ag</th>\n",
              "      <th>final.output.tail_pb</th>\n",
              "      <th>final.output.tail_sol</th>\n",
              "    </tr>\n",
              "  </thead>\n",
              "  <tbody>\n",
              "    <tr>\n",
              "      <th>0</th>\n",
              "      <td>2016-01-15 00:00:00</td>\n",
              "      <td>6.486150</td>\n",
              "      <td>6.100378</td>\n",
              "      <td>2.284912</td>\n",
              "      <td>36.808594</td>\n",
              "      <td>523.546326</td>\n",
              "      <td>55.486599</td>\n",
              "      <td>11.986616</td>\n",
              "      <td>6.007990</td>\n",
              "      <td>999.706909</td>\n",
              "      <td>...</td>\n",
              "      <td>8.764648</td>\n",
              "      <td>42.192020</td>\n",
              "      <td>6.055403</td>\n",
              "      <td>9.889648</td>\n",
              "      <td>5.507324</td>\n",
              "      <td>70.541216</td>\n",
              "      <td>2.143149</td>\n",
              "      <td>10.411962</td>\n",
              "      <td>0.895447</td>\n",
              "      <td>16.904297</td>\n",
              "    </tr>\n",
              "    <tr>\n",
              "      <th>1</th>\n",
              "      <td>2016-01-15 01:00:00</td>\n",
              "      <td>6.478583</td>\n",
              "      <td>6.161113</td>\n",
              "      <td>2.266033</td>\n",
              "      <td>35.753385</td>\n",
              "      <td>525.290581</td>\n",
              "      <td>57.278666</td>\n",
              "      <td>11.971193</td>\n",
              "      <td>6.005766</td>\n",
              "      <td>1000.286398</td>\n",
              "      <td>...</td>\n",
              "      <td>9.001494</td>\n",
              "      <td>42.701629</td>\n",
              "      <td>6.029369</td>\n",
              "      <td>9.968944</td>\n",
              "      <td>5.257781</td>\n",
              "      <td>69.266198</td>\n",
              "      <td>2.224930</td>\n",
              "      <td>10.462676</td>\n",
              "      <td>0.927452</td>\n",
              "      <td>16.634514</td>\n",
              "    </tr>\n",
              "    <tr>\n",
              "      <th>2</th>\n",
              "      <td>2016-01-15 02:00:00</td>\n",
              "      <td>6.362222</td>\n",
              "      <td>6.116455</td>\n",
              "      <td>2.159622</td>\n",
              "      <td>35.971630</td>\n",
              "      <td>530.026610</td>\n",
              "      <td>57.510649</td>\n",
              "      <td>11.920603</td>\n",
              "      <td>6.197377</td>\n",
              "      <td>999.719565</td>\n",
              "      <td>...</td>\n",
              "      <td>8.842896</td>\n",
              "      <td>42.657501</td>\n",
              "      <td>6.055926</td>\n",
              "      <td>10.213995</td>\n",
              "      <td>5.383759</td>\n",
              "      <td>68.116445</td>\n",
              "      <td>2.257889</td>\n",
              "      <td>10.507046</td>\n",
              "      <td>0.953716</td>\n",
              "      <td>16.208849</td>\n",
              "    </tr>\n",
              "    <tr>\n",
              "      <th>3</th>\n",
              "      <td>2016-01-15 03:00:00</td>\n",
              "      <td>6.118189</td>\n",
              "      <td>6.043309</td>\n",
              "      <td>2.037807</td>\n",
              "      <td>36.862241</td>\n",
              "      <td>542.590390</td>\n",
              "      <td>57.792734</td>\n",
              "      <td>11.630094</td>\n",
              "      <td>6.203177</td>\n",
              "      <td>999.814770</td>\n",
              "      <td>...</td>\n",
              "      <td>9.122857</td>\n",
              "      <td>42.689819</td>\n",
              "      <td>6.047977</td>\n",
              "      <td>9.977019</td>\n",
              "      <td>4.858634</td>\n",
              "      <td>68.347543</td>\n",
              "      <td>2.146849</td>\n",
              "      <td>10.422762</td>\n",
              "      <td>0.883763</td>\n",
              "      <td>16.532835</td>\n",
              "    </tr>\n",
              "    <tr>\n",
              "      <th>4</th>\n",
              "      <td>2016-01-15 04:00:00</td>\n",
              "      <td>5.663707</td>\n",
              "      <td>6.060915</td>\n",
              "      <td>1.786875</td>\n",
              "      <td>34.347666</td>\n",
              "      <td>540.531893</td>\n",
              "      <td>56.047189</td>\n",
              "      <td>10.957755</td>\n",
              "      <td>6.198826</td>\n",
              "      <td>999.678690</td>\n",
              "      <td>...</td>\n",
              "      <td>8.871028</td>\n",
              "      <td>42.774141</td>\n",
              "      <td>6.148599</td>\n",
              "      <td>10.142511</td>\n",
              "      <td>4.939416</td>\n",
              "      <td>66.927016</td>\n",
              "      <td>2.055292</td>\n",
              "      <td>10.360302</td>\n",
              "      <td>0.792826</td>\n",
              "      <td>16.525686</td>\n",
              "    </tr>\n",
              "  </tbody>\n",
              "</table>\n",
              "<p>5 rows × 87 columns</p>\n",
              "</div>\n",
              "      <button class=\"colab-df-convert\" onclick=\"convertToInteractive('df-b6ed6ff6-01d6-446e-9c8f-0a0dfb897046')\"\n",
              "              title=\"Convert this dataframe to an interactive table.\"\n",
              "              style=\"display:none;\">\n",
              "        \n",
              "  <svg xmlns=\"http://www.w3.org/2000/svg\" height=\"24px\"viewBox=\"0 0 24 24\"\n",
              "       width=\"24px\">\n",
              "    <path d=\"M0 0h24v24H0V0z\" fill=\"none\"/>\n",
              "    <path d=\"M18.56 5.44l.94 2.06.94-2.06 2.06-.94-2.06-.94-.94-2.06-.94 2.06-2.06.94zm-11 1L8.5 8.5l.94-2.06 2.06-.94-2.06-.94L8.5 2.5l-.94 2.06-2.06.94zm10 10l.94 2.06.94-2.06 2.06-.94-2.06-.94-.94-2.06-.94 2.06-2.06.94z\"/><path d=\"M17.41 7.96l-1.37-1.37c-.4-.4-.92-.59-1.43-.59-.52 0-1.04.2-1.43.59L10.3 9.45l-7.72 7.72c-.78.78-.78 2.05 0 2.83L4 21.41c.39.39.9.59 1.41.59.51 0 1.02-.2 1.41-.59l7.78-7.78 2.81-2.81c.8-.78.8-2.07 0-2.86zM5.41 20L4 18.59l7.72-7.72 1.47 1.35L5.41 20z\"/>\n",
              "  </svg>\n",
              "      </button>\n",
              "      \n",
              "  <style>\n",
              "    .colab-df-container {\n",
              "      display:flex;\n",
              "      flex-wrap:wrap;\n",
              "      gap: 12px;\n",
              "    }\n",
              "\n",
              "    .colab-df-convert {\n",
              "      background-color: #E8F0FE;\n",
              "      border: none;\n",
              "      border-radius: 50%;\n",
              "      cursor: pointer;\n",
              "      display: none;\n",
              "      fill: #1967D2;\n",
              "      height: 32px;\n",
              "      padding: 0 0 0 0;\n",
              "      width: 32px;\n",
              "    }\n",
              "\n",
              "    .colab-df-convert:hover {\n",
              "      background-color: #E2EBFA;\n",
              "      box-shadow: 0px 1px 2px rgba(60, 64, 67, 0.3), 0px 1px 3px 1px rgba(60, 64, 67, 0.15);\n",
              "      fill: #174EA6;\n",
              "    }\n",
              "\n",
              "    [theme=dark] .colab-df-convert {\n",
              "      background-color: #3B4455;\n",
              "      fill: #D2E3FC;\n",
              "    }\n",
              "\n",
              "    [theme=dark] .colab-df-convert:hover {\n",
              "      background-color: #434B5C;\n",
              "      box-shadow: 0px 1px 3px 1px rgba(0, 0, 0, 0.15);\n",
              "      filter: drop-shadow(0px 1px 2px rgba(0, 0, 0, 0.3));\n",
              "      fill: #FFFFFF;\n",
              "    }\n",
              "  </style>\n",
              "\n",
              "      <script>\n",
              "        const buttonEl =\n",
              "          document.querySelector('#df-b6ed6ff6-01d6-446e-9c8f-0a0dfb897046 button.colab-df-convert');\n",
              "        buttonEl.style.display =\n",
              "          google.colab.kernel.accessAllowed ? 'block' : 'none';\n",
              "\n",
              "        async function convertToInteractive(key) {\n",
              "          const element = document.querySelector('#df-b6ed6ff6-01d6-446e-9c8f-0a0dfb897046');\n",
              "          const dataTable =\n",
              "            await google.colab.kernel.invokeFunction('convertToInteractive',\n",
              "                                                     [key], {});\n",
              "          if (!dataTable) return;\n",
              "\n",
              "          const docLinkHtml = 'Like what you see? Visit the ' +\n",
              "            '<a target=\"_blank\" href=https://colab.research.google.com/notebooks/data_table.ipynb>data table notebook</a>'\n",
              "            + ' to learn more about interactive tables.';\n",
              "          element.innerHTML = '';\n",
              "          dataTable['output_type'] = 'display_data';\n",
              "          await google.colab.output.renderOutput(dataTable, element);\n",
              "          const docLink = document.createElement('div');\n",
              "          docLink.innerHTML = docLinkHtml;\n",
              "          element.appendChild(docLink);\n",
              "        }\n",
              "      </script>\n",
              "    </div>\n",
              "  </div>\n",
              "  "
            ]
          },
          "metadata": {},
          "execution_count": 5
        }
      ],
      "source": [
        "train_df.head()"
      ]
    },
    {
      "cell_type": "code",
      "execution_count": null,
      "metadata": {
        "id": "K-R3i-Sg0dor",
        "outputId": "53929e1c-84a8-4876-9164-4a14a2d0534a",
        "colab": {
          "base_uri": "https://localhost:8080/",
          "height": 393
        }
      },
      "outputs": [
        {
          "output_type": "execute_result",
          "data": {
            "text/plain": [
              "       rougher.input.feed_au  rougher.input.feed_ag  rougher.input.feed_pb  \\\n",
              "count           19439.000000           19439.000000           19339.000000   \n",
              "mean                8.266097               8.794927               3.598085   \n",
              "std                 1.955092               1.936847               1.049486   \n",
              "min                 0.010000               0.010000               0.010000   \n",
              "25%                 6.854384               7.237967               2.887280   \n",
              "50%                 8.125839               8.593574               3.534895   \n",
              "75%                 9.769917              10.213771               4.244161   \n",
              "max                13.731330              14.596026               7.142594   \n",
              "\n",
              "       rougher.input.feed_sol  rougher.input.feed_rate  \\\n",
              "count            19340.000000             19428.000000   \n",
              "mean                36.695114               478.320042   \n",
              "std                  5.145445               105.373758   \n",
              "min                  0.010000                 0.002986   \n",
              "25%                 34.207799               416.525453   \n",
              "50%                 37.202650               499.416120   \n",
              "75%                 40.039133               550.172183   \n",
              "max                 53.477742               717.508837   \n",
              "\n",
              "       rougher.input.feed_size  rougher.input.floatbank10_sulfate  \\\n",
              "count             19294.000000                       19405.000000   \n",
              "mean                 58.970310                          12.334373   \n",
              "std                  21.634478                           3.427317   \n",
              "min                   0.046369                           0.001083   \n",
              "25%                  47.435103                          10.000362   \n",
              "50%                  54.610197                          12.001174   \n",
              "75%                  65.023044                          14.716595   \n",
              "max                 484.967466                          36.118275   \n",
              "\n",
              "       rougher.input.floatbank10_xanthate  rougher.state.floatbank10_a_air  \\\n",
              "count                        19431.000000                     19438.000000   \n",
              "mean                             6.021474                      1105.315068   \n",
              "std                              1.127263                       160.826798   \n",
              "min                              0.000568                        -0.042069   \n",
              "25%                              5.398678                       999.661867   \n",
              "50%                              6.008273                      1001.072890   \n",
              "75%                              6.798051                      1205.620588   \n",
              "max                              9.703448                      1521.980372   \n",
              "\n",
              "       rougher.state.floatbank10_a_level  ...  \\\n",
              "count                       19438.000000  ...   \n",
              "mean                         -376.610690  ...   \n",
              "std                            93.909667  ...   \n",
              "min                          -657.949759  ...   \n",
              "25%                          -499.835165  ...   \n",
              "50%                          -300.263994  ...   \n",
              "75%                          -299.981998  ...   \n",
              "max                          -273.776101  ...   \n",
              "\n",
              "       secondary_cleaner.output.tail_sol  final.output.concentrate_au  \\\n",
              "count                       17691.000000                 19439.000000   \n",
              "mean                            7.167247                    44.076513   \n",
              "std                             3.916079                     5.129784   \n",
              "min                             0.000000                     0.000000   \n",
              "25%                             3.845475                    43.402215   \n",
              "50%                             7.685827                    45.011244   \n",
              "75%                            10.411296                    46.275313   \n",
              "max                            26.000772                    52.756638   \n",
              "\n",
              "       final.output.concentrate_ag  final.output.concentrate_pb  \\\n",
              "count                 19438.000000                 19438.000000   \n",
              "mean                      5.168470                     9.978895   \n",
              "std                       1.372348                     1.669240   \n",
              "min                       0.000000                     0.000000   \n",
              "25%                       4.251240                     9.137262   \n",
              "50%                       5.066094                    10.102433   \n",
              "75%                       5.895527                    11.035769   \n",
              "max                      16.001945                    17.031899   \n",
              "\n",
              "       final.output.concentrate_sol  final.output.recovery  \\\n",
              "count                  19228.000000           19439.000000   \n",
              "mean                       9.501224              67.050208   \n",
              "std                        2.787537              10.125840   \n",
              "min                        0.000000               0.000000   \n",
              "25%                        7.722820              63.299712   \n",
              "50%                        9.218961              68.172738   \n",
              "75%                       10.947813              72.686642   \n",
              "max                       19.615720             100.000000   \n",
              "\n",
              "       final.output.tail_au  final.output.tail_ag  final.output.tail_pb  \\\n",
              "count          19439.000000          19438.000000          19338.000000   \n",
              "mean               3.042467              9.688589              2.705795   \n",
              "std                0.922808              2.328642              0.949077   \n",
              "min                0.000000              0.000000              0.000000   \n",
              "25%                2.461138              8.062878              2.040119   \n",
              "50%                2.984909              9.743623              2.748730   \n",
              "75%                3.571351             11.134294              3.333216   \n",
              "max                8.245022             19.552149              5.804178   \n",
              "\n",
              "       final.output.tail_sol  \n",
              "count           19433.000000  \n",
              "mean               10.583728  \n",
              "std                 2.868782  \n",
              "min                 0.000000  \n",
              "25%                 8.938947  \n",
              "50%                10.622456  \n",
              "75%                12.104271  \n",
              "max                22.317730  \n",
              "\n",
              "[8 rows x 86 columns]"
            ],
            "text/html": [
              "\n",
              "  <div id=\"df-24d04307-fb96-42d3-9d40-eae0d8e7fada\">\n",
              "    <div class=\"colab-df-container\">\n",
              "      <div>\n",
              "<style scoped>\n",
              "    .dataframe tbody tr th:only-of-type {\n",
              "        vertical-align: middle;\n",
              "    }\n",
              "\n",
              "    .dataframe tbody tr th {\n",
              "        vertical-align: top;\n",
              "    }\n",
              "\n",
              "    .dataframe thead th {\n",
              "        text-align: right;\n",
              "    }\n",
              "</style>\n",
              "<table border=\"1\" class=\"dataframe\">\n",
              "  <thead>\n",
              "    <tr style=\"text-align: right;\">\n",
              "      <th></th>\n",
              "      <th>rougher.input.feed_au</th>\n",
              "      <th>rougher.input.feed_ag</th>\n",
              "      <th>rougher.input.feed_pb</th>\n",
              "      <th>rougher.input.feed_sol</th>\n",
              "      <th>rougher.input.feed_rate</th>\n",
              "      <th>rougher.input.feed_size</th>\n",
              "      <th>rougher.input.floatbank10_sulfate</th>\n",
              "      <th>rougher.input.floatbank10_xanthate</th>\n",
              "      <th>rougher.state.floatbank10_a_air</th>\n",
              "      <th>rougher.state.floatbank10_a_level</th>\n",
              "      <th>...</th>\n",
              "      <th>secondary_cleaner.output.tail_sol</th>\n",
              "      <th>final.output.concentrate_au</th>\n",
              "      <th>final.output.concentrate_ag</th>\n",
              "      <th>final.output.concentrate_pb</th>\n",
              "      <th>final.output.concentrate_sol</th>\n",
              "      <th>final.output.recovery</th>\n",
              "      <th>final.output.tail_au</th>\n",
              "      <th>final.output.tail_ag</th>\n",
              "      <th>final.output.tail_pb</th>\n",
              "      <th>final.output.tail_sol</th>\n",
              "    </tr>\n",
              "  </thead>\n",
              "  <tbody>\n",
              "    <tr>\n",
              "      <th>count</th>\n",
              "      <td>19439.000000</td>\n",
              "      <td>19439.000000</td>\n",
              "      <td>19339.000000</td>\n",
              "      <td>19340.000000</td>\n",
              "      <td>19428.000000</td>\n",
              "      <td>19294.000000</td>\n",
              "      <td>19405.000000</td>\n",
              "      <td>19431.000000</td>\n",
              "      <td>19438.000000</td>\n",
              "      <td>19438.000000</td>\n",
              "      <td>...</td>\n",
              "      <td>17691.000000</td>\n",
              "      <td>19439.000000</td>\n",
              "      <td>19438.000000</td>\n",
              "      <td>19438.000000</td>\n",
              "      <td>19228.000000</td>\n",
              "      <td>19439.000000</td>\n",
              "      <td>19439.000000</td>\n",
              "      <td>19438.000000</td>\n",
              "      <td>19338.000000</td>\n",
              "      <td>19433.000000</td>\n",
              "    </tr>\n",
              "    <tr>\n",
              "      <th>mean</th>\n",
              "      <td>8.266097</td>\n",
              "      <td>8.794927</td>\n",
              "      <td>3.598085</td>\n",
              "      <td>36.695114</td>\n",
              "      <td>478.320042</td>\n",
              "      <td>58.970310</td>\n",
              "      <td>12.334373</td>\n",
              "      <td>6.021474</td>\n",
              "      <td>1105.315068</td>\n",
              "      <td>-376.610690</td>\n",
              "      <td>...</td>\n",
              "      <td>7.167247</td>\n",
              "      <td>44.076513</td>\n",
              "      <td>5.168470</td>\n",
              "      <td>9.978895</td>\n",
              "      <td>9.501224</td>\n",
              "      <td>67.050208</td>\n",
              "      <td>3.042467</td>\n",
              "      <td>9.688589</td>\n",
              "      <td>2.705795</td>\n",
              "      <td>10.583728</td>\n",
              "    </tr>\n",
              "    <tr>\n",
              "      <th>std</th>\n",
              "      <td>1.955092</td>\n",
              "      <td>1.936847</td>\n",
              "      <td>1.049486</td>\n",
              "      <td>5.145445</td>\n",
              "      <td>105.373758</td>\n",
              "      <td>21.634478</td>\n",
              "      <td>3.427317</td>\n",
              "      <td>1.127263</td>\n",
              "      <td>160.826798</td>\n",
              "      <td>93.909667</td>\n",
              "      <td>...</td>\n",
              "      <td>3.916079</td>\n",
              "      <td>5.129784</td>\n",
              "      <td>1.372348</td>\n",
              "      <td>1.669240</td>\n",
              "      <td>2.787537</td>\n",
              "      <td>10.125840</td>\n",
              "      <td>0.922808</td>\n",
              "      <td>2.328642</td>\n",
              "      <td>0.949077</td>\n",
              "      <td>2.868782</td>\n",
              "    </tr>\n",
              "    <tr>\n",
              "      <th>min</th>\n",
              "      <td>0.010000</td>\n",
              "      <td>0.010000</td>\n",
              "      <td>0.010000</td>\n",
              "      <td>0.010000</td>\n",
              "      <td>0.002986</td>\n",
              "      <td>0.046369</td>\n",
              "      <td>0.001083</td>\n",
              "      <td>0.000568</td>\n",
              "      <td>-0.042069</td>\n",
              "      <td>-657.949759</td>\n",
              "      <td>...</td>\n",
              "      <td>0.000000</td>\n",
              "      <td>0.000000</td>\n",
              "      <td>0.000000</td>\n",
              "      <td>0.000000</td>\n",
              "      <td>0.000000</td>\n",
              "      <td>0.000000</td>\n",
              "      <td>0.000000</td>\n",
              "      <td>0.000000</td>\n",
              "      <td>0.000000</td>\n",
              "      <td>0.000000</td>\n",
              "    </tr>\n",
              "    <tr>\n",
              "      <th>25%</th>\n",
              "      <td>6.854384</td>\n",
              "      <td>7.237967</td>\n",
              "      <td>2.887280</td>\n",
              "      <td>34.207799</td>\n",
              "      <td>416.525453</td>\n",
              "      <td>47.435103</td>\n",
              "      <td>10.000362</td>\n",
              "      <td>5.398678</td>\n",
              "      <td>999.661867</td>\n",
              "      <td>-499.835165</td>\n",
              "      <td>...</td>\n",
              "      <td>3.845475</td>\n",
              "      <td>43.402215</td>\n",
              "      <td>4.251240</td>\n",
              "      <td>9.137262</td>\n",
              "      <td>7.722820</td>\n",
              "      <td>63.299712</td>\n",
              "      <td>2.461138</td>\n",
              "      <td>8.062878</td>\n",
              "      <td>2.040119</td>\n",
              "      <td>8.938947</td>\n",
              "    </tr>\n",
              "    <tr>\n",
              "      <th>50%</th>\n",
              "      <td>8.125839</td>\n",
              "      <td>8.593574</td>\n",
              "      <td>3.534895</td>\n",
              "      <td>37.202650</td>\n",
              "      <td>499.416120</td>\n",
              "      <td>54.610197</td>\n",
              "      <td>12.001174</td>\n",
              "      <td>6.008273</td>\n",
              "      <td>1001.072890</td>\n",
              "      <td>-300.263994</td>\n",
              "      <td>...</td>\n",
              "      <td>7.685827</td>\n",
              "      <td>45.011244</td>\n",
              "      <td>5.066094</td>\n",
              "      <td>10.102433</td>\n",
              "      <td>9.218961</td>\n",
              "      <td>68.172738</td>\n",
              "      <td>2.984909</td>\n",
              "      <td>9.743623</td>\n",
              "      <td>2.748730</td>\n",
              "      <td>10.622456</td>\n",
              "    </tr>\n",
              "    <tr>\n",
              "      <th>75%</th>\n",
              "      <td>9.769917</td>\n",
              "      <td>10.213771</td>\n",
              "      <td>4.244161</td>\n",
              "      <td>40.039133</td>\n",
              "      <td>550.172183</td>\n",
              "      <td>65.023044</td>\n",
              "      <td>14.716595</td>\n",
              "      <td>6.798051</td>\n",
              "      <td>1205.620588</td>\n",
              "      <td>-299.981998</td>\n",
              "      <td>...</td>\n",
              "      <td>10.411296</td>\n",
              "      <td>46.275313</td>\n",
              "      <td>5.895527</td>\n",
              "      <td>11.035769</td>\n",
              "      <td>10.947813</td>\n",
              "      <td>72.686642</td>\n",
              "      <td>3.571351</td>\n",
              "      <td>11.134294</td>\n",
              "      <td>3.333216</td>\n",
              "      <td>12.104271</td>\n",
              "    </tr>\n",
              "    <tr>\n",
              "      <th>max</th>\n",
              "      <td>13.731330</td>\n",
              "      <td>14.596026</td>\n",
              "      <td>7.142594</td>\n",
              "      <td>53.477742</td>\n",
              "      <td>717.508837</td>\n",
              "      <td>484.967466</td>\n",
              "      <td>36.118275</td>\n",
              "      <td>9.703448</td>\n",
              "      <td>1521.980372</td>\n",
              "      <td>-273.776101</td>\n",
              "      <td>...</td>\n",
              "      <td>26.000772</td>\n",
              "      <td>52.756638</td>\n",
              "      <td>16.001945</td>\n",
              "      <td>17.031899</td>\n",
              "      <td>19.615720</td>\n",
              "      <td>100.000000</td>\n",
              "      <td>8.245022</td>\n",
              "      <td>19.552149</td>\n",
              "      <td>5.804178</td>\n",
              "      <td>22.317730</td>\n",
              "    </tr>\n",
              "  </tbody>\n",
              "</table>\n",
              "<p>8 rows × 86 columns</p>\n",
              "</div>\n",
              "      <button class=\"colab-df-convert\" onclick=\"convertToInteractive('df-24d04307-fb96-42d3-9d40-eae0d8e7fada')\"\n",
              "              title=\"Convert this dataframe to an interactive table.\"\n",
              "              style=\"display:none;\">\n",
              "        \n",
              "  <svg xmlns=\"http://www.w3.org/2000/svg\" height=\"24px\"viewBox=\"0 0 24 24\"\n",
              "       width=\"24px\">\n",
              "    <path d=\"M0 0h24v24H0V0z\" fill=\"none\"/>\n",
              "    <path d=\"M18.56 5.44l.94 2.06.94-2.06 2.06-.94-2.06-.94-.94-2.06-.94 2.06-2.06.94zm-11 1L8.5 8.5l.94-2.06 2.06-.94-2.06-.94L8.5 2.5l-.94 2.06-2.06.94zm10 10l.94 2.06.94-2.06 2.06-.94-2.06-.94-.94-2.06-.94 2.06-2.06.94z\"/><path d=\"M17.41 7.96l-1.37-1.37c-.4-.4-.92-.59-1.43-.59-.52 0-1.04.2-1.43.59L10.3 9.45l-7.72 7.72c-.78.78-.78 2.05 0 2.83L4 21.41c.39.39.9.59 1.41.59.51 0 1.02-.2 1.41-.59l7.78-7.78 2.81-2.81c.8-.78.8-2.07 0-2.86zM5.41 20L4 18.59l7.72-7.72 1.47 1.35L5.41 20z\"/>\n",
              "  </svg>\n",
              "      </button>\n",
              "      \n",
              "  <style>\n",
              "    .colab-df-container {\n",
              "      display:flex;\n",
              "      flex-wrap:wrap;\n",
              "      gap: 12px;\n",
              "    }\n",
              "\n",
              "    .colab-df-convert {\n",
              "      background-color: #E8F0FE;\n",
              "      border: none;\n",
              "      border-radius: 50%;\n",
              "      cursor: pointer;\n",
              "      display: none;\n",
              "      fill: #1967D2;\n",
              "      height: 32px;\n",
              "      padding: 0 0 0 0;\n",
              "      width: 32px;\n",
              "    }\n",
              "\n",
              "    .colab-df-convert:hover {\n",
              "      background-color: #E2EBFA;\n",
              "      box-shadow: 0px 1px 2px rgba(60, 64, 67, 0.3), 0px 1px 3px 1px rgba(60, 64, 67, 0.15);\n",
              "      fill: #174EA6;\n",
              "    }\n",
              "\n",
              "    [theme=dark] .colab-df-convert {\n",
              "      background-color: #3B4455;\n",
              "      fill: #D2E3FC;\n",
              "    }\n",
              "\n",
              "    [theme=dark] .colab-df-convert:hover {\n",
              "      background-color: #434B5C;\n",
              "      box-shadow: 0px 1px 3px 1px rgba(0, 0, 0, 0.15);\n",
              "      filter: drop-shadow(0px 1px 2px rgba(0, 0, 0, 0.3));\n",
              "      fill: #FFFFFF;\n",
              "    }\n",
              "  </style>\n",
              "\n",
              "      <script>\n",
              "        const buttonEl =\n",
              "          document.querySelector('#df-24d04307-fb96-42d3-9d40-eae0d8e7fada button.colab-df-convert');\n",
              "        buttonEl.style.display =\n",
              "          google.colab.kernel.accessAllowed ? 'block' : 'none';\n",
              "\n",
              "        async function convertToInteractive(key) {\n",
              "          const element = document.querySelector('#df-24d04307-fb96-42d3-9d40-eae0d8e7fada');\n",
              "          const dataTable =\n",
              "            await google.colab.kernel.invokeFunction('convertToInteractive',\n",
              "                                                     [key], {});\n",
              "          if (!dataTable) return;\n",
              "\n",
              "          const docLinkHtml = 'Like what you see? Visit the ' +\n",
              "            '<a target=\"_blank\" href=https://colab.research.google.com/notebooks/data_table.ipynb>data table notebook</a>'\n",
              "            + ' to learn more about interactive tables.';\n",
              "          element.innerHTML = '';\n",
              "          dataTable['output_type'] = 'display_data';\n",
              "          await google.colab.output.renderOutput(dataTable, element);\n",
              "          const docLink = document.createElement('div');\n",
              "          docLink.innerHTML = docLinkHtml;\n",
              "          element.appendChild(docLink);\n",
              "        }\n",
              "      </script>\n",
              "    </div>\n",
              "  </div>\n",
              "  "
            ]
          },
          "metadata": {},
          "execution_count": 6
        }
      ],
      "source": [
        "train_df.describe()"
      ]
    },
    {
      "cell_type": "code",
      "execution_count": null,
      "metadata": {
        "id": "vwqkW4bH0dor",
        "outputId": "0a7c46fa-b558-4e0b-99e4-cea4f8a51f51",
        "colab": {
          "base_uri": "https://localhost:8080/"
        }
      },
      "outputs": [
        {
          "output_type": "stream",
          "name": "stdout",
          "text": [
            "Количество дубликатов в датасете: 0\n"
          ]
        }
      ],
      "source": [
        "print(f'Количество дубликатов в датасете: {train_df.duplicated().sum()}')"
      ]
    },
    {
      "cell_type": "code",
      "execution_count": null,
      "metadata": {
        "scrolled": true,
        "id": "ADtL36eY0dor",
        "outputId": "38ae42a2-641e-4513-8f68-68fe081efb9d",
        "colab": {
          "base_uri": "https://localhost:8080/"
        }
      },
      "outputs": [
        {
          "output_type": "stream",
          "name": "stdout",
          "text": [
            "<class 'pandas.core.frame.DataFrame'>\n",
            "RangeIndex: 4860 entries, 0 to 4859\n",
            "Data columns (total 53 columns):\n",
            " #   Column                                      Non-Null Count  Dtype  \n",
            "---  ------                                      --------------  -----  \n",
            " 0   date                                        4860 non-null   object \n",
            " 1   rougher.input.feed_au                       4860 non-null   float64\n",
            " 2   rougher.input.feed_ag                       4860 non-null   float64\n",
            " 3   rougher.input.feed_pb                       4832 non-null   float64\n",
            " 4   rougher.input.feed_sol                      4838 non-null   float64\n",
            " 5   rougher.input.feed_rate                     4856 non-null   float64\n",
            " 6   rougher.input.feed_size                     4816 non-null   float64\n",
            " 7   rougher.input.floatbank10_sulfate           4857 non-null   float64\n",
            " 8   rougher.input.floatbank10_xanthate          4859 non-null   float64\n",
            " 9   rougher.state.floatbank10_a_air             4859 non-null   float64\n",
            " 10  rougher.state.floatbank10_a_level           4859 non-null   float64\n",
            " 11  rougher.state.floatbank10_b_air             4859 non-null   float64\n",
            " 12  rougher.state.floatbank10_b_level           4859 non-null   float64\n",
            " 13  rougher.state.floatbank10_c_air             4859 non-null   float64\n",
            " 14  rougher.state.floatbank10_c_level           4859 non-null   float64\n",
            " 15  rougher.state.floatbank10_d_air             4860 non-null   float64\n",
            " 16  rougher.state.floatbank10_d_level           4860 non-null   float64\n",
            " 17  rougher.state.floatbank10_e_air             4853 non-null   float64\n",
            " 18  rougher.state.floatbank10_e_level           4860 non-null   float64\n",
            " 19  rougher.state.floatbank10_f_air             4860 non-null   float64\n",
            " 20  rougher.state.floatbank10_f_level           4860 non-null   float64\n",
            " 21  rougher.input.floatbank11_sulfate           4852 non-null   float64\n",
            " 22  rougher.input.floatbank11_xanthate          4814 non-null   float64\n",
            " 23  primary_cleaner.input.sulfate               4859 non-null   float64\n",
            " 24  primary_cleaner.input.depressant            4851 non-null   float64\n",
            " 25  primary_cleaner.input.feed_size             4860 non-null   float64\n",
            " 26  primary_cleaner.input.xanthate              4817 non-null   float64\n",
            " 27  primary_cleaner.state.floatbank8_a_air      4859 non-null   float64\n",
            " 28  primary_cleaner.state.floatbank8_a_level    4859 non-null   float64\n",
            " 29  primary_cleaner.state.floatbank8_b_air      4859 non-null   float64\n",
            " 30  primary_cleaner.state.floatbank8_b_level    4859 non-null   float64\n",
            " 31  primary_cleaner.state.floatbank8_c_air      4858 non-null   float64\n",
            " 32  primary_cleaner.state.floatbank8_c_level    4859 non-null   float64\n",
            " 33  primary_cleaner.state.floatbank8_d_air      4858 non-null   float64\n",
            " 34  primary_cleaner.state.floatbank8_d_level    4859 non-null   float64\n",
            " 35  secondary_cleaner.state.floatbank2_a_air    4734 non-null   float64\n",
            " 36  secondary_cleaner.state.floatbank2_a_level  4859 non-null   float64\n",
            " 37  secondary_cleaner.state.floatbank2_b_air    4859 non-null   float64\n",
            " 38  secondary_cleaner.state.floatbank2_b_level  4859 non-null   float64\n",
            " 39  secondary_cleaner.state.floatbank3_a_air    4859 non-null   float64\n",
            " 40  secondary_cleaner.state.floatbank3_a_level  4859 non-null   float64\n",
            " 41  secondary_cleaner.state.floatbank3_b_air    4859 non-null   float64\n",
            " 42  secondary_cleaner.state.floatbank3_b_level  4859 non-null   float64\n",
            " 43  secondary_cleaner.state.floatbank4_a_air    4859 non-null   float64\n",
            " 44  secondary_cleaner.state.floatbank4_a_level  4859 non-null   float64\n",
            " 45  secondary_cleaner.state.floatbank4_b_air    4859 non-null   float64\n",
            " 46  secondary_cleaner.state.floatbank4_b_level  4859 non-null   float64\n",
            " 47  secondary_cleaner.state.floatbank5_a_air    4859 non-null   float64\n",
            " 48  secondary_cleaner.state.floatbank5_a_level  4859 non-null   float64\n",
            " 49  secondary_cleaner.state.floatbank5_b_air    4859 non-null   float64\n",
            " 50  secondary_cleaner.state.floatbank5_b_level  4859 non-null   float64\n",
            " 51  secondary_cleaner.state.floatbank6_a_air    4859 non-null   float64\n",
            " 52  secondary_cleaner.state.floatbank6_a_level  4859 non-null   float64\n",
            "dtypes: float64(52), object(1)\n",
            "memory usage: 2.0+ MB\n"
          ]
        }
      ],
      "source": [
        "test_df.info()"
      ]
    },
    {
      "cell_type": "code",
      "execution_count": null,
      "metadata": {
        "id": "pUzqoNjW0dos",
        "outputId": "32315ad7-999f-4f36-9065-766be66254d5",
        "colab": {
          "base_uri": "https://localhost:8080/",
          "height": 473
        }
      },
      "outputs": [
        {
          "output_type": "execute_result",
          "data": {
            "text/plain": [
              "                  date  rougher.input.feed_au  rougher.input.feed_ag  \\\n",
              "0  2017-12-09 14:59:59               4.365491               6.158718   \n",
              "1  2017-12-09 15:59:59               4.362781               6.048130   \n",
              "2  2017-12-09 16:59:59               5.081681               6.082745   \n",
              "3  2017-12-09 17:59:59               5.145949               6.084374   \n",
              "4  2017-12-09 18:59:59               5.735249               6.165220   \n",
              "\n",
              "   rougher.input.feed_pb  rougher.input.feed_sol  rougher.input.feed_rate  \\\n",
              "0               3.875727               39.135119               555.820208   \n",
              "1               3.902537               39.713906               544.731687   \n",
              "2               4.564078               37.208683               558.155110   \n",
              "3               4.768124               36.808874               539.713765   \n",
              "4               4.512346               37.810642               558.713584   \n",
              "\n",
              "   rougher.input.feed_size  rougher.input.floatbank10_sulfate  \\\n",
              "0                94.544358                           6.146982   \n",
              "1               123.742430                           6.210119   \n",
              "2                82.610855                           7.363824   \n",
              "3                77.984784                           6.927072   \n",
              "4                86.434874                           7.823471   \n",
              "\n",
              "   rougher.input.floatbank10_xanthate  rougher.state.floatbank10_a_air  ...  \\\n",
              "0                            9.308612                      1196.238112  ...   \n",
              "1                            9.297709                      1201.904177  ...   \n",
              "2                            9.003562                      1200.826926  ...   \n",
              "3                            8.955597                      1199.292489  ...   \n",
              "4                            7.490356                      1198.005449  ...   \n",
              "\n",
              "   secondary_cleaner.state.floatbank4_a_air  \\\n",
              "0                                 23.018622   \n",
              "1                                 23.024963   \n",
              "2                                 22.993827   \n",
              "3                                 23.032807   \n",
              "4                                 23.001911   \n",
              "\n",
              "   secondary_cleaner.state.floatbank4_a_level  \\\n",
              "0                                 -500.492702   \n",
              "1                                 -501.153409   \n",
              "2                                 -501.559663   \n",
              "3                                 -501.287889   \n",
              "4                                 -499.947838   \n",
              "\n",
              "   secondary_cleaner.state.floatbank4_b_air  \\\n",
              "0                                 20.020205   \n",
              "1                                 20.054122   \n",
              "2                                 20.029144   \n",
              "3                                 19.977466   \n",
              "4                                 20.023735   \n",
              "\n",
              "   secondary_cleaner.state.floatbank4_b_level  \\\n",
              "0                                 -500.220296   \n",
              "1                                 -500.314711   \n",
              "2                                 -500.000662   \n",
              "3                                 -500.159903   \n",
              "4                                 -499.713680   \n",
              "\n",
              "   secondary_cleaner.state.floatbank5_a_air  \\\n",
              "0                                 17.963512   \n",
              "1                                 17.979515   \n",
              "2                                 18.012723   \n",
              "3                                 17.980463   \n",
              "4                                 17.990955   \n",
              "\n",
              "   secondary_cleaner.state.floatbank5_a_level  \\\n",
              "0                                 -499.939490   \n",
              "1                                 -499.272871   \n",
              "2                                 -500.024764   \n",
              "3                                 -500.504602   \n",
              "4                                 -500.334769   \n",
              "\n",
              "   secondary_cleaner.state.floatbank5_b_air  \\\n",
              "0                                 12.990306   \n",
              "1                                 12.992404   \n",
              "2                                 13.016445   \n",
              "3                                 12.949071   \n",
              "4                                 13.007523   \n",
              "\n",
              "   secondary_cleaner.state.floatbank5_b_level  \\\n",
              "0                                 -500.080993   \n",
              "1                                 -499.976268   \n",
              "2                                 -500.058432   \n",
              "3                                 -500.009937   \n",
              "4                                 -499.968459   \n",
              "\n",
              "   secondary_cleaner.state.floatbank6_a_air  \\\n",
              "0                                 19.990336   \n",
              "1                                 20.013986   \n",
              "2                                 19.973767   \n",
              "3                                 20.010332   \n",
              "4                                 19.995999   \n",
              "\n",
              "   secondary_cleaner.state.floatbank6_a_level  \n",
              "0                                 -499.191575  \n",
              "1                                 -500.625471  \n",
              "2                                 -501.394155  \n",
              "3                                 -508.337973  \n",
              "4                                 -499.788805  \n",
              "\n",
              "[5 rows x 53 columns]"
            ],
            "text/html": [
              "\n",
              "  <div id=\"df-dec9c33a-53b1-4b8c-b02e-e017698175ad\">\n",
              "    <div class=\"colab-df-container\">\n",
              "      <div>\n",
              "<style scoped>\n",
              "    .dataframe tbody tr th:only-of-type {\n",
              "        vertical-align: middle;\n",
              "    }\n",
              "\n",
              "    .dataframe tbody tr th {\n",
              "        vertical-align: top;\n",
              "    }\n",
              "\n",
              "    .dataframe thead th {\n",
              "        text-align: right;\n",
              "    }\n",
              "</style>\n",
              "<table border=\"1\" class=\"dataframe\">\n",
              "  <thead>\n",
              "    <tr style=\"text-align: right;\">\n",
              "      <th></th>\n",
              "      <th>date</th>\n",
              "      <th>rougher.input.feed_au</th>\n",
              "      <th>rougher.input.feed_ag</th>\n",
              "      <th>rougher.input.feed_pb</th>\n",
              "      <th>rougher.input.feed_sol</th>\n",
              "      <th>rougher.input.feed_rate</th>\n",
              "      <th>rougher.input.feed_size</th>\n",
              "      <th>rougher.input.floatbank10_sulfate</th>\n",
              "      <th>rougher.input.floatbank10_xanthate</th>\n",
              "      <th>rougher.state.floatbank10_a_air</th>\n",
              "      <th>...</th>\n",
              "      <th>secondary_cleaner.state.floatbank4_a_air</th>\n",
              "      <th>secondary_cleaner.state.floatbank4_a_level</th>\n",
              "      <th>secondary_cleaner.state.floatbank4_b_air</th>\n",
              "      <th>secondary_cleaner.state.floatbank4_b_level</th>\n",
              "      <th>secondary_cleaner.state.floatbank5_a_air</th>\n",
              "      <th>secondary_cleaner.state.floatbank5_a_level</th>\n",
              "      <th>secondary_cleaner.state.floatbank5_b_air</th>\n",
              "      <th>secondary_cleaner.state.floatbank5_b_level</th>\n",
              "      <th>secondary_cleaner.state.floatbank6_a_air</th>\n",
              "      <th>secondary_cleaner.state.floatbank6_a_level</th>\n",
              "    </tr>\n",
              "  </thead>\n",
              "  <tbody>\n",
              "    <tr>\n",
              "      <th>0</th>\n",
              "      <td>2017-12-09 14:59:59</td>\n",
              "      <td>4.365491</td>\n",
              "      <td>6.158718</td>\n",
              "      <td>3.875727</td>\n",
              "      <td>39.135119</td>\n",
              "      <td>555.820208</td>\n",
              "      <td>94.544358</td>\n",
              "      <td>6.146982</td>\n",
              "      <td>9.308612</td>\n",
              "      <td>1196.238112</td>\n",
              "      <td>...</td>\n",
              "      <td>23.018622</td>\n",
              "      <td>-500.492702</td>\n",
              "      <td>20.020205</td>\n",
              "      <td>-500.220296</td>\n",
              "      <td>17.963512</td>\n",
              "      <td>-499.939490</td>\n",
              "      <td>12.990306</td>\n",
              "      <td>-500.080993</td>\n",
              "      <td>19.990336</td>\n",
              "      <td>-499.191575</td>\n",
              "    </tr>\n",
              "    <tr>\n",
              "      <th>1</th>\n",
              "      <td>2017-12-09 15:59:59</td>\n",
              "      <td>4.362781</td>\n",
              "      <td>6.048130</td>\n",
              "      <td>3.902537</td>\n",
              "      <td>39.713906</td>\n",
              "      <td>544.731687</td>\n",
              "      <td>123.742430</td>\n",
              "      <td>6.210119</td>\n",
              "      <td>9.297709</td>\n",
              "      <td>1201.904177</td>\n",
              "      <td>...</td>\n",
              "      <td>23.024963</td>\n",
              "      <td>-501.153409</td>\n",
              "      <td>20.054122</td>\n",
              "      <td>-500.314711</td>\n",
              "      <td>17.979515</td>\n",
              "      <td>-499.272871</td>\n",
              "      <td>12.992404</td>\n",
              "      <td>-499.976268</td>\n",
              "      <td>20.013986</td>\n",
              "      <td>-500.625471</td>\n",
              "    </tr>\n",
              "    <tr>\n",
              "      <th>2</th>\n",
              "      <td>2017-12-09 16:59:59</td>\n",
              "      <td>5.081681</td>\n",
              "      <td>6.082745</td>\n",
              "      <td>4.564078</td>\n",
              "      <td>37.208683</td>\n",
              "      <td>558.155110</td>\n",
              "      <td>82.610855</td>\n",
              "      <td>7.363824</td>\n",
              "      <td>9.003562</td>\n",
              "      <td>1200.826926</td>\n",
              "      <td>...</td>\n",
              "      <td>22.993827</td>\n",
              "      <td>-501.559663</td>\n",
              "      <td>20.029144</td>\n",
              "      <td>-500.000662</td>\n",
              "      <td>18.012723</td>\n",
              "      <td>-500.024764</td>\n",
              "      <td>13.016445</td>\n",
              "      <td>-500.058432</td>\n",
              "      <td>19.973767</td>\n",
              "      <td>-501.394155</td>\n",
              "    </tr>\n",
              "    <tr>\n",
              "      <th>3</th>\n",
              "      <td>2017-12-09 17:59:59</td>\n",
              "      <td>5.145949</td>\n",
              "      <td>6.084374</td>\n",
              "      <td>4.768124</td>\n",
              "      <td>36.808874</td>\n",
              "      <td>539.713765</td>\n",
              "      <td>77.984784</td>\n",
              "      <td>6.927072</td>\n",
              "      <td>8.955597</td>\n",
              "      <td>1199.292489</td>\n",
              "      <td>...</td>\n",
              "      <td>23.032807</td>\n",
              "      <td>-501.287889</td>\n",
              "      <td>19.977466</td>\n",
              "      <td>-500.159903</td>\n",
              "      <td>17.980463</td>\n",
              "      <td>-500.504602</td>\n",
              "      <td>12.949071</td>\n",
              "      <td>-500.009937</td>\n",
              "      <td>20.010332</td>\n",
              "      <td>-508.337973</td>\n",
              "    </tr>\n",
              "    <tr>\n",
              "      <th>4</th>\n",
              "      <td>2017-12-09 18:59:59</td>\n",
              "      <td>5.735249</td>\n",
              "      <td>6.165220</td>\n",
              "      <td>4.512346</td>\n",
              "      <td>37.810642</td>\n",
              "      <td>558.713584</td>\n",
              "      <td>86.434874</td>\n",
              "      <td>7.823471</td>\n",
              "      <td>7.490356</td>\n",
              "      <td>1198.005449</td>\n",
              "      <td>...</td>\n",
              "      <td>23.001911</td>\n",
              "      <td>-499.947838</td>\n",
              "      <td>20.023735</td>\n",
              "      <td>-499.713680</td>\n",
              "      <td>17.990955</td>\n",
              "      <td>-500.334769</td>\n",
              "      <td>13.007523</td>\n",
              "      <td>-499.968459</td>\n",
              "      <td>19.995999</td>\n",
              "      <td>-499.788805</td>\n",
              "    </tr>\n",
              "  </tbody>\n",
              "</table>\n",
              "<p>5 rows × 53 columns</p>\n",
              "</div>\n",
              "      <button class=\"colab-df-convert\" onclick=\"convertToInteractive('df-dec9c33a-53b1-4b8c-b02e-e017698175ad')\"\n",
              "              title=\"Convert this dataframe to an interactive table.\"\n",
              "              style=\"display:none;\">\n",
              "        \n",
              "  <svg xmlns=\"http://www.w3.org/2000/svg\" height=\"24px\"viewBox=\"0 0 24 24\"\n",
              "       width=\"24px\">\n",
              "    <path d=\"M0 0h24v24H0V0z\" fill=\"none\"/>\n",
              "    <path d=\"M18.56 5.44l.94 2.06.94-2.06 2.06-.94-2.06-.94-.94-2.06-.94 2.06-2.06.94zm-11 1L8.5 8.5l.94-2.06 2.06-.94-2.06-.94L8.5 2.5l-.94 2.06-2.06.94zm10 10l.94 2.06.94-2.06 2.06-.94-2.06-.94-.94-2.06-.94 2.06-2.06.94z\"/><path d=\"M17.41 7.96l-1.37-1.37c-.4-.4-.92-.59-1.43-.59-.52 0-1.04.2-1.43.59L10.3 9.45l-7.72 7.72c-.78.78-.78 2.05 0 2.83L4 21.41c.39.39.9.59 1.41.59.51 0 1.02-.2 1.41-.59l7.78-7.78 2.81-2.81c.8-.78.8-2.07 0-2.86zM5.41 20L4 18.59l7.72-7.72 1.47 1.35L5.41 20z\"/>\n",
              "  </svg>\n",
              "      </button>\n",
              "      \n",
              "  <style>\n",
              "    .colab-df-container {\n",
              "      display:flex;\n",
              "      flex-wrap:wrap;\n",
              "      gap: 12px;\n",
              "    }\n",
              "\n",
              "    .colab-df-convert {\n",
              "      background-color: #E8F0FE;\n",
              "      border: none;\n",
              "      border-radius: 50%;\n",
              "      cursor: pointer;\n",
              "      display: none;\n",
              "      fill: #1967D2;\n",
              "      height: 32px;\n",
              "      padding: 0 0 0 0;\n",
              "      width: 32px;\n",
              "    }\n",
              "\n",
              "    .colab-df-convert:hover {\n",
              "      background-color: #E2EBFA;\n",
              "      box-shadow: 0px 1px 2px rgba(60, 64, 67, 0.3), 0px 1px 3px 1px rgba(60, 64, 67, 0.15);\n",
              "      fill: #174EA6;\n",
              "    }\n",
              "\n",
              "    [theme=dark] .colab-df-convert {\n",
              "      background-color: #3B4455;\n",
              "      fill: #D2E3FC;\n",
              "    }\n",
              "\n",
              "    [theme=dark] .colab-df-convert:hover {\n",
              "      background-color: #434B5C;\n",
              "      box-shadow: 0px 1px 3px 1px rgba(0, 0, 0, 0.15);\n",
              "      filter: drop-shadow(0px 1px 2px rgba(0, 0, 0, 0.3));\n",
              "      fill: #FFFFFF;\n",
              "    }\n",
              "  </style>\n",
              "\n",
              "      <script>\n",
              "        const buttonEl =\n",
              "          document.querySelector('#df-dec9c33a-53b1-4b8c-b02e-e017698175ad button.colab-df-convert');\n",
              "        buttonEl.style.display =\n",
              "          google.colab.kernel.accessAllowed ? 'block' : 'none';\n",
              "\n",
              "        async function convertToInteractive(key) {\n",
              "          const element = document.querySelector('#df-dec9c33a-53b1-4b8c-b02e-e017698175ad');\n",
              "          const dataTable =\n",
              "            await google.colab.kernel.invokeFunction('convertToInteractive',\n",
              "                                                     [key], {});\n",
              "          if (!dataTable) return;\n",
              "\n",
              "          const docLinkHtml = 'Like what you see? Visit the ' +\n",
              "            '<a target=\"_blank\" href=https://colab.research.google.com/notebooks/data_table.ipynb>data table notebook</a>'\n",
              "            + ' to learn more about interactive tables.';\n",
              "          element.innerHTML = '';\n",
              "          dataTable['output_type'] = 'display_data';\n",
              "          await google.colab.output.renderOutput(dataTable, element);\n",
              "          const docLink = document.createElement('div');\n",
              "          docLink.innerHTML = docLinkHtml;\n",
              "          element.appendChild(docLink);\n",
              "        }\n",
              "      </script>\n",
              "    </div>\n",
              "  </div>\n",
              "  "
            ]
          },
          "metadata": {},
          "execution_count": 9
        }
      ],
      "source": [
        "test_df.head()"
      ]
    },
    {
      "cell_type": "code",
      "execution_count": null,
      "metadata": {
        "id": "cte7sCKf0dos",
        "outputId": "d8678488-4254-4e13-b11a-32fe19a28350",
        "colab": {
          "base_uri": "https://localhost:8080/",
          "height": 393
        }
      },
      "outputs": [
        {
          "output_type": "execute_result",
          "data": {
            "text/plain": [
              "       rougher.input.feed_au  rougher.input.feed_ag  rougher.input.feed_pb  \\\n",
              "count            4860.000000            4860.000000            4832.000000   \n",
              "mean                8.005584               8.547348               3.579662   \n",
              "std                 1.993590               1.958601               1.029377   \n",
              "min                 0.010000               0.010000               0.010000   \n",
              "25%                 6.574363               6.975898               2.903612   \n",
              "50%                 7.812923               8.179714               3.540772   \n",
              "75%                 9.556589              10.084339               4.199847   \n",
              "max                13.417156              14.533698               7.142594   \n",
              "\n",
              "       rougher.input.feed_sol  rougher.input.feed_rate  \\\n",
              "count             4838.000000              4856.000000   \n",
              "mean                37.095864               490.285103   \n",
              "std                  4.926284                94.371623   \n",
              "min                  0.010000                 0.012786   \n",
              "25%                 34.510841               434.099695   \n",
              "50%                 37.499761               502.118742   \n",
              "75%                 40.461315               555.596563   \n",
              "max                 53.477742               702.523396   \n",
              "\n",
              "       rougher.input.feed_size  rougher.input.floatbank10_sulfate  \\\n",
              "count              4816.000000                        4857.000000   \n",
              "mean                 59.113400                          12.055735   \n",
              "std                  19.125122                           3.407642   \n",
              "min                   0.046369                           0.018907   \n",
              "25%                  47.596984                           9.890429   \n",
              "50%                  55.509481                          11.997859   \n",
              "75%                  66.661547                          14.496072   \n",
              "max                 363.989699                          30.010759   \n",
              "\n",
              "       rougher.input.floatbank10_xanthate  rougher.state.floatbank10_a_air  \\\n",
              "count                         4859.000000                      4859.000000   \n",
              "mean                             6.101308                      1108.635895   \n",
              "std                              1.042754                       156.493143   \n",
              "min                              0.015783                       300.792494   \n",
              "25%                              5.499808                       999.715729   \n",
              "50%                              6.099805                      1001.414798   \n",
              "75%                              6.802101                      1202.837565   \n",
              "max                              9.396928                      1521.980372   \n",
              "\n",
              "       rougher.state.floatbank10_a_level  ...  \\\n",
              "count                        4859.000000  ...   \n",
              "mean                         -368.340127  ...   \n",
              "std                            91.155929  ...   \n",
              "min                          -600.568138  ...   \n",
              "25%                          -499.731972  ...   \n",
              "50%                          -300.181367  ...   \n",
              "75%                          -299.961547  ...   \n",
              "max                          -281.039299  ...   \n",
              "\n",
              "       secondary_cleaner.state.floatbank4_a_air  \\\n",
              "count                              4.859000e+03   \n",
              "mean                               1.985770e+01   \n",
              "std                                5.913105e+00   \n",
              "min                                1.079872e-16   \n",
              "25%                                1.501123e+01   \n",
              "50%                                1.996807e+01   \n",
              "75%                                2.498900e+01   \n",
              "max                                3.008450e+01   \n",
              "\n",
              "       secondary_cleaner.state.floatbank4_a_level  \\\n",
              "count                                 4859.000000   \n",
              "mean                                  -488.665140   \n",
              "std                                     44.392714   \n",
              "min                                   -799.704969   \n",
              "25%                                   -500.704004   \n",
              "50%                                   -499.892919   \n",
              "75%                                   -498.652030   \n",
              "max                                   -383.373053   \n",
              "\n",
              "       secondary_cleaner.state.floatbank4_b_air  \\\n",
              "count                              4.859000e+03   \n",
              "mean                               1.557025e+01   \n",
              "std                                4.927361e+00   \n",
              "min                                2.489718e-17   \n",
              "25%                                1.202172e+01   \n",
              "50%                                1.501240e+01   \n",
              "75%                                1.999949e+01   \n",
              "max                                2.398898e+01   \n",
              "\n",
              "       secondary_cleaner.state.floatbank4_b_level  \\\n",
              "count                                 4859.000000   \n",
              "mean                                  -464.176507   \n",
              "std                                     65.706994   \n",
              "min                                   -799.860767   \n",
              "25%                                   -500.196517   \n",
              "50%                                   -499.540776   \n",
              "75%                                   -400.302329   \n",
              "max                                   -114.250832   \n",
              "\n",
              "       secondary_cleaner.state.floatbank5_a_air  \\\n",
              "count                               4859.000000   \n",
              "mean                                  16.594103   \n",
              "std                                    5.724305   \n",
              "min                                   -0.371498   \n",
              "25%                                   11.073822   \n",
              "50%                                   16.631195   \n",
              "75%                                   19.983191   \n",
              "max                                   33.215996   \n",
              "\n",
              "       secondary_cleaner.state.floatbank5_a_level  \\\n",
              "count                                 4859.000000   \n",
              "mean                                  -490.815250   \n",
              "std                                     32.258443   \n",
              "min                                   -797.142475   \n",
              "25%                                   -500.483564   \n",
              "50%                                   -499.873136   \n",
              "75%                                   -498.852815   \n",
              "max                                   -288.963521   \n",
              "\n",
              "       secondary_cleaner.state.floatbank5_b_air  \\\n",
              "count                               4859.000000   \n",
              "mean                                  12.945971   \n",
              "std                                    5.533176   \n",
              "min                                    1.358469   \n",
              "25%                                    9.011890   \n",
              "50%                                   11.999417   \n",
              "75%                                   15.004198   \n",
              "max                                   24.177106   \n",
              "\n",
              "       secondary_cleaner.state.floatbank5_b_level  \\\n",
              "count                                 4859.000000   \n",
              "mean                                  -489.583564   \n",
              "std                                     37.084609   \n",
              "min                                   -800.006180   \n",
              "25%                                   -500.129913   \n",
              "50%                                   -499.955304   \n",
              "75%                                   -499.643776   \n",
              "max                                   -141.934397   \n",
              "\n",
              "       secondary_cleaner.state.floatbank6_a_air  \\\n",
              "count                               4859.000000   \n",
              "mean                                  19.053888   \n",
              "std                                    5.548996   \n",
              "min                                    0.160386   \n",
              "25%                                   14.963953   \n",
              "50%                                   19.960006   \n",
              "75%                                   24.974583   \n",
              "max                                   32.028529   \n",
              "\n",
              "       secondary_cleaner.state.floatbank6_a_level  \n",
              "count                                 4859.000000  \n",
              "mean                                  -504.678924  \n",
              "std                                     38.690186  \n",
              "min                                   -809.734800  \n",
              "25%                                   -500.668501  \n",
              "50%                                   -500.033769  \n",
              "75%                                   -499.460134  \n",
              "max                                   -104.427459  \n",
              "\n",
              "[8 rows x 52 columns]"
            ],
            "text/html": [
              "\n",
              "  <div id=\"df-3d38db39-448e-475f-a1f0-900d7c4d2c0a\">\n",
              "    <div class=\"colab-df-container\">\n",
              "      <div>\n",
              "<style scoped>\n",
              "    .dataframe tbody tr th:only-of-type {\n",
              "        vertical-align: middle;\n",
              "    }\n",
              "\n",
              "    .dataframe tbody tr th {\n",
              "        vertical-align: top;\n",
              "    }\n",
              "\n",
              "    .dataframe thead th {\n",
              "        text-align: right;\n",
              "    }\n",
              "</style>\n",
              "<table border=\"1\" class=\"dataframe\">\n",
              "  <thead>\n",
              "    <tr style=\"text-align: right;\">\n",
              "      <th></th>\n",
              "      <th>rougher.input.feed_au</th>\n",
              "      <th>rougher.input.feed_ag</th>\n",
              "      <th>rougher.input.feed_pb</th>\n",
              "      <th>rougher.input.feed_sol</th>\n",
              "      <th>rougher.input.feed_rate</th>\n",
              "      <th>rougher.input.feed_size</th>\n",
              "      <th>rougher.input.floatbank10_sulfate</th>\n",
              "      <th>rougher.input.floatbank10_xanthate</th>\n",
              "      <th>rougher.state.floatbank10_a_air</th>\n",
              "      <th>rougher.state.floatbank10_a_level</th>\n",
              "      <th>...</th>\n",
              "      <th>secondary_cleaner.state.floatbank4_a_air</th>\n",
              "      <th>secondary_cleaner.state.floatbank4_a_level</th>\n",
              "      <th>secondary_cleaner.state.floatbank4_b_air</th>\n",
              "      <th>secondary_cleaner.state.floatbank4_b_level</th>\n",
              "      <th>secondary_cleaner.state.floatbank5_a_air</th>\n",
              "      <th>secondary_cleaner.state.floatbank5_a_level</th>\n",
              "      <th>secondary_cleaner.state.floatbank5_b_air</th>\n",
              "      <th>secondary_cleaner.state.floatbank5_b_level</th>\n",
              "      <th>secondary_cleaner.state.floatbank6_a_air</th>\n",
              "      <th>secondary_cleaner.state.floatbank6_a_level</th>\n",
              "    </tr>\n",
              "  </thead>\n",
              "  <tbody>\n",
              "    <tr>\n",
              "      <th>count</th>\n",
              "      <td>4860.000000</td>\n",
              "      <td>4860.000000</td>\n",
              "      <td>4832.000000</td>\n",
              "      <td>4838.000000</td>\n",
              "      <td>4856.000000</td>\n",
              "      <td>4816.000000</td>\n",
              "      <td>4857.000000</td>\n",
              "      <td>4859.000000</td>\n",
              "      <td>4859.000000</td>\n",
              "      <td>4859.000000</td>\n",
              "      <td>...</td>\n",
              "      <td>4.859000e+03</td>\n",
              "      <td>4859.000000</td>\n",
              "      <td>4.859000e+03</td>\n",
              "      <td>4859.000000</td>\n",
              "      <td>4859.000000</td>\n",
              "      <td>4859.000000</td>\n",
              "      <td>4859.000000</td>\n",
              "      <td>4859.000000</td>\n",
              "      <td>4859.000000</td>\n",
              "      <td>4859.000000</td>\n",
              "    </tr>\n",
              "    <tr>\n",
              "      <th>mean</th>\n",
              "      <td>8.005584</td>\n",
              "      <td>8.547348</td>\n",
              "      <td>3.579662</td>\n",
              "      <td>37.095864</td>\n",
              "      <td>490.285103</td>\n",
              "      <td>59.113400</td>\n",
              "      <td>12.055735</td>\n",
              "      <td>6.101308</td>\n",
              "      <td>1108.635895</td>\n",
              "      <td>-368.340127</td>\n",
              "      <td>...</td>\n",
              "      <td>1.985770e+01</td>\n",
              "      <td>-488.665140</td>\n",
              "      <td>1.557025e+01</td>\n",
              "      <td>-464.176507</td>\n",
              "      <td>16.594103</td>\n",
              "      <td>-490.815250</td>\n",
              "      <td>12.945971</td>\n",
              "      <td>-489.583564</td>\n",
              "      <td>19.053888</td>\n",
              "      <td>-504.678924</td>\n",
              "    </tr>\n",
              "    <tr>\n",
              "      <th>std</th>\n",
              "      <td>1.993590</td>\n",
              "      <td>1.958601</td>\n",
              "      <td>1.029377</td>\n",
              "      <td>4.926284</td>\n",
              "      <td>94.371623</td>\n",
              "      <td>19.125122</td>\n",
              "      <td>3.407642</td>\n",
              "      <td>1.042754</td>\n",
              "      <td>156.493143</td>\n",
              "      <td>91.155929</td>\n",
              "      <td>...</td>\n",
              "      <td>5.913105e+00</td>\n",
              "      <td>44.392714</td>\n",
              "      <td>4.927361e+00</td>\n",
              "      <td>65.706994</td>\n",
              "      <td>5.724305</td>\n",
              "      <td>32.258443</td>\n",
              "      <td>5.533176</td>\n",
              "      <td>37.084609</td>\n",
              "      <td>5.548996</td>\n",
              "      <td>38.690186</td>\n",
              "    </tr>\n",
              "    <tr>\n",
              "      <th>min</th>\n",
              "      <td>0.010000</td>\n",
              "      <td>0.010000</td>\n",
              "      <td>0.010000</td>\n",
              "      <td>0.010000</td>\n",
              "      <td>0.012786</td>\n",
              "      <td>0.046369</td>\n",
              "      <td>0.018907</td>\n",
              "      <td>0.015783</td>\n",
              "      <td>300.792494</td>\n",
              "      <td>-600.568138</td>\n",
              "      <td>...</td>\n",
              "      <td>1.079872e-16</td>\n",
              "      <td>-799.704969</td>\n",
              "      <td>2.489718e-17</td>\n",
              "      <td>-799.860767</td>\n",
              "      <td>-0.371498</td>\n",
              "      <td>-797.142475</td>\n",
              "      <td>1.358469</td>\n",
              "      <td>-800.006180</td>\n",
              "      <td>0.160386</td>\n",
              "      <td>-809.734800</td>\n",
              "    </tr>\n",
              "    <tr>\n",
              "      <th>25%</th>\n",
              "      <td>6.574363</td>\n",
              "      <td>6.975898</td>\n",
              "      <td>2.903612</td>\n",
              "      <td>34.510841</td>\n",
              "      <td>434.099695</td>\n",
              "      <td>47.596984</td>\n",
              "      <td>9.890429</td>\n",
              "      <td>5.499808</td>\n",
              "      <td>999.715729</td>\n",
              "      <td>-499.731972</td>\n",
              "      <td>...</td>\n",
              "      <td>1.501123e+01</td>\n",
              "      <td>-500.704004</td>\n",
              "      <td>1.202172e+01</td>\n",
              "      <td>-500.196517</td>\n",
              "      <td>11.073822</td>\n",
              "      <td>-500.483564</td>\n",
              "      <td>9.011890</td>\n",
              "      <td>-500.129913</td>\n",
              "      <td>14.963953</td>\n",
              "      <td>-500.668501</td>\n",
              "    </tr>\n",
              "    <tr>\n",
              "      <th>50%</th>\n",
              "      <td>7.812923</td>\n",
              "      <td>8.179714</td>\n",
              "      <td>3.540772</td>\n",
              "      <td>37.499761</td>\n",
              "      <td>502.118742</td>\n",
              "      <td>55.509481</td>\n",
              "      <td>11.997859</td>\n",
              "      <td>6.099805</td>\n",
              "      <td>1001.414798</td>\n",
              "      <td>-300.181367</td>\n",
              "      <td>...</td>\n",
              "      <td>1.996807e+01</td>\n",
              "      <td>-499.892919</td>\n",
              "      <td>1.501240e+01</td>\n",
              "      <td>-499.540776</td>\n",
              "      <td>16.631195</td>\n",
              "      <td>-499.873136</td>\n",
              "      <td>11.999417</td>\n",
              "      <td>-499.955304</td>\n",
              "      <td>19.960006</td>\n",
              "      <td>-500.033769</td>\n",
              "    </tr>\n",
              "    <tr>\n",
              "      <th>75%</th>\n",
              "      <td>9.556589</td>\n",
              "      <td>10.084339</td>\n",
              "      <td>4.199847</td>\n",
              "      <td>40.461315</td>\n",
              "      <td>555.596563</td>\n",
              "      <td>66.661547</td>\n",
              "      <td>14.496072</td>\n",
              "      <td>6.802101</td>\n",
              "      <td>1202.837565</td>\n",
              "      <td>-299.961547</td>\n",
              "      <td>...</td>\n",
              "      <td>2.498900e+01</td>\n",
              "      <td>-498.652030</td>\n",
              "      <td>1.999949e+01</td>\n",
              "      <td>-400.302329</td>\n",
              "      <td>19.983191</td>\n",
              "      <td>-498.852815</td>\n",
              "      <td>15.004198</td>\n",
              "      <td>-499.643776</td>\n",
              "      <td>24.974583</td>\n",
              "      <td>-499.460134</td>\n",
              "    </tr>\n",
              "    <tr>\n",
              "      <th>max</th>\n",
              "      <td>13.417156</td>\n",
              "      <td>14.533698</td>\n",
              "      <td>7.142594</td>\n",
              "      <td>53.477742</td>\n",
              "      <td>702.523396</td>\n",
              "      <td>363.989699</td>\n",
              "      <td>30.010759</td>\n",
              "      <td>9.396928</td>\n",
              "      <td>1521.980372</td>\n",
              "      <td>-281.039299</td>\n",
              "      <td>...</td>\n",
              "      <td>3.008450e+01</td>\n",
              "      <td>-383.373053</td>\n",
              "      <td>2.398898e+01</td>\n",
              "      <td>-114.250832</td>\n",
              "      <td>33.215996</td>\n",
              "      <td>-288.963521</td>\n",
              "      <td>24.177106</td>\n",
              "      <td>-141.934397</td>\n",
              "      <td>32.028529</td>\n",
              "      <td>-104.427459</td>\n",
              "    </tr>\n",
              "  </tbody>\n",
              "</table>\n",
              "<p>8 rows × 52 columns</p>\n",
              "</div>\n",
              "      <button class=\"colab-df-convert\" onclick=\"convertToInteractive('df-3d38db39-448e-475f-a1f0-900d7c4d2c0a')\"\n",
              "              title=\"Convert this dataframe to an interactive table.\"\n",
              "              style=\"display:none;\">\n",
              "        \n",
              "  <svg xmlns=\"http://www.w3.org/2000/svg\" height=\"24px\"viewBox=\"0 0 24 24\"\n",
              "       width=\"24px\">\n",
              "    <path d=\"M0 0h24v24H0V0z\" fill=\"none\"/>\n",
              "    <path d=\"M18.56 5.44l.94 2.06.94-2.06 2.06-.94-2.06-.94-.94-2.06-.94 2.06-2.06.94zm-11 1L8.5 8.5l.94-2.06 2.06-.94-2.06-.94L8.5 2.5l-.94 2.06-2.06.94zm10 10l.94 2.06.94-2.06 2.06-.94-2.06-.94-.94-2.06-.94 2.06-2.06.94z\"/><path d=\"M17.41 7.96l-1.37-1.37c-.4-.4-.92-.59-1.43-.59-.52 0-1.04.2-1.43.59L10.3 9.45l-7.72 7.72c-.78.78-.78 2.05 0 2.83L4 21.41c.39.39.9.59 1.41.59.51 0 1.02-.2 1.41-.59l7.78-7.78 2.81-2.81c.8-.78.8-2.07 0-2.86zM5.41 20L4 18.59l7.72-7.72 1.47 1.35L5.41 20z\"/>\n",
              "  </svg>\n",
              "      </button>\n",
              "      \n",
              "  <style>\n",
              "    .colab-df-container {\n",
              "      display:flex;\n",
              "      flex-wrap:wrap;\n",
              "      gap: 12px;\n",
              "    }\n",
              "\n",
              "    .colab-df-convert {\n",
              "      background-color: #E8F0FE;\n",
              "      border: none;\n",
              "      border-radius: 50%;\n",
              "      cursor: pointer;\n",
              "      display: none;\n",
              "      fill: #1967D2;\n",
              "      height: 32px;\n",
              "      padding: 0 0 0 0;\n",
              "      width: 32px;\n",
              "    }\n",
              "\n",
              "    .colab-df-convert:hover {\n",
              "      background-color: #E2EBFA;\n",
              "      box-shadow: 0px 1px 2px rgba(60, 64, 67, 0.3), 0px 1px 3px 1px rgba(60, 64, 67, 0.15);\n",
              "      fill: #174EA6;\n",
              "    }\n",
              "\n",
              "    [theme=dark] .colab-df-convert {\n",
              "      background-color: #3B4455;\n",
              "      fill: #D2E3FC;\n",
              "    }\n",
              "\n",
              "    [theme=dark] .colab-df-convert:hover {\n",
              "      background-color: #434B5C;\n",
              "      box-shadow: 0px 1px 3px 1px rgba(0, 0, 0, 0.15);\n",
              "      filter: drop-shadow(0px 1px 2px rgba(0, 0, 0, 0.3));\n",
              "      fill: #FFFFFF;\n",
              "    }\n",
              "  </style>\n",
              "\n",
              "      <script>\n",
              "        const buttonEl =\n",
              "          document.querySelector('#df-3d38db39-448e-475f-a1f0-900d7c4d2c0a button.colab-df-convert');\n",
              "        buttonEl.style.display =\n",
              "          google.colab.kernel.accessAllowed ? 'block' : 'none';\n",
              "\n",
              "        async function convertToInteractive(key) {\n",
              "          const element = document.querySelector('#df-3d38db39-448e-475f-a1f0-900d7c4d2c0a');\n",
              "          const dataTable =\n",
              "            await google.colab.kernel.invokeFunction('convertToInteractive',\n",
              "                                                     [key], {});\n",
              "          if (!dataTable) return;\n",
              "\n",
              "          const docLinkHtml = 'Like what you see? Visit the ' +\n",
              "            '<a target=\"_blank\" href=https://colab.research.google.com/notebooks/data_table.ipynb>data table notebook</a>'\n",
              "            + ' to learn more about interactive tables.';\n",
              "          element.innerHTML = '';\n",
              "          dataTable['output_type'] = 'display_data';\n",
              "          await google.colab.output.renderOutput(dataTable, element);\n",
              "          const docLink = document.createElement('div');\n",
              "          docLink.innerHTML = docLinkHtml;\n",
              "          element.appendChild(docLink);\n",
              "        }\n",
              "      </script>\n",
              "    </div>\n",
              "  </div>\n",
              "  "
            ]
          },
          "metadata": {},
          "execution_count": 10
        }
      ],
      "source": [
        "test_df.describe()"
      ]
    },
    {
      "cell_type": "code",
      "execution_count": null,
      "metadata": {
        "id": "HwbHXqk50dos",
        "outputId": "af9d24c4-b96b-4b0b-ad4f-d08fa31aedd9",
        "colab": {
          "base_uri": "https://localhost:8080/"
        }
      },
      "outputs": [
        {
          "output_type": "stream",
          "name": "stdout",
          "text": [
            "Количество дубликатов в датасете: 0\n"
          ]
        }
      ],
      "source": [
        "print(f'Количество дубликатов в датасете: {test_df.duplicated().sum()}')"
      ]
    },
    {
      "cell_type": "code",
      "execution_count": null,
      "metadata": {
        "scrolled": true,
        "id": "_SRFM98W0dot",
        "outputId": "20cb4e26-7880-4036-ea7e-c1a802ec9a4e",
        "colab": {
          "base_uri": "https://localhost:8080/"
        }
      },
      "outputs": [
        {
          "output_type": "stream",
          "name": "stdout",
          "text": [
            "<class 'pandas.core.frame.DataFrame'>\n",
            "RangeIndex: 14579 entries, 0 to 14578\n",
            "Data columns (total 87 columns):\n",
            " #   Column                                              Non-Null Count  Dtype  \n",
            "---  ------                                              --------------  -----  \n",
            " 0   date                                                14579 non-null  object \n",
            " 1   rougher.input.feed_au                               14579 non-null  float64\n",
            " 2   rougher.input.feed_ag                               14579 non-null  float64\n",
            " 3   rougher.input.feed_pb                               14507 non-null  float64\n",
            " 4   rougher.input.feed_sol                              14502 non-null  float64\n",
            " 5   rougher.input.feed_rate                             14572 non-null  float64\n",
            " 6   rougher.input.feed_size                             14478 non-null  float64\n",
            " 7   rougher.input.floatbank10_sulfate                   14548 non-null  float64\n",
            " 8   rougher.input.floatbank10_xanthate                  14572 non-null  float64\n",
            " 9   rougher.state.floatbank10_a_air                     14579 non-null  float64\n",
            " 10  rougher.state.floatbank10_a_level                   14579 non-null  float64\n",
            " 11  rougher.state.floatbank10_b_air                     14579 non-null  float64\n",
            " 12  rougher.state.floatbank10_b_level                   14579 non-null  float64\n",
            " 13  rougher.state.floatbank10_c_air                     14579 non-null  float64\n",
            " 14  rougher.state.floatbank10_c_level                   14579 non-null  float64\n",
            " 15  rougher.state.floatbank10_d_air                     14579 non-null  float64\n",
            " 16  rougher.state.floatbank10_d_level                   14579 non-null  float64\n",
            " 17  rougher.state.floatbank10_e_air                     14150 non-null  float64\n",
            " 18  rougher.state.floatbank10_e_level                   14579 non-null  float64\n",
            " 19  rougher.state.floatbank10_f_air                     14579 non-null  float64\n",
            " 20  rougher.state.floatbank10_f_level                   14579 non-null  float64\n",
            " 21  rougher.input.floatbank11_sulfate                   14543 non-null  float64\n",
            " 22  rougher.input.floatbank11_xanthate                  14172 non-null  float64\n",
            " 23  rougher.calculation.sulfate_to_au_concentrate       14578 non-null  float64\n",
            " 24  rougher.calculation.floatbank10_sulfate_to_au_feed  14578 non-null  float64\n",
            " 25  rougher.calculation.floatbank11_sulfate_to_au_feed  14578 non-null  float64\n",
            " 26  rougher.calculation.au_pb_ratio                     14579 non-null  float64\n",
            " 27  rougher.output.concentrate_au                       14579 non-null  float64\n",
            " 28  rougher.output.concentrate_ag                       14579 non-null  float64\n",
            " 29  rougher.output.concentrate_pb                       14579 non-null  float64\n",
            " 30  rougher.output.concentrate_sol                      14561 non-null  float64\n",
            " 31  rougher.output.recovery                             14579 non-null  float64\n",
            " 32  rougher.output.tail_au                              14579 non-null  float64\n",
            " 33  rougher.output.tail_ag                              14578 non-null  float64\n",
            " 34  rougher.output.tail_pb                              14579 non-null  float64\n",
            " 35  rougher.output.tail_sol                             14579 non-null  float64\n",
            " 36  primary_cleaner.input.sulfate                       14556 non-null  float64\n",
            " 37  primary_cleaner.input.depressant                    14551 non-null  float64\n",
            " 38  primary_cleaner.input.feed_size                     14579 non-null  float64\n",
            " 39  primary_cleaner.input.xanthate                      14518 non-null  float64\n",
            " 40  primary_cleaner.state.floatbank8_a_air              14576 non-null  float64\n",
            " 41  primary_cleaner.state.floatbank8_a_level            14579 non-null  float64\n",
            " 42  primary_cleaner.state.floatbank8_b_air              14576 non-null  float64\n",
            " 43  primary_cleaner.state.floatbank8_b_level            14579 non-null  float64\n",
            " 44  primary_cleaner.state.floatbank8_c_air              14579 non-null  float64\n",
            " 45  primary_cleaner.state.floatbank8_c_level            14579 non-null  float64\n",
            " 46  primary_cleaner.state.floatbank8_d_air              14578 non-null  float64\n",
            " 47  primary_cleaner.state.floatbank8_d_level            14579 non-null  float64\n",
            " 48  primary_cleaner.output.concentrate_au               14579 non-null  float64\n",
            " 49  primary_cleaner.output.concentrate_ag               14579 non-null  float64\n",
            " 50  primary_cleaner.output.concentrate_pb               14491 non-null  float64\n",
            " 51  primary_cleaner.output.concentrate_sol              14314 non-null  float64\n",
            " 52  primary_cleaner.output.tail_au                      14579 non-null  float64\n",
            " 53  primary_cleaner.output.tail_ag                      14575 non-null  float64\n",
            " 54  primary_cleaner.output.tail_pb                      14573 non-null  float64\n",
            " 55  primary_cleaner.output.tail_sol                     14534 non-null  float64\n",
            " 56  secondary_cleaner.state.floatbank2_a_air            14485 non-null  float64\n",
            " 57  secondary_cleaner.state.floatbank2_a_level          14579 non-null  float64\n",
            " 58  secondary_cleaner.state.floatbank2_b_air            14557 non-null  float64\n",
            " 59  secondary_cleaner.state.floatbank2_b_level          14579 non-null  float64\n",
            " 60  secondary_cleaner.state.floatbank3_a_air            14567 non-null  float64\n",
            " 61  secondary_cleaner.state.floatbank3_a_level          14579 non-null  float64\n",
            " 62  secondary_cleaner.state.floatbank3_b_air            14579 non-null  float64\n",
            " 63  secondary_cleaner.state.floatbank3_b_level          14579 non-null  float64\n",
            " 64  secondary_cleaner.state.floatbank4_a_air            14574 non-null  float64\n",
            " 65  secondary_cleaner.state.floatbank4_a_level          14579 non-null  float64\n",
            " 66  secondary_cleaner.state.floatbank4_b_air            14579 non-null  float64\n",
            " 67  secondary_cleaner.state.floatbank4_b_level          14579 non-null  float64\n",
            " 68  secondary_cleaner.state.floatbank5_a_air            14579 non-null  float64\n",
            " 69  secondary_cleaner.state.floatbank5_a_level          14579 non-null  float64\n",
            " 70  secondary_cleaner.state.floatbank5_b_air            14579 non-null  float64\n",
            " 71  secondary_cleaner.state.floatbank5_b_level          14579 non-null  float64\n",
            " 72  secondary_cleaner.state.floatbank6_a_air            14578 non-null  float64\n",
            " 73  secondary_cleaner.state.floatbank6_a_level          14579 non-null  float64\n",
            " 74  secondary_cleaner.output.tail_au                    14579 non-null  float64\n",
            " 75  secondary_cleaner.output.tail_ag                    14578 non-null  float64\n",
            " 76  secondary_cleaner.output.tail_pb                    14575 non-null  float64\n",
            " 77  secondary_cleaner.output.tail_sol                   13659 non-null  float64\n",
            " 78  final.output.concentrate_au                         14579 non-null  float64\n",
            " 79  final.output.concentrate_ag                         14578 non-null  float64\n",
            " 80  final.output.concentrate_pb                         14578 non-null  float64\n",
            " 81  final.output.concentrate_sol                        14387 non-null  float64\n",
            " 82  final.output.recovery                               14579 non-null  float64\n",
            " 83  final.output.tail_au                                14579 non-null  float64\n",
            " 84  final.output.tail_ag                                14578 non-null  float64\n",
            " 85  final.output.tail_pb                                14504 non-null  float64\n",
            " 86  final.output.tail_sol                               14574 non-null  float64\n",
            "dtypes: float64(86), object(1)\n",
            "memory usage: 9.7+ MB\n"
          ]
        }
      ],
      "source": [
        "full_df.info()"
      ]
    },
    {
      "cell_type": "code",
      "execution_count": null,
      "metadata": {
        "id": "DDCuXkn90dot",
        "outputId": "bb279f3b-6708-45ad-d142-3548dd008167",
        "colab": {
          "base_uri": "https://localhost:8080/",
          "height": 473
        }
      },
      "outputs": [
        {
          "output_type": "execute_result",
          "data": {
            "text/plain": [
              "                  date  rougher.input.feed_au  rougher.input.feed_ag  \\\n",
              "0  2016-01-15 00:00:00               6.486150               6.100378   \n",
              "1  2016-01-15 01:00:00               6.478583               6.161113   \n",
              "2  2016-01-15 02:00:00               6.362222               6.116455   \n",
              "3  2016-01-15 03:00:00               6.118189               6.043309   \n",
              "4  2016-01-15 04:00:00               5.663707               6.060915   \n",
              "\n",
              "   rougher.input.feed_pb  rougher.input.feed_sol  rougher.input.feed_rate  \\\n",
              "0               2.284912               36.808594               523.546326   \n",
              "1               2.266033               35.753385               525.290581   \n",
              "2               2.159622               35.971630               530.026610   \n",
              "3               2.037807               36.862241               542.590390   \n",
              "4               1.786875               34.347666               540.531893   \n",
              "\n",
              "   rougher.input.feed_size  rougher.input.floatbank10_sulfate  \\\n",
              "0                55.486599                          11.986616   \n",
              "1                57.278666                          11.971193   \n",
              "2                57.510649                          11.920603   \n",
              "3                57.792734                          11.630094   \n",
              "4                56.047189                          10.957755   \n",
              "\n",
              "   rougher.input.floatbank10_xanthate  rougher.state.floatbank10_a_air  ...  \\\n",
              "0                            6.007990                       999.706909  ...   \n",
              "1                            6.005766                      1000.286398  ...   \n",
              "2                            6.197377                       999.719565  ...   \n",
              "3                            6.203177                       999.814770  ...   \n",
              "4                            6.198826                       999.678690  ...   \n",
              "\n",
              "   secondary_cleaner.output.tail_sol  final.output.concentrate_au  \\\n",
              "0                           8.764648                    42.192020   \n",
              "1                           9.001494                    42.701629   \n",
              "2                           8.842896                    42.657501   \n",
              "3                           9.122857                    42.689819   \n",
              "4                           8.871028                    42.774141   \n",
              "\n",
              "   final.output.concentrate_ag  final.output.concentrate_pb  \\\n",
              "0                     6.055403                     9.889648   \n",
              "1                     6.029369                     9.968944   \n",
              "2                     6.055926                    10.213995   \n",
              "3                     6.047977                     9.977019   \n",
              "4                     6.148599                    10.142511   \n",
              "\n",
              "   final.output.concentrate_sol  final.output.recovery  final.output.tail_au  \\\n",
              "0                      5.507324              70.541216              2.143149   \n",
              "1                      5.257781              69.266198              2.224930   \n",
              "2                      5.383759              68.116445              2.257889   \n",
              "3                      4.858634              68.347543              2.146849   \n",
              "4                      4.939416              66.927016              2.055292   \n",
              "\n",
              "   final.output.tail_ag  final.output.tail_pb  final.output.tail_sol  \n",
              "0             10.411962              0.895447              16.904297  \n",
              "1             10.462676              0.927452              16.634514  \n",
              "2             10.507046              0.953716              16.208849  \n",
              "3             10.422762              0.883763              16.532835  \n",
              "4             10.360302              0.792826              16.525686  \n",
              "\n",
              "[5 rows x 87 columns]"
            ],
            "text/html": [
              "\n",
              "  <div id=\"df-54b7eb21-d2f1-41ec-8865-a5257b7f858f\">\n",
              "    <div class=\"colab-df-container\">\n",
              "      <div>\n",
              "<style scoped>\n",
              "    .dataframe tbody tr th:only-of-type {\n",
              "        vertical-align: middle;\n",
              "    }\n",
              "\n",
              "    .dataframe tbody tr th {\n",
              "        vertical-align: top;\n",
              "    }\n",
              "\n",
              "    .dataframe thead th {\n",
              "        text-align: right;\n",
              "    }\n",
              "</style>\n",
              "<table border=\"1\" class=\"dataframe\">\n",
              "  <thead>\n",
              "    <tr style=\"text-align: right;\">\n",
              "      <th></th>\n",
              "      <th>date</th>\n",
              "      <th>rougher.input.feed_au</th>\n",
              "      <th>rougher.input.feed_ag</th>\n",
              "      <th>rougher.input.feed_pb</th>\n",
              "      <th>rougher.input.feed_sol</th>\n",
              "      <th>rougher.input.feed_rate</th>\n",
              "      <th>rougher.input.feed_size</th>\n",
              "      <th>rougher.input.floatbank10_sulfate</th>\n",
              "      <th>rougher.input.floatbank10_xanthate</th>\n",
              "      <th>rougher.state.floatbank10_a_air</th>\n",
              "      <th>...</th>\n",
              "      <th>secondary_cleaner.output.tail_sol</th>\n",
              "      <th>final.output.concentrate_au</th>\n",
              "      <th>final.output.concentrate_ag</th>\n",
              "      <th>final.output.concentrate_pb</th>\n",
              "      <th>final.output.concentrate_sol</th>\n",
              "      <th>final.output.recovery</th>\n",
              "      <th>final.output.tail_au</th>\n",
              "      <th>final.output.tail_ag</th>\n",
              "      <th>final.output.tail_pb</th>\n",
              "      <th>final.output.tail_sol</th>\n",
              "    </tr>\n",
              "  </thead>\n",
              "  <tbody>\n",
              "    <tr>\n",
              "      <th>0</th>\n",
              "      <td>2016-01-15 00:00:00</td>\n",
              "      <td>6.486150</td>\n",
              "      <td>6.100378</td>\n",
              "      <td>2.284912</td>\n",
              "      <td>36.808594</td>\n",
              "      <td>523.546326</td>\n",
              "      <td>55.486599</td>\n",
              "      <td>11.986616</td>\n",
              "      <td>6.007990</td>\n",
              "      <td>999.706909</td>\n",
              "      <td>...</td>\n",
              "      <td>8.764648</td>\n",
              "      <td>42.192020</td>\n",
              "      <td>6.055403</td>\n",
              "      <td>9.889648</td>\n",
              "      <td>5.507324</td>\n",
              "      <td>70.541216</td>\n",
              "      <td>2.143149</td>\n",
              "      <td>10.411962</td>\n",
              "      <td>0.895447</td>\n",
              "      <td>16.904297</td>\n",
              "    </tr>\n",
              "    <tr>\n",
              "      <th>1</th>\n",
              "      <td>2016-01-15 01:00:00</td>\n",
              "      <td>6.478583</td>\n",
              "      <td>6.161113</td>\n",
              "      <td>2.266033</td>\n",
              "      <td>35.753385</td>\n",
              "      <td>525.290581</td>\n",
              "      <td>57.278666</td>\n",
              "      <td>11.971193</td>\n",
              "      <td>6.005766</td>\n",
              "      <td>1000.286398</td>\n",
              "      <td>...</td>\n",
              "      <td>9.001494</td>\n",
              "      <td>42.701629</td>\n",
              "      <td>6.029369</td>\n",
              "      <td>9.968944</td>\n",
              "      <td>5.257781</td>\n",
              "      <td>69.266198</td>\n",
              "      <td>2.224930</td>\n",
              "      <td>10.462676</td>\n",
              "      <td>0.927452</td>\n",
              "      <td>16.634514</td>\n",
              "    </tr>\n",
              "    <tr>\n",
              "      <th>2</th>\n",
              "      <td>2016-01-15 02:00:00</td>\n",
              "      <td>6.362222</td>\n",
              "      <td>6.116455</td>\n",
              "      <td>2.159622</td>\n",
              "      <td>35.971630</td>\n",
              "      <td>530.026610</td>\n",
              "      <td>57.510649</td>\n",
              "      <td>11.920603</td>\n",
              "      <td>6.197377</td>\n",
              "      <td>999.719565</td>\n",
              "      <td>...</td>\n",
              "      <td>8.842896</td>\n",
              "      <td>42.657501</td>\n",
              "      <td>6.055926</td>\n",
              "      <td>10.213995</td>\n",
              "      <td>5.383759</td>\n",
              "      <td>68.116445</td>\n",
              "      <td>2.257889</td>\n",
              "      <td>10.507046</td>\n",
              "      <td>0.953716</td>\n",
              "      <td>16.208849</td>\n",
              "    </tr>\n",
              "    <tr>\n",
              "      <th>3</th>\n",
              "      <td>2016-01-15 03:00:00</td>\n",
              "      <td>6.118189</td>\n",
              "      <td>6.043309</td>\n",
              "      <td>2.037807</td>\n",
              "      <td>36.862241</td>\n",
              "      <td>542.590390</td>\n",
              "      <td>57.792734</td>\n",
              "      <td>11.630094</td>\n",
              "      <td>6.203177</td>\n",
              "      <td>999.814770</td>\n",
              "      <td>...</td>\n",
              "      <td>9.122857</td>\n",
              "      <td>42.689819</td>\n",
              "      <td>6.047977</td>\n",
              "      <td>9.977019</td>\n",
              "      <td>4.858634</td>\n",
              "      <td>68.347543</td>\n",
              "      <td>2.146849</td>\n",
              "      <td>10.422762</td>\n",
              "      <td>0.883763</td>\n",
              "      <td>16.532835</td>\n",
              "    </tr>\n",
              "    <tr>\n",
              "      <th>4</th>\n",
              "      <td>2016-01-15 04:00:00</td>\n",
              "      <td>5.663707</td>\n",
              "      <td>6.060915</td>\n",
              "      <td>1.786875</td>\n",
              "      <td>34.347666</td>\n",
              "      <td>540.531893</td>\n",
              "      <td>56.047189</td>\n",
              "      <td>10.957755</td>\n",
              "      <td>6.198826</td>\n",
              "      <td>999.678690</td>\n",
              "      <td>...</td>\n",
              "      <td>8.871028</td>\n",
              "      <td>42.774141</td>\n",
              "      <td>6.148599</td>\n",
              "      <td>10.142511</td>\n",
              "      <td>4.939416</td>\n",
              "      <td>66.927016</td>\n",
              "      <td>2.055292</td>\n",
              "      <td>10.360302</td>\n",
              "      <td>0.792826</td>\n",
              "      <td>16.525686</td>\n",
              "    </tr>\n",
              "  </tbody>\n",
              "</table>\n",
              "<p>5 rows × 87 columns</p>\n",
              "</div>\n",
              "      <button class=\"colab-df-convert\" onclick=\"convertToInteractive('df-54b7eb21-d2f1-41ec-8865-a5257b7f858f')\"\n",
              "              title=\"Convert this dataframe to an interactive table.\"\n",
              "              style=\"display:none;\">\n",
              "        \n",
              "  <svg xmlns=\"http://www.w3.org/2000/svg\" height=\"24px\"viewBox=\"0 0 24 24\"\n",
              "       width=\"24px\">\n",
              "    <path d=\"M0 0h24v24H0V0z\" fill=\"none\"/>\n",
              "    <path d=\"M18.56 5.44l.94 2.06.94-2.06 2.06-.94-2.06-.94-.94-2.06-.94 2.06-2.06.94zm-11 1L8.5 8.5l.94-2.06 2.06-.94-2.06-.94L8.5 2.5l-.94 2.06-2.06.94zm10 10l.94 2.06.94-2.06 2.06-.94-2.06-.94-.94-2.06-.94 2.06-2.06.94z\"/><path d=\"M17.41 7.96l-1.37-1.37c-.4-.4-.92-.59-1.43-.59-.52 0-1.04.2-1.43.59L10.3 9.45l-7.72 7.72c-.78.78-.78 2.05 0 2.83L4 21.41c.39.39.9.59 1.41.59.51 0 1.02-.2 1.41-.59l7.78-7.78 2.81-2.81c.8-.78.8-2.07 0-2.86zM5.41 20L4 18.59l7.72-7.72 1.47 1.35L5.41 20z\"/>\n",
              "  </svg>\n",
              "      </button>\n",
              "      \n",
              "  <style>\n",
              "    .colab-df-container {\n",
              "      display:flex;\n",
              "      flex-wrap:wrap;\n",
              "      gap: 12px;\n",
              "    }\n",
              "\n",
              "    .colab-df-convert {\n",
              "      background-color: #E8F0FE;\n",
              "      border: none;\n",
              "      border-radius: 50%;\n",
              "      cursor: pointer;\n",
              "      display: none;\n",
              "      fill: #1967D2;\n",
              "      height: 32px;\n",
              "      padding: 0 0 0 0;\n",
              "      width: 32px;\n",
              "    }\n",
              "\n",
              "    .colab-df-convert:hover {\n",
              "      background-color: #E2EBFA;\n",
              "      box-shadow: 0px 1px 2px rgba(60, 64, 67, 0.3), 0px 1px 3px 1px rgba(60, 64, 67, 0.15);\n",
              "      fill: #174EA6;\n",
              "    }\n",
              "\n",
              "    [theme=dark] .colab-df-convert {\n",
              "      background-color: #3B4455;\n",
              "      fill: #D2E3FC;\n",
              "    }\n",
              "\n",
              "    [theme=dark] .colab-df-convert:hover {\n",
              "      background-color: #434B5C;\n",
              "      box-shadow: 0px 1px 3px 1px rgba(0, 0, 0, 0.15);\n",
              "      filter: drop-shadow(0px 1px 2px rgba(0, 0, 0, 0.3));\n",
              "      fill: #FFFFFF;\n",
              "    }\n",
              "  </style>\n",
              "\n",
              "      <script>\n",
              "        const buttonEl =\n",
              "          document.querySelector('#df-54b7eb21-d2f1-41ec-8865-a5257b7f858f button.colab-df-convert');\n",
              "        buttonEl.style.display =\n",
              "          google.colab.kernel.accessAllowed ? 'block' : 'none';\n",
              "\n",
              "        async function convertToInteractive(key) {\n",
              "          const element = document.querySelector('#df-54b7eb21-d2f1-41ec-8865-a5257b7f858f');\n",
              "          const dataTable =\n",
              "            await google.colab.kernel.invokeFunction('convertToInteractive',\n",
              "                                                     [key], {});\n",
              "          if (!dataTable) return;\n",
              "\n",
              "          const docLinkHtml = 'Like what you see? Visit the ' +\n",
              "            '<a target=\"_blank\" href=https://colab.research.google.com/notebooks/data_table.ipynb>data table notebook</a>'\n",
              "            + ' to learn more about interactive tables.';\n",
              "          element.innerHTML = '';\n",
              "          dataTable['output_type'] = 'display_data';\n",
              "          await google.colab.output.renderOutput(dataTable, element);\n",
              "          const docLink = document.createElement('div');\n",
              "          docLink.innerHTML = docLinkHtml;\n",
              "          element.appendChild(docLink);\n",
              "        }\n",
              "      </script>\n",
              "    </div>\n",
              "  </div>\n",
              "  "
            ]
          },
          "metadata": {},
          "execution_count": 13
        }
      ],
      "source": [
        "full_df.head()"
      ]
    },
    {
      "cell_type": "code",
      "execution_count": null,
      "metadata": {
        "id": "bWGVUz-_0dot",
        "outputId": "dd548ff1-4714-417b-fadc-b8ea58bb7207",
        "colab": {
          "base_uri": "https://localhost:8080/",
          "height": 393
        }
      },
      "outputs": [
        {
          "output_type": "execute_result",
          "data": {
            "text/plain": [
              "       rougher.input.feed_au  rougher.input.feed_ag  rougher.input.feed_pb  \\\n",
              "count           14579.000000           14579.000000           14507.000000   \n",
              "mean                8.352941               8.877460               3.604221   \n",
              "std                 1.934376               1.922536               1.056063   \n",
              "min                 0.010000               0.010000               0.010000   \n",
              "25%                 6.932996               7.341922               2.880490   \n",
              "50%                 8.225284               8.715859               3.532399   \n",
              "75%                 9.832210              10.255843               4.257282   \n",
              "max                13.731330              14.596026               7.052325   \n",
              "\n",
              "       rougher.input.feed_sol  rougher.input.feed_rate  \\\n",
              "count            14502.000000             14572.000000   \n",
              "mean                36.561420               474.332784   \n",
              "std                  5.209823               108.503552   \n",
              "min                  0.010000                 0.002986   \n",
              "25%                 34.093951               411.048483   \n",
              "50%                 37.097511               498.187968   \n",
              "75%                 39.899799               549.586552   \n",
              "max                 53.475325               717.508837   \n",
              "\n",
              "       rougher.input.feed_size  rougher.input.floatbank10_sulfate  \\\n",
              "count             14478.000000                       14548.000000   \n",
              "mean                 58.922712                          12.427399   \n",
              "std                  22.407410                           3.428939   \n",
              "min                   0.049194                           0.001083   \n",
              "25%                  47.278490                          10.002832   \n",
              "50%                  54.361187                          12.003320   \n",
              "75%                  64.464926                          14.929903   \n",
              "max                 484.967466                          36.118275   \n",
              "\n",
              "       rougher.input.floatbank10_xanthate  rougher.state.floatbank10_a_air  \\\n",
              "count                        14572.000000                     14579.000000   \n",
              "mean                             5.994854                      1104.208278   \n",
              "std                              1.152873                       162.235606   \n",
              "min                              0.000568                        -0.042069   \n",
              "25%                              5.304167                       999.644856   \n",
              "50%                              6.003053                      1000.982624   \n",
              "75%                              6.796632                      1292.663971   \n",
              "max                              9.703448                      1512.299531   \n",
              "\n",
              "       rougher.state.floatbank10_a_level  ...  \\\n",
              "count                       14579.000000  ...   \n",
              "mean                         -379.367166  ...   \n",
              "std                            94.652311  ...   \n",
              "min                          -657.949759  ...   \n",
              "25%                          -499.861797  ...   \n",
              "50%                          -300.314199  ...   \n",
              "75%                          -299.989315  ...   \n",
              "max                          -273.776101  ...   \n",
              "\n",
              "       secondary_cleaner.output.tail_sol  final.output.concentrate_au  \\\n",
              "count                       13659.000000                 14579.000000   \n",
              "mean                            7.111347                    43.979499   \n",
              "std                             3.909951                     5.471437   \n",
              "min                             0.000000                     0.000000   \n",
              "25%                             3.784897                    43.345906   \n",
              "50%                             7.629968                    44.975014   \n",
              "75%                            10.367050                    46.275153   \n",
              "max                            26.000772                    52.756638   \n",
              "\n",
              "       final.output.concentrate_ag  final.output.concentrate_pb  \\\n",
              "count                 14578.000000                 14578.000000   \n",
              "mean                      5.192145                     9.923809   \n",
              "std                       1.388014                     1.706976   \n",
              "min                       0.000000                     0.000000   \n",
              "25%                       4.283347                     9.103183   \n",
              "50%                       5.118647                    10.046455   \n",
              "75%                       5.925380                    10.981203   \n",
              "max                      16.001945                    16.705297   \n",
              "\n",
              "       final.output.concentrate_sol  final.output.recovery  \\\n",
              "count                  14387.000000           14579.000000   \n",
              "mean                       9.566676              66.759066   \n",
              "std                        2.805654              10.619709   \n",
              "min                        0.000000               0.000000   \n",
              "25%                        7.860030              63.114596   \n",
              "50%                        9.301970              67.962788   \n",
              "75%                       11.001573              72.598187   \n",
              "max                       19.423912             100.000000   \n",
              "\n",
              "       final.output.tail_au  final.output.tail_ag  final.output.tail_pb  \\\n",
              "count          14579.000000          14578.000000          14504.000000   \n",
              "mean               3.087939              9.731972              2.719985   \n",
              "std                0.915187              2.358143              0.958929   \n",
              "min                0.000000              0.000000              0.000000   \n",
              "25%                2.505287              8.088928              2.036512   \n",
              "50%                3.029238              9.818512              2.774847   \n",
              "75%                3.614098             11.169187              3.353845   \n",
              "max                8.245022             19.552149              5.804178   \n",
              "\n",
              "       final.output.tail_sol  \n",
              "count           14574.000000  \n",
              "mean               10.612745  \n",
              "std                 2.871075  \n",
              "min                 0.000000  \n",
              "25%                 9.013412  \n",
              "50%                10.670515  \n",
              "75%                12.130827  \n",
              "max                22.317730  \n",
              "\n",
              "[8 rows x 86 columns]"
            ],
            "text/html": [
              "\n",
              "  <div id=\"df-3a359611-84d6-4ee0-9e11-eea7ccdd7a1f\">\n",
              "    <div class=\"colab-df-container\">\n",
              "      <div>\n",
              "<style scoped>\n",
              "    .dataframe tbody tr th:only-of-type {\n",
              "        vertical-align: middle;\n",
              "    }\n",
              "\n",
              "    .dataframe tbody tr th {\n",
              "        vertical-align: top;\n",
              "    }\n",
              "\n",
              "    .dataframe thead th {\n",
              "        text-align: right;\n",
              "    }\n",
              "</style>\n",
              "<table border=\"1\" class=\"dataframe\">\n",
              "  <thead>\n",
              "    <tr style=\"text-align: right;\">\n",
              "      <th></th>\n",
              "      <th>rougher.input.feed_au</th>\n",
              "      <th>rougher.input.feed_ag</th>\n",
              "      <th>rougher.input.feed_pb</th>\n",
              "      <th>rougher.input.feed_sol</th>\n",
              "      <th>rougher.input.feed_rate</th>\n",
              "      <th>rougher.input.feed_size</th>\n",
              "      <th>rougher.input.floatbank10_sulfate</th>\n",
              "      <th>rougher.input.floatbank10_xanthate</th>\n",
              "      <th>rougher.state.floatbank10_a_air</th>\n",
              "      <th>rougher.state.floatbank10_a_level</th>\n",
              "      <th>...</th>\n",
              "      <th>secondary_cleaner.output.tail_sol</th>\n",
              "      <th>final.output.concentrate_au</th>\n",
              "      <th>final.output.concentrate_ag</th>\n",
              "      <th>final.output.concentrate_pb</th>\n",
              "      <th>final.output.concentrate_sol</th>\n",
              "      <th>final.output.recovery</th>\n",
              "      <th>final.output.tail_au</th>\n",
              "      <th>final.output.tail_ag</th>\n",
              "      <th>final.output.tail_pb</th>\n",
              "      <th>final.output.tail_sol</th>\n",
              "    </tr>\n",
              "  </thead>\n",
              "  <tbody>\n",
              "    <tr>\n",
              "      <th>count</th>\n",
              "      <td>14579.000000</td>\n",
              "      <td>14579.000000</td>\n",
              "      <td>14507.000000</td>\n",
              "      <td>14502.000000</td>\n",
              "      <td>14572.000000</td>\n",
              "      <td>14478.000000</td>\n",
              "      <td>14548.000000</td>\n",
              "      <td>14572.000000</td>\n",
              "      <td>14579.000000</td>\n",
              "      <td>14579.000000</td>\n",
              "      <td>...</td>\n",
              "      <td>13659.000000</td>\n",
              "      <td>14579.000000</td>\n",
              "      <td>14578.000000</td>\n",
              "      <td>14578.000000</td>\n",
              "      <td>14387.000000</td>\n",
              "      <td>14579.000000</td>\n",
              "      <td>14579.000000</td>\n",
              "      <td>14578.000000</td>\n",
              "      <td>14504.000000</td>\n",
              "      <td>14574.000000</td>\n",
              "    </tr>\n",
              "    <tr>\n",
              "      <th>mean</th>\n",
              "      <td>8.352941</td>\n",
              "      <td>8.877460</td>\n",
              "      <td>3.604221</td>\n",
              "      <td>36.561420</td>\n",
              "      <td>474.332784</td>\n",
              "      <td>58.922712</td>\n",
              "      <td>12.427399</td>\n",
              "      <td>5.994854</td>\n",
              "      <td>1104.208278</td>\n",
              "      <td>-379.367166</td>\n",
              "      <td>...</td>\n",
              "      <td>7.111347</td>\n",
              "      <td>43.979499</td>\n",
              "      <td>5.192145</td>\n",
              "      <td>9.923809</td>\n",
              "      <td>9.566676</td>\n",
              "      <td>66.759066</td>\n",
              "      <td>3.087939</td>\n",
              "      <td>9.731972</td>\n",
              "      <td>2.719985</td>\n",
              "      <td>10.612745</td>\n",
              "    </tr>\n",
              "    <tr>\n",
              "      <th>std</th>\n",
              "      <td>1.934376</td>\n",
              "      <td>1.922536</td>\n",
              "      <td>1.056063</td>\n",
              "      <td>5.209823</td>\n",
              "      <td>108.503552</td>\n",
              "      <td>22.407410</td>\n",
              "      <td>3.428939</td>\n",
              "      <td>1.152873</td>\n",
              "      <td>162.235606</td>\n",
              "      <td>94.652311</td>\n",
              "      <td>...</td>\n",
              "      <td>3.909951</td>\n",
              "      <td>5.471437</td>\n",
              "      <td>1.388014</td>\n",
              "      <td>1.706976</td>\n",
              "      <td>2.805654</td>\n",
              "      <td>10.619709</td>\n",
              "      <td>0.915187</td>\n",
              "      <td>2.358143</td>\n",
              "      <td>0.958929</td>\n",
              "      <td>2.871075</td>\n",
              "    </tr>\n",
              "    <tr>\n",
              "      <th>min</th>\n",
              "      <td>0.010000</td>\n",
              "      <td>0.010000</td>\n",
              "      <td>0.010000</td>\n",
              "      <td>0.010000</td>\n",
              "      <td>0.002986</td>\n",
              "      <td>0.049194</td>\n",
              "      <td>0.001083</td>\n",
              "      <td>0.000568</td>\n",
              "      <td>-0.042069</td>\n",
              "      <td>-657.949759</td>\n",
              "      <td>...</td>\n",
              "      <td>0.000000</td>\n",
              "      <td>0.000000</td>\n",
              "      <td>0.000000</td>\n",
              "      <td>0.000000</td>\n",
              "      <td>0.000000</td>\n",
              "      <td>0.000000</td>\n",
              "      <td>0.000000</td>\n",
              "      <td>0.000000</td>\n",
              "      <td>0.000000</td>\n",
              "      <td>0.000000</td>\n",
              "    </tr>\n",
              "    <tr>\n",
              "      <th>25%</th>\n",
              "      <td>6.932996</td>\n",
              "      <td>7.341922</td>\n",
              "      <td>2.880490</td>\n",
              "      <td>34.093951</td>\n",
              "      <td>411.048483</td>\n",
              "      <td>47.278490</td>\n",
              "      <td>10.002832</td>\n",
              "      <td>5.304167</td>\n",
              "      <td>999.644856</td>\n",
              "      <td>-499.861797</td>\n",
              "      <td>...</td>\n",
              "      <td>3.784897</td>\n",
              "      <td>43.345906</td>\n",
              "      <td>4.283347</td>\n",
              "      <td>9.103183</td>\n",
              "      <td>7.860030</td>\n",
              "      <td>63.114596</td>\n",
              "      <td>2.505287</td>\n",
              "      <td>8.088928</td>\n",
              "      <td>2.036512</td>\n",
              "      <td>9.013412</td>\n",
              "    </tr>\n",
              "    <tr>\n",
              "      <th>50%</th>\n",
              "      <td>8.225284</td>\n",
              "      <td>8.715859</td>\n",
              "      <td>3.532399</td>\n",
              "      <td>37.097511</td>\n",
              "      <td>498.187968</td>\n",
              "      <td>54.361187</td>\n",
              "      <td>12.003320</td>\n",
              "      <td>6.003053</td>\n",
              "      <td>1000.982624</td>\n",
              "      <td>-300.314199</td>\n",
              "      <td>...</td>\n",
              "      <td>7.629968</td>\n",
              "      <td>44.975014</td>\n",
              "      <td>5.118647</td>\n",
              "      <td>10.046455</td>\n",
              "      <td>9.301970</td>\n",
              "      <td>67.962788</td>\n",
              "      <td>3.029238</td>\n",
              "      <td>9.818512</td>\n",
              "      <td>2.774847</td>\n",
              "      <td>10.670515</td>\n",
              "    </tr>\n",
              "    <tr>\n",
              "      <th>75%</th>\n",
              "      <td>9.832210</td>\n",
              "      <td>10.255843</td>\n",
              "      <td>4.257282</td>\n",
              "      <td>39.899799</td>\n",
              "      <td>549.586552</td>\n",
              "      <td>64.464926</td>\n",
              "      <td>14.929903</td>\n",
              "      <td>6.796632</td>\n",
              "      <td>1292.663971</td>\n",
              "      <td>-299.989315</td>\n",
              "      <td>...</td>\n",
              "      <td>10.367050</td>\n",
              "      <td>46.275153</td>\n",
              "      <td>5.925380</td>\n",
              "      <td>10.981203</td>\n",
              "      <td>11.001573</td>\n",
              "      <td>72.598187</td>\n",
              "      <td>3.614098</td>\n",
              "      <td>11.169187</td>\n",
              "      <td>3.353845</td>\n",
              "      <td>12.130827</td>\n",
              "    </tr>\n",
              "    <tr>\n",
              "      <th>max</th>\n",
              "      <td>13.731330</td>\n",
              "      <td>14.596026</td>\n",
              "      <td>7.052325</td>\n",
              "      <td>53.475325</td>\n",
              "      <td>717.508837</td>\n",
              "      <td>484.967466</td>\n",
              "      <td>36.118275</td>\n",
              "      <td>9.703448</td>\n",
              "      <td>1512.299531</td>\n",
              "      <td>-273.776101</td>\n",
              "      <td>...</td>\n",
              "      <td>26.000772</td>\n",
              "      <td>52.756638</td>\n",
              "      <td>16.001945</td>\n",
              "      <td>16.705297</td>\n",
              "      <td>19.423912</td>\n",
              "      <td>100.000000</td>\n",
              "      <td>8.245022</td>\n",
              "      <td>19.552149</td>\n",
              "      <td>5.804178</td>\n",
              "      <td>22.317730</td>\n",
              "    </tr>\n",
              "  </tbody>\n",
              "</table>\n",
              "<p>8 rows × 86 columns</p>\n",
              "</div>\n",
              "      <button class=\"colab-df-convert\" onclick=\"convertToInteractive('df-3a359611-84d6-4ee0-9e11-eea7ccdd7a1f')\"\n",
              "              title=\"Convert this dataframe to an interactive table.\"\n",
              "              style=\"display:none;\">\n",
              "        \n",
              "  <svg xmlns=\"http://www.w3.org/2000/svg\" height=\"24px\"viewBox=\"0 0 24 24\"\n",
              "       width=\"24px\">\n",
              "    <path d=\"M0 0h24v24H0V0z\" fill=\"none\"/>\n",
              "    <path d=\"M18.56 5.44l.94 2.06.94-2.06 2.06-.94-2.06-.94-.94-2.06-.94 2.06-2.06.94zm-11 1L8.5 8.5l.94-2.06 2.06-.94-2.06-.94L8.5 2.5l-.94 2.06-2.06.94zm10 10l.94 2.06.94-2.06 2.06-.94-2.06-.94-.94-2.06-.94 2.06-2.06.94z\"/><path d=\"M17.41 7.96l-1.37-1.37c-.4-.4-.92-.59-1.43-.59-.52 0-1.04.2-1.43.59L10.3 9.45l-7.72 7.72c-.78.78-.78 2.05 0 2.83L4 21.41c.39.39.9.59 1.41.59.51 0 1.02-.2 1.41-.59l7.78-7.78 2.81-2.81c.8-.78.8-2.07 0-2.86zM5.41 20L4 18.59l7.72-7.72 1.47 1.35L5.41 20z\"/>\n",
              "  </svg>\n",
              "      </button>\n",
              "      \n",
              "  <style>\n",
              "    .colab-df-container {\n",
              "      display:flex;\n",
              "      flex-wrap:wrap;\n",
              "      gap: 12px;\n",
              "    }\n",
              "\n",
              "    .colab-df-convert {\n",
              "      background-color: #E8F0FE;\n",
              "      border: none;\n",
              "      border-radius: 50%;\n",
              "      cursor: pointer;\n",
              "      display: none;\n",
              "      fill: #1967D2;\n",
              "      height: 32px;\n",
              "      padding: 0 0 0 0;\n",
              "      width: 32px;\n",
              "    }\n",
              "\n",
              "    .colab-df-convert:hover {\n",
              "      background-color: #E2EBFA;\n",
              "      box-shadow: 0px 1px 2px rgba(60, 64, 67, 0.3), 0px 1px 3px 1px rgba(60, 64, 67, 0.15);\n",
              "      fill: #174EA6;\n",
              "    }\n",
              "\n",
              "    [theme=dark] .colab-df-convert {\n",
              "      background-color: #3B4455;\n",
              "      fill: #D2E3FC;\n",
              "    }\n",
              "\n",
              "    [theme=dark] .colab-df-convert:hover {\n",
              "      background-color: #434B5C;\n",
              "      box-shadow: 0px 1px 3px 1px rgba(0, 0, 0, 0.15);\n",
              "      filter: drop-shadow(0px 1px 2px rgba(0, 0, 0, 0.3));\n",
              "      fill: #FFFFFF;\n",
              "    }\n",
              "  </style>\n",
              "\n",
              "      <script>\n",
              "        const buttonEl =\n",
              "          document.querySelector('#df-3a359611-84d6-4ee0-9e11-eea7ccdd7a1f button.colab-df-convert');\n",
              "        buttonEl.style.display =\n",
              "          google.colab.kernel.accessAllowed ? 'block' : 'none';\n",
              "\n",
              "        async function convertToInteractive(key) {\n",
              "          const element = document.querySelector('#df-3a359611-84d6-4ee0-9e11-eea7ccdd7a1f');\n",
              "          const dataTable =\n",
              "            await google.colab.kernel.invokeFunction('convertToInteractive',\n",
              "                                                     [key], {});\n",
              "          if (!dataTable) return;\n",
              "\n",
              "          const docLinkHtml = 'Like what you see? Visit the ' +\n",
              "            '<a target=\"_blank\" href=https://colab.research.google.com/notebooks/data_table.ipynb>data table notebook</a>'\n",
              "            + ' to learn more about interactive tables.';\n",
              "          element.innerHTML = '';\n",
              "          dataTable['output_type'] = 'display_data';\n",
              "          await google.colab.output.renderOutput(dataTable, element);\n",
              "          const docLink = document.createElement('div');\n",
              "          docLink.innerHTML = docLinkHtml;\n",
              "          element.appendChild(docLink);\n",
              "        }\n",
              "      </script>\n",
              "    </div>\n",
              "  </div>\n",
              "  "
            ]
          },
          "metadata": {},
          "execution_count": 14
        }
      ],
      "source": [
        "full_df.describe()"
      ]
    },
    {
      "cell_type": "code",
      "execution_count": null,
      "metadata": {
        "id": "9o8O-qZU0dot",
        "outputId": "198c8f4d-90e8-40b9-b976-f9f81b51c33f",
        "colab": {
          "base_uri": "https://localhost:8080/"
        }
      },
      "outputs": [
        {
          "output_type": "stream",
          "name": "stdout",
          "text": [
            "Количество дубликатов в датасете: 0\n"
          ]
        }
      ],
      "source": [
        "print(f'Количество дубликатов в датасете: {full_df.duplicated().sum()}')"
      ]
    },
    {
      "cell_type": "markdown",
      "metadata": {
        "id": "RrR9S2560dou"
      },
      "source": [
        "Видно следующее:\n",
        "\n",
        " - В датасетах есть пропуски.\n",
        " - В датасете с тестовыми данными отсуствует часть признаков, которые есть в датасете с обучающими данными.\n",
        " - Явных дубликатов в датасетах нет."
      ]
    },
    {
      "cell_type": "markdown",
      "metadata": {
        "id": "LubYn43U0dou"
      },
      "source": [
        "## Проверка значений эффективности обогащения."
      ]
    },
    {
      "cell_type": "markdown",
      "metadata": {
        "id": "2fpC5tsO0dou"
      },
      "source": [
        "Проверим формулу вычисления эффективности обогащения. Она имеет вид:\n",
        "\n",
        "\n",
        "![image.png](data:image/png;base64,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)\n",
        "\n",
        "где:\n",
        "\n",
        "C - доля золота в концентрате после флотации/очистки;\n",
        "\n",
        "F - доля золота в сырье/концентрате до флотации/очистки;\n",
        "\n",
        "T - доля золота в отвальных хвостах после флотации/очистки."
      ]
    },
    {
      "cell_type": "markdown",
      "metadata": {
        "id": "5KhqviiJ0dou"
      },
      "source": [
        "Напишем функцию для расчёта и применим на наших тестовых данных. Далее выведем информацию о расчётных данных."
      ]
    },
    {
      "cell_type": "code",
      "execution_count": null,
      "metadata": {
        "id": "6YfYA4rG0dou"
      },
      "outputs": [],
      "source": [
        "def recovery_calc(C, F, T):\n",
        "    return ((C*(F-T))/(F*(C-T)))*100"
      ]
    },
    {
      "cell_type": "code",
      "execution_count": null,
      "metadata": {
        "id": "cWgsXGaM0dov",
        "outputId": "274dfa6c-9db9-4416-e092-099d7305bb0a",
        "colab": {
          "base_uri": "https://localhost:8080/"
        }
      },
      "outputs": [
        {
          "output_type": "execute_result",
          "data": {
            "text/plain": [
              "count    19439.000000\n",
              "mean        83.328587\n",
              "std         14.148086\n",
              "min         -0.000000\n",
              "25%         81.037957\n",
              "50%         86.188892\n",
              "75%         90.010670\n",
              "max        100.000000\n",
              "dtype: float64"
            ]
          },
          "metadata": {},
          "execution_count": 17
        }
      ],
      "source": [
        "recovery = recovery_calc(\n",
        "    train_df['rougher.output.concentrate_au'],\n",
        "    train_df['rougher.input.feed_au'],\n",
        "    train_df['rougher.output.tail_au'],\n",
        ")\n",
        "recovery = pd.Series(recovery)\n",
        "recovery.describe()"
      ]
    },
    {
      "cell_type": "markdown",
      "metadata": {
        "id": "sfG8CjW40dov"
      },
      "source": [
        "Сравним наши расчётные значения с заданным в датасете, основываясь на средней абсолютной ошибке (MAE)."
      ]
    },
    {
      "cell_type": "code",
      "execution_count": null,
      "metadata": {
        "id": "uW4HCNo30dov",
        "outputId": "39e281d1-f298-4ad7-a762-290f366e9a10",
        "colab": {
          "base_uri": "https://localhost:8080/"
        }
      },
      "outputs": [
        {
          "output_type": "stream",
          "name": "stdout",
          "text": [
            "MAE = 9.871121473701021e-15\n"
          ]
        }
      ],
      "source": [
        "mae_recovery = mean_absolute_error(recovery.dropna(),train_df['rougher.output.recovery'].dropna())\n",
        "print('MAE =', mae_recovery)"
      ]
    },
    {
      "cell_type": "markdown",
      "metadata": {
        "id": "1x8ppKn90dov"
      },
      "source": [
        "Значение MAE крайне мало, следовательно, эффективность обогащения в данных рассчитана верно."
      ]
    },
    {
      "cell_type": "markdown",
      "metadata": {
        "id": "k_vrPoFm0dov"
      },
      "source": [
        "## Поиск отсутствующих признаков и пропущенных значений."
      ]
    },
    {
      "cell_type": "markdown",
      "metadata": {
        "id": "bwpF4s700dow"
      },
      "source": [
        "Найдём отсутствующие в тестовых данных признаки и посмотрим, какой тип у их значений."
      ]
    },
    {
      "cell_type": "code",
      "execution_count": null,
      "metadata": {
        "scrolled": true,
        "id": "jJ7DMMCz0dow",
        "outputId": "3a9316d6-31d7-48b7-e059-d12bd54c0d08",
        "colab": {
          "base_uri": "https://localhost:8080/"
        }
      },
      "outputs": [
        {
          "output_type": "execute_result",
          "data": {
            "text/plain": [
              "{'final.output.concentrate_ag',\n",
              " 'final.output.concentrate_au',\n",
              " 'final.output.concentrate_pb',\n",
              " 'final.output.concentrate_sol',\n",
              " 'final.output.recovery',\n",
              " 'final.output.tail_ag',\n",
              " 'final.output.tail_au',\n",
              " 'final.output.tail_pb',\n",
              " 'final.output.tail_sol',\n",
              " 'primary_cleaner.output.concentrate_ag',\n",
              " 'primary_cleaner.output.concentrate_au',\n",
              " 'primary_cleaner.output.concentrate_pb',\n",
              " 'primary_cleaner.output.concentrate_sol',\n",
              " 'primary_cleaner.output.tail_ag',\n",
              " 'primary_cleaner.output.tail_au',\n",
              " 'primary_cleaner.output.tail_pb',\n",
              " 'primary_cleaner.output.tail_sol',\n",
              " 'rougher.calculation.au_pb_ratio',\n",
              " 'rougher.calculation.floatbank10_sulfate_to_au_feed',\n",
              " 'rougher.calculation.floatbank11_sulfate_to_au_feed',\n",
              " 'rougher.calculation.sulfate_to_au_concentrate',\n",
              " 'rougher.output.concentrate_ag',\n",
              " 'rougher.output.concentrate_au',\n",
              " 'rougher.output.concentrate_pb',\n",
              " 'rougher.output.concentrate_sol',\n",
              " 'rougher.output.recovery',\n",
              " 'rougher.output.tail_ag',\n",
              " 'rougher.output.tail_au',\n",
              " 'rougher.output.tail_pb',\n",
              " 'rougher.output.tail_sol',\n",
              " 'secondary_cleaner.output.tail_ag',\n",
              " 'secondary_cleaner.output.tail_au',\n",
              " 'secondary_cleaner.output.tail_pb',\n",
              " 'secondary_cleaner.output.tail_sol'}"
            ]
          },
          "metadata": {},
          "execution_count": 19
        }
      ],
      "source": [
        "missing_features = set(train_df.columns.to_list())-set(test_df.columns.to_list())\n",
        "missing_features"
      ]
    },
    {
      "cell_type": "code",
      "execution_count": null,
      "metadata": {
        "scrolled": true,
        "id": "erPoxfgt0dow",
        "outputId": "613320bb-d806-48c1-d09c-50ea05dea120",
        "colab": {
          "base_uri": "https://localhost:8080/"
        }
      },
      "outputs": [
        {
          "output_type": "execute_result",
          "data": {
            "text/plain": [
              "final.output.concentrate_sol                          float64\n",
              "primary_cleaner.output.tail_au                        float64\n",
              "primary_cleaner.output.tail_sol                       float64\n",
              "secondary_cleaner.output.tail_au                      float64\n",
              "rougher.output.recovery                               float64\n",
              "primary_cleaner.output.tail_pb                        float64\n",
              "primary_cleaner.output.concentrate_sol                float64\n",
              "final.output.tail_pb                                  float64\n",
              "rougher.output.tail_sol                               float64\n",
              "final.output.concentrate_au                           float64\n",
              "rougher.output.concentrate_ag                         float64\n",
              "secondary_cleaner.output.tail_sol                     float64\n",
              "final.output.tail_sol                                 float64\n",
              "primary_cleaner.output.concentrate_ag                 float64\n",
              "primary_cleaner.output.concentrate_pb                 float64\n",
              "rougher.output.concentrate_pb                         float64\n",
              "rougher.output.tail_pb                                float64\n",
              "primary_cleaner.output.concentrate_au                 float64\n",
              "final.output.recovery                                 float64\n",
              "rougher.calculation.au_pb_ratio                       float64\n",
              "secondary_cleaner.output.tail_ag                      float64\n",
              "rougher.calculation.floatbank10_sulfate_to_au_feed    float64\n",
              "rougher.output.concentrate_au                         float64\n",
              "rougher.output.tail_au                                float64\n",
              "rougher.calculation.floatbank11_sulfate_to_au_feed    float64\n",
              "secondary_cleaner.output.tail_pb                      float64\n",
              "final.output.concentrate_pb                           float64\n",
              "final.output.tail_ag                                  float64\n",
              "rougher.output.concentrate_sol                        float64\n",
              "primary_cleaner.output.tail_ag                        float64\n",
              "rougher.calculation.sulfate_to_au_concentrate         float64\n",
              "final.output.tail_au                                  float64\n",
              "rougher.output.tail_ag                                float64\n",
              "final.output.concentrate_ag                           float64\n",
              "dtype: object"
            ]
          },
          "metadata": {},
          "execution_count": 20
        }
      ],
      "source": [
        "train_df[missing_features].dtypes"
      ]
    },
    {
      "cell_type": "markdown",
      "metadata": {
        "id": "Tcf5EDiH0dow"
      },
      "source": [
        "Мы видим, что:\n",
        "\n",
        " - Все значения отсутствующих признаков имеют одинаковый тип float64.\n",
        " - Часть отстутсвующих признаков имеют слово output в названии. Это целевые признаки.\n",
        " - Другая часть недостающих признаков имеют в своём названии слово calculation. Возможно, эти признаки считаются уже по результатам завершенного процесса."
      ]
    },
    {
      "cell_type": "markdown",
      "metadata": {
        "id": "R-QH-ect0do1"
      },
      "source": [
        "Изучим датасеты на наличие пропусков."
      ]
    },
    {
      "cell_type": "code",
      "execution_count": null,
      "metadata": {
        "id": "-hipQGgn0do1",
        "outputId": "5694396c-40ce-41e5-e2e8-39721435a95d",
        "colab": {
          "base_uri": "https://localhost:8080/",
          "height": 1000
        }
      },
      "outputs": [
        {
          "output_type": "execute_result",
          "data": {
            "text/plain": [
              "<pandas.io.formats.style.Styler at 0x7fdc871cb700>"
            ],
            "text/html": [
              "<style type=\"text/css\">\n",
              "#T_06764_row0_col0, #T_06764_row1_col0, #T_06764_row2_col0, #T_06764_row5_col0, #T_06764_row7_col0, #T_06764_row8_col0, #T_06764_row9_col0, #T_06764_row10_col0, #T_06764_row11_col0, #T_06764_row12_col0, #T_06764_row13_col0, #T_06764_row14_col0, #T_06764_row15_col0, #T_06764_row16_col0, #T_06764_row18_col0, #T_06764_row19_col0, #T_06764_row20_col0, #T_06764_row21_col0, #T_06764_row23_col0, #T_06764_row24_col0, #T_06764_row25_col0, #T_06764_row26_col0, #T_06764_row27_col0, #T_06764_row28_col0, #T_06764_row29_col0, #T_06764_row30_col0, #T_06764_row31_col0, #T_06764_row32_col0, #T_06764_row33_col0, #T_06764_row34_col0, #T_06764_row35_col0, #T_06764_row36_col0, #T_06764_row37_col0, #T_06764_row38_col0, #T_06764_row40_col0, #T_06764_row41_col0, #T_06764_row42_col0, #T_06764_row43_col0, #T_06764_row44_col0, #T_06764_row45_col0, #T_06764_row46_col0, #T_06764_row47_col0, #T_06764_row48_col0, #T_06764_row49_col0, #T_06764_row52_col0, #T_06764_row53_col0, #T_06764_row54_col0, #T_06764_row55_col0, #T_06764_row57_col0, #T_06764_row58_col0, #T_06764_row59_col0, #T_06764_row60_col0, #T_06764_row61_col0, #T_06764_row62_col0, #T_06764_row63_col0, #T_06764_row64_col0, #T_06764_row65_col0, #T_06764_row66_col0, #T_06764_row67_col0, #T_06764_row68_col0, #T_06764_row69_col0, #T_06764_row70_col0, #T_06764_row71_col0, #T_06764_row72_col0, #T_06764_row73_col0, #T_06764_row74_col0, #T_06764_row75_col0, #T_06764_row76_col0, #T_06764_row78_col0, #T_06764_row79_col0, #T_06764_row80_col0, #T_06764_row82_col0, #T_06764_row83_col0, #T_06764_row84_col0, #T_06764_row86_col0 {\n",
              "  background-color: #3b4cc0;\n",
              "  color: #f1f1f1;\n",
              "}\n",
              "#T_06764_row3_col0, #T_06764_row4_col0, #T_06764_row6_col0, #T_06764_row39_col0, #T_06764_row50_col0, #T_06764_row56_col0, #T_06764_row81_col0, #T_06764_row85_col0 {\n",
              "  background-color: #5d7ce6;\n",
              "  color: #f1f1f1;\n",
              "}\n",
              "#T_06764_row17_col0, #T_06764_row22_col0, #T_06764_row51_col0 {\n",
              "  background-color: #82a6fb;\n",
              "  color: #f1f1f1;\n",
              "}\n",
              "#T_06764_row77_col0 {\n",
              "  background-color: #b40426;\n",
              "  color: #f1f1f1;\n",
              "}\n",
              "</style>\n",
              "<table id=\"T_06764\" class=\"dataframe\">\n",
              "  <thead>\n",
              "    <tr>\n",
              "      <th class=\"blank level0\" >&nbsp;</th>\n",
              "      <th id=\"T_06764_level0_col0\" class=\"col_heading level0 col0\" >0</th>\n",
              "    </tr>\n",
              "  </thead>\n",
              "  <tbody>\n",
              "    <tr>\n",
              "      <th id=\"T_06764_level0_row0\" class=\"row_heading level0 row0\" >date</th>\n",
              "      <td id=\"T_06764_row0_col0\" class=\"data row0 col0\" >0.000000</td>\n",
              "    </tr>\n",
              "    <tr>\n",
              "      <th id=\"T_06764_level0_row1\" class=\"row_heading level0 row1\" >rougher.input.feed_au</th>\n",
              "      <td id=\"T_06764_row1_col0\" class=\"data row1 col0\" >0.000000</td>\n",
              "    </tr>\n",
              "    <tr>\n",
              "      <th id=\"T_06764_level0_row2\" class=\"row_heading level0 row2\" >rougher.input.feed_ag</th>\n",
              "      <td id=\"T_06764_row2_col0\" class=\"data row2 col0\" >0.000000</td>\n",
              "    </tr>\n",
              "    <tr>\n",
              "      <th id=\"T_06764_level0_row3\" class=\"row_heading level0 row3\" >rougher.input.feed_pb</th>\n",
              "      <td id=\"T_06764_row3_col0\" class=\"data row3 col0\" >1.000000</td>\n",
              "    </tr>\n",
              "    <tr>\n",
              "      <th id=\"T_06764_level0_row4\" class=\"row_heading level0 row4\" >rougher.input.feed_sol</th>\n",
              "      <td id=\"T_06764_row4_col0\" class=\"data row4 col0\" >1.000000</td>\n",
              "    </tr>\n",
              "    <tr>\n",
              "      <th id=\"T_06764_level0_row5\" class=\"row_heading level0 row5\" >rougher.input.feed_rate</th>\n",
              "      <td id=\"T_06764_row5_col0\" class=\"data row5 col0\" >0.000000</td>\n",
              "    </tr>\n",
              "    <tr>\n",
              "      <th id=\"T_06764_level0_row6\" class=\"row_heading level0 row6\" >rougher.input.feed_size</th>\n",
              "      <td id=\"T_06764_row6_col0\" class=\"data row6 col0\" >1.000000</td>\n",
              "    </tr>\n",
              "    <tr>\n",
              "      <th id=\"T_06764_level0_row7\" class=\"row_heading level0 row7\" >rougher.input.floatbank10_sulfate</th>\n",
              "      <td id=\"T_06764_row7_col0\" class=\"data row7 col0\" >0.000000</td>\n",
              "    </tr>\n",
              "    <tr>\n",
              "      <th id=\"T_06764_level0_row8\" class=\"row_heading level0 row8\" >rougher.input.floatbank10_xanthate</th>\n",
              "      <td id=\"T_06764_row8_col0\" class=\"data row8 col0\" >0.000000</td>\n",
              "    </tr>\n",
              "    <tr>\n",
              "      <th id=\"T_06764_level0_row9\" class=\"row_heading level0 row9\" >rougher.state.floatbank10_a_air</th>\n",
              "      <td id=\"T_06764_row9_col0\" class=\"data row9 col0\" >0.000000</td>\n",
              "    </tr>\n",
              "    <tr>\n",
              "      <th id=\"T_06764_level0_row10\" class=\"row_heading level0 row10\" >rougher.state.floatbank10_a_level</th>\n",
              "      <td id=\"T_06764_row10_col0\" class=\"data row10 col0\" >0.000000</td>\n",
              "    </tr>\n",
              "    <tr>\n",
              "      <th id=\"T_06764_level0_row11\" class=\"row_heading level0 row11\" >rougher.state.floatbank10_b_air</th>\n",
              "      <td id=\"T_06764_row11_col0\" class=\"data row11 col0\" >0.000000</td>\n",
              "    </tr>\n",
              "    <tr>\n",
              "      <th id=\"T_06764_level0_row12\" class=\"row_heading level0 row12\" >rougher.state.floatbank10_b_level</th>\n",
              "      <td id=\"T_06764_row12_col0\" class=\"data row12 col0\" >0.000000</td>\n",
              "    </tr>\n",
              "    <tr>\n",
              "      <th id=\"T_06764_level0_row13\" class=\"row_heading level0 row13\" >rougher.state.floatbank10_c_air</th>\n",
              "      <td id=\"T_06764_row13_col0\" class=\"data row13 col0\" >0.000000</td>\n",
              "    </tr>\n",
              "    <tr>\n",
              "      <th id=\"T_06764_level0_row14\" class=\"row_heading level0 row14\" >rougher.state.floatbank10_c_level</th>\n",
              "      <td id=\"T_06764_row14_col0\" class=\"data row14 col0\" >0.000000</td>\n",
              "    </tr>\n",
              "    <tr>\n",
              "      <th id=\"T_06764_level0_row15\" class=\"row_heading level0 row15\" >rougher.state.floatbank10_d_air</th>\n",
              "      <td id=\"T_06764_row15_col0\" class=\"data row15 col0\" >0.000000</td>\n",
              "    </tr>\n",
              "    <tr>\n",
              "      <th id=\"T_06764_level0_row16\" class=\"row_heading level0 row16\" >rougher.state.floatbank10_d_level</th>\n",
              "      <td id=\"T_06764_row16_col0\" class=\"data row16 col0\" >0.000000</td>\n",
              "    </tr>\n",
              "    <tr>\n",
              "      <th id=\"T_06764_level0_row17\" class=\"row_heading level0 row17\" >rougher.state.floatbank10_e_air</th>\n",
              "      <td id=\"T_06764_row17_col0\" class=\"data row17 col0\" >2.000000</td>\n",
              "    </tr>\n",
              "    <tr>\n",
              "      <th id=\"T_06764_level0_row18\" class=\"row_heading level0 row18\" >rougher.state.floatbank10_e_level</th>\n",
              "      <td id=\"T_06764_row18_col0\" class=\"data row18 col0\" >0.000000</td>\n",
              "    </tr>\n",
              "    <tr>\n",
              "      <th id=\"T_06764_level0_row19\" class=\"row_heading level0 row19\" >rougher.state.floatbank10_f_air</th>\n",
              "      <td id=\"T_06764_row19_col0\" class=\"data row19 col0\" >0.000000</td>\n",
              "    </tr>\n",
              "    <tr>\n",
              "      <th id=\"T_06764_level0_row20\" class=\"row_heading level0 row20\" >rougher.state.floatbank10_f_level</th>\n",
              "      <td id=\"T_06764_row20_col0\" class=\"data row20 col0\" >0.000000</td>\n",
              "    </tr>\n",
              "    <tr>\n",
              "      <th id=\"T_06764_level0_row21\" class=\"row_heading level0 row21\" >rougher.input.floatbank11_sulfate</th>\n",
              "      <td id=\"T_06764_row21_col0\" class=\"data row21 col0\" >0.000000</td>\n",
              "    </tr>\n",
              "    <tr>\n",
              "      <th id=\"T_06764_level0_row22\" class=\"row_heading level0 row22\" >rougher.input.floatbank11_xanthate</th>\n",
              "      <td id=\"T_06764_row22_col0\" class=\"data row22 col0\" >2.000000</td>\n",
              "    </tr>\n",
              "    <tr>\n",
              "      <th id=\"T_06764_level0_row23\" class=\"row_heading level0 row23\" >rougher.calculation.sulfate_to_au_concentrate</th>\n",
              "      <td id=\"T_06764_row23_col0\" class=\"data row23 col0\" >0.000000</td>\n",
              "    </tr>\n",
              "    <tr>\n",
              "      <th id=\"T_06764_level0_row24\" class=\"row_heading level0 row24\" >rougher.calculation.floatbank10_sulfate_to_au_feed</th>\n",
              "      <td id=\"T_06764_row24_col0\" class=\"data row24 col0\" >0.000000</td>\n",
              "    </tr>\n",
              "    <tr>\n",
              "      <th id=\"T_06764_level0_row25\" class=\"row_heading level0 row25\" >rougher.calculation.floatbank11_sulfate_to_au_feed</th>\n",
              "      <td id=\"T_06764_row25_col0\" class=\"data row25 col0\" >0.000000</td>\n",
              "    </tr>\n",
              "    <tr>\n",
              "      <th id=\"T_06764_level0_row26\" class=\"row_heading level0 row26\" >rougher.calculation.au_pb_ratio</th>\n",
              "      <td id=\"T_06764_row26_col0\" class=\"data row26 col0\" >0.000000</td>\n",
              "    </tr>\n",
              "    <tr>\n",
              "      <th id=\"T_06764_level0_row27\" class=\"row_heading level0 row27\" >rougher.output.concentrate_au</th>\n",
              "      <td id=\"T_06764_row27_col0\" class=\"data row27 col0\" >0.000000</td>\n",
              "    </tr>\n",
              "    <tr>\n",
              "      <th id=\"T_06764_level0_row28\" class=\"row_heading level0 row28\" >rougher.output.concentrate_ag</th>\n",
              "      <td id=\"T_06764_row28_col0\" class=\"data row28 col0\" >0.000000</td>\n",
              "    </tr>\n",
              "    <tr>\n",
              "      <th id=\"T_06764_level0_row29\" class=\"row_heading level0 row29\" >rougher.output.concentrate_pb</th>\n",
              "      <td id=\"T_06764_row29_col0\" class=\"data row29 col0\" >0.000000</td>\n",
              "    </tr>\n",
              "    <tr>\n",
              "      <th id=\"T_06764_level0_row30\" class=\"row_heading level0 row30\" >rougher.output.concentrate_sol</th>\n",
              "      <td id=\"T_06764_row30_col0\" class=\"data row30 col0\" >0.000000</td>\n",
              "    </tr>\n",
              "    <tr>\n",
              "      <th id=\"T_06764_level0_row31\" class=\"row_heading level0 row31\" >rougher.output.recovery</th>\n",
              "      <td id=\"T_06764_row31_col0\" class=\"data row31 col0\" >0.000000</td>\n",
              "    </tr>\n",
              "    <tr>\n",
              "      <th id=\"T_06764_level0_row32\" class=\"row_heading level0 row32\" >rougher.output.tail_au</th>\n",
              "      <td id=\"T_06764_row32_col0\" class=\"data row32 col0\" >0.000000</td>\n",
              "    </tr>\n",
              "    <tr>\n",
              "      <th id=\"T_06764_level0_row33\" class=\"row_heading level0 row33\" >rougher.output.tail_ag</th>\n",
              "      <td id=\"T_06764_row33_col0\" class=\"data row33 col0\" >0.000000</td>\n",
              "    </tr>\n",
              "    <tr>\n",
              "      <th id=\"T_06764_level0_row34\" class=\"row_heading level0 row34\" >rougher.output.tail_pb</th>\n",
              "      <td id=\"T_06764_row34_col0\" class=\"data row34 col0\" >0.000000</td>\n",
              "    </tr>\n",
              "    <tr>\n",
              "      <th id=\"T_06764_level0_row35\" class=\"row_heading level0 row35\" >rougher.output.tail_sol</th>\n",
              "      <td id=\"T_06764_row35_col0\" class=\"data row35 col0\" >0.000000</td>\n",
              "    </tr>\n",
              "    <tr>\n",
              "      <th id=\"T_06764_level0_row36\" class=\"row_heading level0 row36\" >primary_cleaner.input.sulfate</th>\n",
              "      <td id=\"T_06764_row36_col0\" class=\"data row36 col0\" >0.000000</td>\n",
              "    </tr>\n",
              "    <tr>\n",
              "      <th id=\"T_06764_level0_row37\" class=\"row_heading level0 row37\" >primary_cleaner.input.depressant</th>\n",
              "      <td id=\"T_06764_row37_col0\" class=\"data row37 col0\" >0.000000</td>\n",
              "    </tr>\n",
              "    <tr>\n",
              "      <th id=\"T_06764_level0_row38\" class=\"row_heading level0 row38\" >primary_cleaner.input.feed_size</th>\n",
              "      <td id=\"T_06764_row38_col0\" class=\"data row38 col0\" >0.000000</td>\n",
              "    </tr>\n",
              "    <tr>\n",
              "      <th id=\"T_06764_level0_row39\" class=\"row_heading level0 row39\" >primary_cleaner.input.xanthate</th>\n",
              "      <td id=\"T_06764_row39_col0\" class=\"data row39 col0\" >1.000000</td>\n",
              "    </tr>\n",
              "    <tr>\n",
              "      <th id=\"T_06764_level0_row40\" class=\"row_heading level0 row40\" >primary_cleaner.state.floatbank8_a_air</th>\n",
              "      <td id=\"T_06764_row40_col0\" class=\"data row40 col0\" >0.000000</td>\n",
              "    </tr>\n",
              "    <tr>\n",
              "      <th id=\"T_06764_level0_row41\" class=\"row_heading level0 row41\" >primary_cleaner.state.floatbank8_a_level</th>\n",
              "      <td id=\"T_06764_row41_col0\" class=\"data row41 col0\" >0.000000</td>\n",
              "    </tr>\n",
              "    <tr>\n",
              "      <th id=\"T_06764_level0_row42\" class=\"row_heading level0 row42\" >primary_cleaner.state.floatbank8_b_air</th>\n",
              "      <td id=\"T_06764_row42_col0\" class=\"data row42 col0\" >0.000000</td>\n",
              "    </tr>\n",
              "    <tr>\n",
              "      <th id=\"T_06764_level0_row43\" class=\"row_heading level0 row43\" >primary_cleaner.state.floatbank8_b_level</th>\n",
              "      <td id=\"T_06764_row43_col0\" class=\"data row43 col0\" >0.000000</td>\n",
              "    </tr>\n",
              "    <tr>\n",
              "      <th id=\"T_06764_level0_row44\" class=\"row_heading level0 row44\" >primary_cleaner.state.floatbank8_c_air</th>\n",
              "      <td id=\"T_06764_row44_col0\" class=\"data row44 col0\" >0.000000</td>\n",
              "    </tr>\n",
              "    <tr>\n",
              "      <th id=\"T_06764_level0_row45\" class=\"row_heading level0 row45\" >primary_cleaner.state.floatbank8_c_level</th>\n",
              "      <td id=\"T_06764_row45_col0\" class=\"data row45 col0\" >0.000000</td>\n",
              "    </tr>\n",
              "    <tr>\n",
              "      <th id=\"T_06764_level0_row46\" class=\"row_heading level0 row46\" >primary_cleaner.state.floatbank8_d_air</th>\n",
              "      <td id=\"T_06764_row46_col0\" class=\"data row46 col0\" >0.000000</td>\n",
              "    </tr>\n",
              "    <tr>\n",
              "      <th id=\"T_06764_level0_row47\" class=\"row_heading level0 row47\" >primary_cleaner.state.floatbank8_d_level</th>\n",
              "      <td id=\"T_06764_row47_col0\" class=\"data row47 col0\" >0.000000</td>\n",
              "    </tr>\n",
              "    <tr>\n",
              "      <th id=\"T_06764_level0_row48\" class=\"row_heading level0 row48\" >primary_cleaner.output.concentrate_au</th>\n",
              "      <td id=\"T_06764_row48_col0\" class=\"data row48 col0\" >0.000000</td>\n",
              "    </tr>\n",
              "    <tr>\n",
              "      <th id=\"T_06764_level0_row49\" class=\"row_heading level0 row49\" >primary_cleaner.output.concentrate_ag</th>\n",
              "      <td id=\"T_06764_row49_col0\" class=\"data row49 col0\" >0.000000</td>\n",
              "    </tr>\n",
              "    <tr>\n",
              "      <th id=\"T_06764_level0_row50\" class=\"row_heading level0 row50\" >primary_cleaner.output.concentrate_pb</th>\n",
              "      <td id=\"T_06764_row50_col0\" class=\"data row50 col0\" >1.000000</td>\n",
              "    </tr>\n",
              "    <tr>\n",
              "      <th id=\"T_06764_level0_row51\" class=\"row_heading level0 row51\" >primary_cleaner.output.concentrate_sol</th>\n",
              "      <td id=\"T_06764_row51_col0\" class=\"data row51 col0\" >2.000000</td>\n",
              "    </tr>\n",
              "    <tr>\n",
              "      <th id=\"T_06764_level0_row52\" class=\"row_heading level0 row52\" >primary_cleaner.output.tail_au</th>\n",
              "      <td id=\"T_06764_row52_col0\" class=\"data row52 col0\" >0.000000</td>\n",
              "    </tr>\n",
              "    <tr>\n",
              "      <th id=\"T_06764_level0_row53\" class=\"row_heading level0 row53\" >primary_cleaner.output.tail_ag</th>\n",
              "      <td id=\"T_06764_row53_col0\" class=\"data row53 col0\" >0.000000</td>\n",
              "    </tr>\n",
              "    <tr>\n",
              "      <th id=\"T_06764_level0_row54\" class=\"row_heading level0 row54\" >primary_cleaner.output.tail_pb</th>\n",
              "      <td id=\"T_06764_row54_col0\" class=\"data row54 col0\" >0.000000</td>\n",
              "    </tr>\n",
              "    <tr>\n",
              "      <th id=\"T_06764_level0_row55\" class=\"row_heading level0 row55\" >primary_cleaner.output.tail_sol</th>\n",
              "      <td id=\"T_06764_row55_col0\" class=\"data row55 col0\" >0.000000</td>\n",
              "    </tr>\n",
              "    <tr>\n",
              "      <th id=\"T_06764_level0_row56\" class=\"row_heading level0 row56\" >secondary_cleaner.state.floatbank2_a_air</th>\n",
              "      <td id=\"T_06764_row56_col0\" class=\"data row56 col0\" >1.000000</td>\n",
              "    </tr>\n",
              "    <tr>\n",
              "      <th id=\"T_06764_level0_row57\" class=\"row_heading level0 row57\" >secondary_cleaner.state.floatbank2_a_level</th>\n",
              "      <td id=\"T_06764_row57_col0\" class=\"data row57 col0\" >0.000000</td>\n",
              "    </tr>\n",
              "    <tr>\n",
              "      <th id=\"T_06764_level0_row58\" class=\"row_heading level0 row58\" >secondary_cleaner.state.floatbank2_b_air</th>\n",
              "      <td id=\"T_06764_row58_col0\" class=\"data row58 col0\" >0.000000</td>\n",
              "    </tr>\n",
              "    <tr>\n",
              "      <th id=\"T_06764_level0_row59\" class=\"row_heading level0 row59\" >secondary_cleaner.state.floatbank2_b_level</th>\n",
              "      <td id=\"T_06764_row59_col0\" class=\"data row59 col0\" >0.000000</td>\n",
              "    </tr>\n",
              "    <tr>\n",
              "      <th id=\"T_06764_level0_row60\" class=\"row_heading level0 row60\" >secondary_cleaner.state.floatbank3_a_air</th>\n",
              "      <td id=\"T_06764_row60_col0\" class=\"data row60 col0\" >0.000000</td>\n",
              "    </tr>\n",
              "    <tr>\n",
              "      <th id=\"T_06764_level0_row61\" class=\"row_heading level0 row61\" >secondary_cleaner.state.floatbank3_a_level</th>\n",
              "      <td id=\"T_06764_row61_col0\" class=\"data row61 col0\" >0.000000</td>\n",
              "    </tr>\n",
              "    <tr>\n",
              "      <th id=\"T_06764_level0_row62\" class=\"row_heading level0 row62\" >secondary_cleaner.state.floatbank3_b_air</th>\n",
              "      <td id=\"T_06764_row62_col0\" class=\"data row62 col0\" >0.000000</td>\n",
              "    </tr>\n",
              "    <tr>\n",
              "      <th id=\"T_06764_level0_row63\" class=\"row_heading level0 row63\" >secondary_cleaner.state.floatbank3_b_level</th>\n",
              "      <td id=\"T_06764_row63_col0\" class=\"data row63 col0\" >0.000000</td>\n",
              "    </tr>\n",
              "    <tr>\n",
              "      <th id=\"T_06764_level0_row64\" class=\"row_heading level0 row64\" >secondary_cleaner.state.floatbank4_a_air</th>\n",
              "      <td id=\"T_06764_row64_col0\" class=\"data row64 col0\" >0.000000</td>\n",
              "    </tr>\n",
              "    <tr>\n",
              "      <th id=\"T_06764_level0_row65\" class=\"row_heading level0 row65\" >secondary_cleaner.state.floatbank4_a_level</th>\n",
              "      <td id=\"T_06764_row65_col0\" class=\"data row65 col0\" >0.000000</td>\n",
              "    </tr>\n",
              "    <tr>\n",
              "      <th id=\"T_06764_level0_row66\" class=\"row_heading level0 row66\" >secondary_cleaner.state.floatbank4_b_air</th>\n",
              "      <td id=\"T_06764_row66_col0\" class=\"data row66 col0\" >0.000000</td>\n",
              "    </tr>\n",
              "    <tr>\n",
              "      <th id=\"T_06764_level0_row67\" class=\"row_heading level0 row67\" >secondary_cleaner.state.floatbank4_b_level</th>\n",
              "      <td id=\"T_06764_row67_col0\" class=\"data row67 col0\" >0.000000</td>\n",
              "    </tr>\n",
              "    <tr>\n",
              "      <th id=\"T_06764_level0_row68\" class=\"row_heading level0 row68\" >secondary_cleaner.state.floatbank5_a_air</th>\n",
              "      <td id=\"T_06764_row68_col0\" class=\"data row68 col0\" >0.000000</td>\n",
              "    </tr>\n",
              "    <tr>\n",
              "      <th id=\"T_06764_level0_row69\" class=\"row_heading level0 row69\" >secondary_cleaner.state.floatbank5_a_level</th>\n",
              "      <td id=\"T_06764_row69_col0\" class=\"data row69 col0\" >0.000000</td>\n",
              "    </tr>\n",
              "    <tr>\n",
              "      <th id=\"T_06764_level0_row70\" class=\"row_heading level0 row70\" >secondary_cleaner.state.floatbank5_b_air</th>\n",
              "      <td id=\"T_06764_row70_col0\" class=\"data row70 col0\" >0.000000</td>\n",
              "    </tr>\n",
              "    <tr>\n",
              "      <th id=\"T_06764_level0_row71\" class=\"row_heading level0 row71\" >secondary_cleaner.state.floatbank5_b_level</th>\n",
              "      <td id=\"T_06764_row71_col0\" class=\"data row71 col0\" >0.000000</td>\n",
              "    </tr>\n",
              "    <tr>\n",
              "      <th id=\"T_06764_level0_row72\" class=\"row_heading level0 row72\" >secondary_cleaner.state.floatbank6_a_air</th>\n",
              "      <td id=\"T_06764_row72_col0\" class=\"data row72 col0\" >0.000000</td>\n",
              "    </tr>\n",
              "    <tr>\n",
              "      <th id=\"T_06764_level0_row73\" class=\"row_heading level0 row73\" >secondary_cleaner.state.floatbank6_a_level</th>\n",
              "      <td id=\"T_06764_row73_col0\" class=\"data row73 col0\" >0.000000</td>\n",
              "    </tr>\n",
              "    <tr>\n",
              "      <th id=\"T_06764_level0_row74\" class=\"row_heading level0 row74\" >secondary_cleaner.output.tail_au</th>\n",
              "      <td id=\"T_06764_row74_col0\" class=\"data row74 col0\" >0.000000</td>\n",
              "    </tr>\n",
              "    <tr>\n",
              "      <th id=\"T_06764_level0_row75\" class=\"row_heading level0 row75\" >secondary_cleaner.output.tail_ag</th>\n",
              "      <td id=\"T_06764_row75_col0\" class=\"data row75 col0\" >0.000000</td>\n",
              "    </tr>\n",
              "    <tr>\n",
              "      <th id=\"T_06764_level0_row76\" class=\"row_heading level0 row76\" >secondary_cleaner.output.tail_pb</th>\n",
              "      <td id=\"T_06764_row76_col0\" class=\"data row76 col0\" >0.000000</td>\n",
              "    </tr>\n",
              "    <tr>\n",
              "      <th id=\"T_06764_level0_row77\" class=\"row_heading level0 row77\" >secondary_cleaner.output.tail_sol</th>\n",
              "      <td id=\"T_06764_row77_col0\" class=\"data row77 col0\" >9.000000</td>\n",
              "    </tr>\n",
              "    <tr>\n",
              "      <th id=\"T_06764_level0_row78\" class=\"row_heading level0 row78\" >final.output.concentrate_au</th>\n",
              "      <td id=\"T_06764_row78_col0\" class=\"data row78 col0\" >0.000000</td>\n",
              "    </tr>\n",
              "    <tr>\n",
              "      <th id=\"T_06764_level0_row79\" class=\"row_heading level0 row79\" >final.output.concentrate_ag</th>\n",
              "      <td id=\"T_06764_row79_col0\" class=\"data row79 col0\" >0.000000</td>\n",
              "    </tr>\n",
              "    <tr>\n",
              "      <th id=\"T_06764_level0_row80\" class=\"row_heading level0 row80\" >final.output.concentrate_pb</th>\n",
              "      <td id=\"T_06764_row80_col0\" class=\"data row80 col0\" >0.000000</td>\n",
              "    </tr>\n",
              "    <tr>\n",
              "      <th id=\"T_06764_level0_row81\" class=\"row_heading level0 row81\" >final.output.concentrate_sol</th>\n",
              "      <td id=\"T_06764_row81_col0\" class=\"data row81 col0\" >1.000000</td>\n",
              "    </tr>\n",
              "    <tr>\n",
              "      <th id=\"T_06764_level0_row82\" class=\"row_heading level0 row82\" >final.output.recovery</th>\n",
              "      <td id=\"T_06764_row82_col0\" class=\"data row82 col0\" >0.000000</td>\n",
              "    </tr>\n",
              "    <tr>\n",
              "      <th id=\"T_06764_level0_row83\" class=\"row_heading level0 row83\" >final.output.tail_au</th>\n",
              "      <td id=\"T_06764_row83_col0\" class=\"data row83 col0\" >0.000000</td>\n",
              "    </tr>\n",
              "    <tr>\n",
              "      <th id=\"T_06764_level0_row84\" class=\"row_heading level0 row84\" >final.output.tail_ag</th>\n",
              "      <td id=\"T_06764_row84_col0\" class=\"data row84 col0\" >0.000000</td>\n",
              "    </tr>\n",
              "    <tr>\n",
              "      <th id=\"T_06764_level0_row85\" class=\"row_heading level0 row85\" >final.output.tail_pb</th>\n",
              "      <td id=\"T_06764_row85_col0\" class=\"data row85 col0\" >1.000000</td>\n",
              "    </tr>\n",
              "    <tr>\n",
              "      <th id=\"T_06764_level0_row86\" class=\"row_heading level0 row86\" >final.output.tail_sol</th>\n",
              "      <td id=\"T_06764_row86_col0\" class=\"data row86 col0\" >0.000000</td>\n",
              "    </tr>\n",
              "  </tbody>\n",
              "</table>\n"
            ]
          },
          "metadata": {},
          "execution_count": 21
        }
      ],
      "source": [
        "pd.DataFrame(\n",
        "    round(\n",
        "        train_df.isna().mean() * 100,\n",
        "    )\n",
        ").style.background_gradient(\"coolwarm\")\n"
      ]
    },
    {
      "cell_type": "code",
      "execution_count": null,
      "metadata": {
        "scrolled": true,
        "id": "pvvjk4Ez0do1",
        "outputId": "88aeaa4d-dcfb-41fe-971b-0c38d90bc7c2",
        "colab": {
          "base_uri": "https://localhost:8080/",
          "height": 1000
        }
      },
      "outputs": [
        {
          "output_type": "execute_result",
          "data": {
            "text/plain": [
              "<pandas.io.formats.style.Styler at 0x7fdc871cb040>"
            ],
            "text/html": [
              "<style type=\"text/css\">\n",
              "#T_2e7d9_row0_col0, #T_2e7d9_row1_col0, #T_2e7d9_row2_col0, #T_2e7d9_row4_col0, #T_2e7d9_row5_col0, #T_2e7d9_row7_col0, #T_2e7d9_row8_col0, #T_2e7d9_row9_col0, #T_2e7d9_row10_col0, #T_2e7d9_row11_col0, #T_2e7d9_row12_col0, #T_2e7d9_row13_col0, #T_2e7d9_row14_col0, #T_2e7d9_row15_col0, #T_2e7d9_row16_col0, #T_2e7d9_row17_col0, #T_2e7d9_row18_col0, #T_2e7d9_row19_col0, #T_2e7d9_row20_col0, #T_2e7d9_row21_col0, #T_2e7d9_row23_col0, #T_2e7d9_row24_col0, #T_2e7d9_row25_col0, #T_2e7d9_row27_col0, #T_2e7d9_row28_col0, #T_2e7d9_row29_col0, #T_2e7d9_row30_col0, #T_2e7d9_row31_col0, #T_2e7d9_row32_col0, #T_2e7d9_row33_col0, #T_2e7d9_row34_col0, #T_2e7d9_row36_col0, #T_2e7d9_row37_col0, #T_2e7d9_row38_col0, #T_2e7d9_row39_col0, #T_2e7d9_row40_col0, #T_2e7d9_row41_col0, #T_2e7d9_row42_col0, #T_2e7d9_row43_col0, #T_2e7d9_row44_col0, #T_2e7d9_row45_col0, #T_2e7d9_row46_col0, #T_2e7d9_row47_col0, #T_2e7d9_row48_col0, #T_2e7d9_row49_col0, #T_2e7d9_row50_col0, #T_2e7d9_row51_col0, #T_2e7d9_row52_col0 {\n",
              "  background-color: #3b4cc0;\n",
              "  color: #f1f1f1;\n",
              "}\n",
              "#T_2e7d9_row3_col0, #T_2e7d9_row6_col0, #T_2e7d9_row22_col0, #T_2e7d9_row26_col0 {\n",
              "  background-color: #aac7fd;\n",
              "  color: #000000;\n",
              "}\n",
              "#T_2e7d9_row35_col0 {\n",
              "  background-color: #b40426;\n",
              "  color: #f1f1f1;\n",
              "}\n",
              "</style>\n",
              "<table id=\"T_2e7d9\" class=\"dataframe\">\n",
              "  <thead>\n",
              "    <tr>\n",
              "      <th class=\"blank level0\" >&nbsp;</th>\n",
              "      <th id=\"T_2e7d9_level0_col0\" class=\"col_heading level0 col0\" >0</th>\n",
              "    </tr>\n",
              "  </thead>\n",
              "  <tbody>\n",
              "    <tr>\n",
              "      <th id=\"T_2e7d9_level0_row0\" class=\"row_heading level0 row0\" >date</th>\n",
              "      <td id=\"T_2e7d9_row0_col0\" class=\"data row0 col0\" >0.000000</td>\n",
              "    </tr>\n",
              "    <tr>\n",
              "      <th id=\"T_2e7d9_level0_row1\" class=\"row_heading level0 row1\" >rougher.input.feed_au</th>\n",
              "      <td id=\"T_2e7d9_row1_col0\" class=\"data row1 col0\" >0.000000</td>\n",
              "    </tr>\n",
              "    <tr>\n",
              "      <th id=\"T_2e7d9_level0_row2\" class=\"row_heading level0 row2\" >rougher.input.feed_ag</th>\n",
              "      <td id=\"T_2e7d9_row2_col0\" class=\"data row2 col0\" >0.000000</td>\n",
              "    </tr>\n",
              "    <tr>\n",
              "      <th id=\"T_2e7d9_level0_row3\" class=\"row_heading level0 row3\" >rougher.input.feed_pb</th>\n",
              "      <td id=\"T_2e7d9_row3_col0\" class=\"data row3 col0\" >1.000000</td>\n",
              "    </tr>\n",
              "    <tr>\n",
              "      <th id=\"T_2e7d9_level0_row4\" class=\"row_heading level0 row4\" >rougher.input.feed_sol</th>\n",
              "      <td id=\"T_2e7d9_row4_col0\" class=\"data row4 col0\" >0.000000</td>\n",
              "    </tr>\n",
              "    <tr>\n",
              "      <th id=\"T_2e7d9_level0_row5\" class=\"row_heading level0 row5\" >rougher.input.feed_rate</th>\n",
              "      <td id=\"T_2e7d9_row5_col0\" class=\"data row5 col0\" >0.000000</td>\n",
              "    </tr>\n",
              "    <tr>\n",
              "      <th id=\"T_2e7d9_level0_row6\" class=\"row_heading level0 row6\" >rougher.input.feed_size</th>\n",
              "      <td id=\"T_2e7d9_row6_col0\" class=\"data row6 col0\" >1.000000</td>\n",
              "    </tr>\n",
              "    <tr>\n",
              "      <th id=\"T_2e7d9_level0_row7\" class=\"row_heading level0 row7\" >rougher.input.floatbank10_sulfate</th>\n",
              "      <td id=\"T_2e7d9_row7_col0\" class=\"data row7 col0\" >0.000000</td>\n",
              "    </tr>\n",
              "    <tr>\n",
              "      <th id=\"T_2e7d9_level0_row8\" class=\"row_heading level0 row8\" >rougher.input.floatbank10_xanthate</th>\n",
              "      <td id=\"T_2e7d9_row8_col0\" class=\"data row8 col0\" >0.000000</td>\n",
              "    </tr>\n",
              "    <tr>\n",
              "      <th id=\"T_2e7d9_level0_row9\" class=\"row_heading level0 row9\" >rougher.state.floatbank10_a_air</th>\n",
              "      <td id=\"T_2e7d9_row9_col0\" class=\"data row9 col0\" >0.000000</td>\n",
              "    </tr>\n",
              "    <tr>\n",
              "      <th id=\"T_2e7d9_level0_row10\" class=\"row_heading level0 row10\" >rougher.state.floatbank10_a_level</th>\n",
              "      <td id=\"T_2e7d9_row10_col0\" class=\"data row10 col0\" >0.000000</td>\n",
              "    </tr>\n",
              "    <tr>\n",
              "      <th id=\"T_2e7d9_level0_row11\" class=\"row_heading level0 row11\" >rougher.state.floatbank10_b_air</th>\n",
              "      <td id=\"T_2e7d9_row11_col0\" class=\"data row11 col0\" >0.000000</td>\n",
              "    </tr>\n",
              "    <tr>\n",
              "      <th id=\"T_2e7d9_level0_row12\" class=\"row_heading level0 row12\" >rougher.state.floatbank10_b_level</th>\n",
              "      <td id=\"T_2e7d9_row12_col0\" class=\"data row12 col0\" >0.000000</td>\n",
              "    </tr>\n",
              "    <tr>\n",
              "      <th id=\"T_2e7d9_level0_row13\" class=\"row_heading level0 row13\" >rougher.state.floatbank10_c_air</th>\n",
              "      <td id=\"T_2e7d9_row13_col0\" class=\"data row13 col0\" >0.000000</td>\n",
              "    </tr>\n",
              "    <tr>\n",
              "      <th id=\"T_2e7d9_level0_row14\" class=\"row_heading level0 row14\" >rougher.state.floatbank10_c_level</th>\n",
              "      <td id=\"T_2e7d9_row14_col0\" class=\"data row14 col0\" >0.000000</td>\n",
              "    </tr>\n",
              "    <tr>\n",
              "      <th id=\"T_2e7d9_level0_row15\" class=\"row_heading level0 row15\" >rougher.state.floatbank10_d_air</th>\n",
              "      <td id=\"T_2e7d9_row15_col0\" class=\"data row15 col0\" >0.000000</td>\n",
              "    </tr>\n",
              "    <tr>\n",
              "      <th id=\"T_2e7d9_level0_row16\" class=\"row_heading level0 row16\" >rougher.state.floatbank10_d_level</th>\n",
              "      <td id=\"T_2e7d9_row16_col0\" class=\"data row16 col0\" >0.000000</td>\n",
              "    </tr>\n",
              "    <tr>\n",
              "      <th id=\"T_2e7d9_level0_row17\" class=\"row_heading level0 row17\" >rougher.state.floatbank10_e_air</th>\n",
              "      <td id=\"T_2e7d9_row17_col0\" class=\"data row17 col0\" >0.000000</td>\n",
              "    </tr>\n",
              "    <tr>\n",
              "      <th id=\"T_2e7d9_level0_row18\" class=\"row_heading level0 row18\" >rougher.state.floatbank10_e_level</th>\n",
              "      <td id=\"T_2e7d9_row18_col0\" class=\"data row18 col0\" >0.000000</td>\n",
              "    </tr>\n",
              "    <tr>\n",
              "      <th id=\"T_2e7d9_level0_row19\" class=\"row_heading level0 row19\" >rougher.state.floatbank10_f_air</th>\n",
              "      <td id=\"T_2e7d9_row19_col0\" class=\"data row19 col0\" >0.000000</td>\n",
              "    </tr>\n",
              "    <tr>\n",
              "      <th id=\"T_2e7d9_level0_row20\" class=\"row_heading level0 row20\" >rougher.state.floatbank10_f_level</th>\n",
              "      <td id=\"T_2e7d9_row20_col0\" class=\"data row20 col0\" >0.000000</td>\n",
              "    </tr>\n",
              "    <tr>\n",
              "      <th id=\"T_2e7d9_level0_row21\" class=\"row_heading level0 row21\" >rougher.input.floatbank11_sulfate</th>\n",
              "      <td id=\"T_2e7d9_row21_col0\" class=\"data row21 col0\" >0.000000</td>\n",
              "    </tr>\n",
              "    <tr>\n",
              "      <th id=\"T_2e7d9_level0_row22\" class=\"row_heading level0 row22\" >rougher.input.floatbank11_xanthate</th>\n",
              "      <td id=\"T_2e7d9_row22_col0\" class=\"data row22 col0\" >1.000000</td>\n",
              "    </tr>\n",
              "    <tr>\n",
              "      <th id=\"T_2e7d9_level0_row23\" class=\"row_heading level0 row23\" >primary_cleaner.input.sulfate</th>\n",
              "      <td id=\"T_2e7d9_row23_col0\" class=\"data row23 col0\" >0.000000</td>\n",
              "    </tr>\n",
              "    <tr>\n",
              "      <th id=\"T_2e7d9_level0_row24\" class=\"row_heading level0 row24\" >primary_cleaner.input.depressant</th>\n",
              "      <td id=\"T_2e7d9_row24_col0\" class=\"data row24 col0\" >0.000000</td>\n",
              "    </tr>\n",
              "    <tr>\n",
              "      <th id=\"T_2e7d9_level0_row25\" class=\"row_heading level0 row25\" >primary_cleaner.input.feed_size</th>\n",
              "      <td id=\"T_2e7d9_row25_col0\" class=\"data row25 col0\" >0.000000</td>\n",
              "    </tr>\n",
              "    <tr>\n",
              "      <th id=\"T_2e7d9_level0_row26\" class=\"row_heading level0 row26\" >primary_cleaner.input.xanthate</th>\n",
              "      <td id=\"T_2e7d9_row26_col0\" class=\"data row26 col0\" >1.000000</td>\n",
              "    </tr>\n",
              "    <tr>\n",
              "      <th id=\"T_2e7d9_level0_row27\" class=\"row_heading level0 row27\" >primary_cleaner.state.floatbank8_a_air</th>\n",
              "      <td id=\"T_2e7d9_row27_col0\" class=\"data row27 col0\" >0.000000</td>\n",
              "    </tr>\n",
              "    <tr>\n",
              "      <th id=\"T_2e7d9_level0_row28\" class=\"row_heading level0 row28\" >primary_cleaner.state.floatbank8_a_level</th>\n",
              "      <td id=\"T_2e7d9_row28_col0\" class=\"data row28 col0\" >0.000000</td>\n",
              "    </tr>\n",
              "    <tr>\n",
              "      <th id=\"T_2e7d9_level0_row29\" class=\"row_heading level0 row29\" >primary_cleaner.state.floatbank8_b_air</th>\n",
              "      <td id=\"T_2e7d9_row29_col0\" class=\"data row29 col0\" >0.000000</td>\n",
              "    </tr>\n",
              "    <tr>\n",
              "      <th id=\"T_2e7d9_level0_row30\" class=\"row_heading level0 row30\" >primary_cleaner.state.floatbank8_b_level</th>\n",
              "      <td id=\"T_2e7d9_row30_col0\" class=\"data row30 col0\" >0.000000</td>\n",
              "    </tr>\n",
              "    <tr>\n",
              "      <th id=\"T_2e7d9_level0_row31\" class=\"row_heading level0 row31\" >primary_cleaner.state.floatbank8_c_air</th>\n",
              "      <td id=\"T_2e7d9_row31_col0\" class=\"data row31 col0\" >0.000000</td>\n",
              "    </tr>\n",
              "    <tr>\n",
              "      <th id=\"T_2e7d9_level0_row32\" class=\"row_heading level0 row32\" >primary_cleaner.state.floatbank8_c_level</th>\n",
              "      <td id=\"T_2e7d9_row32_col0\" class=\"data row32 col0\" >0.000000</td>\n",
              "    </tr>\n",
              "    <tr>\n",
              "      <th id=\"T_2e7d9_level0_row33\" class=\"row_heading level0 row33\" >primary_cleaner.state.floatbank8_d_air</th>\n",
              "      <td id=\"T_2e7d9_row33_col0\" class=\"data row33 col0\" >0.000000</td>\n",
              "    </tr>\n",
              "    <tr>\n",
              "      <th id=\"T_2e7d9_level0_row34\" class=\"row_heading level0 row34\" >primary_cleaner.state.floatbank8_d_level</th>\n",
              "      <td id=\"T_2e7d9_row34_col0\" class=\"data row34 col0\" >0.000000</td>\n",
              "    </tr>\n",
              "    <tr>\n",
              "      <th id=\"T_2e7d9_level0_row35\" class=\"row_heading level0 row35\" >secondary_cleaner.state.floatbank2_a_air</th>\n",
              "      <td id=\"T_2e7d9_row35_col0\" class=\"data row35 col0\" >3.000000</td>\n",
              "    </tr>\n",
              "    <tr>\n",
              "      <th id=\"T_2e7d9_level0_row36\" class=\"row_heading level0 row36\" >secondary_cleaner.state.floatbank2_a_level</th>\n",
              "      <td id=\"T_2e7d9_row36_col0\" class=\"data row36 col0\" >0.000000</td>\n",
              "    </tr>\n",
              "    <tr>\n",
              "      <th id=\"T_2e7d9_level0_row37\" class=\"row_heading level0 row37\" >secondary_cleaner.state.floatbank2_b_air</th>\n",
              "      <td id=\"T_2e7d9_row37_col0\" class=\"data row37 col0\" >0.000000</td>\n",
              "    </tr>\n",
              "    <tr>\n",
              "      <th id=\"T_2e7d9_level0_row38\" class=\"row_heading level0 row38\" >secondary_cleaner.state.floatbank2_b_level</th>\n",
              "      <td id=\"T_2e7d9_row38_col0\" class=\"data row38 col0\" >0.000000</td>\n",
              "    </tr>\n",
              "    <tr>\n",
              "      <th id=\"T_2e7d9_level0_row39\" class=\"row_heading level0 row39\" >secondary_cleaner.state.floatbank3_a_air</th>\n",
              "      <td id=\"T_2e7d9_row39_col0\" class=\"data row39 col0\" >0.000000</td>\n",
              "    </tr>\n",
              "    <tr>\n",
              "      <th id=\"T_2e7d9_level0_row40\" class=\"row_heading level0 row40\" >secondary_cleaner.state.floatbank3_a_level</th>\n",
              "      <td id=\"T_2e7d9_row40_col0\" class=\"data row40 col0\" >0.000000</td>\n",
              "    </tr>\n",
              "    <tr>\n",
              "      <th id=\"T_2e7d9_level0_row41\" class=\"row_heading level0 row41\" >secondary_cleaner.state.floatbank3_b_air</th>\n",
              "      <td id=\"T_2e7d9_row41_col0\" class=\"data row41 col0\" >0.000000</td>\n",
              "    </tr>\n",
              "    <tr>\n",
              "      <th id=\"T_2e7d9_level0_row42\" class=\"row_heading level0 row42\" >secondary_cleaner.state.floatbank3_b_level</th>\n",
              "      <td id=\"T_2e7d9_row42_col0\" class=\"data row42 col0\" >0.000000</td>\n",
              "    </tr>\n",
              "    <tr>\n",
              "      <th id=\"T_2e7d9_level0_row43\" class=\"row_heading level0 row43\" >secondary_cleaner.state.floatbank4_a_air</th>\n",
              "      <td id=\"T_2e7d9_row43_col0\" class=\"data row43 col0\" >0.000000</td>\n",
              "    </tr>\n",
              "    <tr>\n",
              "      <th id=\"T_2e7d9_level0_row44\" class=\"row_heading level0 row44\" >secondary_cleaner.state.floatbank4_a_level</th>\n",
              "      <td id=\"T_2e7d9_row44_col0\" class=\"data row44 col0\" >0.000000</td>\n",
              "    </tr>\n",
              "    <tr>\n",
              "      <th id=\"T_2e7d9_level0_row45\" class=\"row_heading level0 row45\" >secondary_cleaner.state.floatbank4_b_air</th>\n",
              "      <td id=\"T_2e7d9_row45_col0\" class=\"data row45 col0\" >0.000000</td>\n",
              "    </tr>\n",
              "    <tr>\n",
              "      <th id=\"T_2e7d9_level0_row46\" class=\"row_heading level0 row46\" >secondary_cleaner.state.floatbank4_b_level</th>\n",
              "      <td id=\"T_2e7d9_row46_col0\" class=\"data row46 col0\" >0.000000</td>\n",
              "    </tr>\n",
              "    <tr>\n",
              "      <th id=\"T_2e7d9_level0_row47\" class=\"row_heading level0 row47\" >secondary_cleaner.state.floatbank5_a_air</th>\n",
              "      <td id=\"T_2e7d9_row47_col0\" class=\"data row47 col0\" >0.000000</td>\n",
              "    </tr>\n",
              "    <tr>\n",
              "      <th id=\"T_2e7d9_level0_row48\" class=\"row_heading level0 row48\" >secondary_cleaner.state.floatbank5_a_level</th>\n",
              "      <td id=\"T_2e7d9_row48_col0\" class=\"data row48 col0\" >0.000000</td>\n",
              "    </tr>\n",
              "    <tr>\n",
              "      <th id=\"T_2e7d9_level0_row49\" class=\"row_heading level0 row49\" >secondary_cleaner.state.floatbank5_b_air</th>\n",
              "      <td id=\"T_2e7d9_row49_col0\" class=\"data row49 col0\" >0.000000</td>\n",
              "    </tr>\n",
              "    <tr>\n",
              "      <th id=\"T_2e7d9_level0_row50\" class=\"row_heading level0 row50\" >secondary_cleaner.state.floatbank5_b_level</th>\n",
              "      <td id=\"T_2e7d9_row50_col0\" class=\"data row50 col0\" >0.000000</td>\n",
              "    </tr>\n",
              "    <tr>\n",
              "      <th id=\"T_2e7d9_level0_row51\" class=\"row_heading level0 row51\" >secondary_cleaner.state.floatbank6_a_air</th>\n",
              "      <td id=\"T_2e7d9_row51_col0\" class=\"data row51 col0\" >0.000000</td>\n",
              "    </tr>\n",
              "    <tr>\n",
              "      <th id=\"T_2e7d9_level0_row52\" class=\"row_heading level0 row52\" >secondary_cleaner.state.floatbank6_a_level</th>\n",
              "      <td id=\"T_2e7d9_row52_col0\" class=\"data row52 col0\" >0.000000</td>\n",
              "    </tr>\n",
              "  </tbody>\n",
              "</table>\n"
            ]
          },
          "metadata": {},
          "execution_count": 22
        }
      ],
      "source": [
        "pd.DataFrame(\n",
        "    round(\n",
        "        test_df.isna().mean() * 100,\n",
        "    )\n",
        ").style.background_gradient(\"coolwarm\")"
      ]
    },
    {
      "cell_type": "code",
      "execution_count": null,
      "metadata": {
        "id": "ttUXmyC10do2",
        "outputId": "32560151-400a-48e4-de56-310371148391",
        "colab": {
          "base_uri": "https://localhost:8080/",
          "height": 1000
        }
      },
      "outputs": [
        {
          "output_type": "execute_result",
          "data": {
            "text/plain": [
              "<pandas.io.formats.style.Styler at 0x7fdc87185420>"
            ],
            "text/html": [
              "<style type=\"text/css\">\n",
              "#T_1ea15_row0_col0, #T_1ea15_row1_col0, #T_1ea15_row2_col0, #T_1ea15_row3_col0, #T_1ea15_row5_col0, #T_1ea15_row7_col0, #T_1ea15_row8_col0, #T_1ea15_row9_col0, #T_1ea15_row10_col0, #T_1ea15_row11_col0, #T_1ea15_row12_col0, #T_1ea15_row13_col0, #T_1ea15_row14_col0, #T_1ea15_row15_col0, #T_1ea15_row16_col0, #T_1ea15_row18_col0, #T_1ea15_row19_col0, #T_1ea15_row20_col0, #T_1ea15_row21_col0, #T_1ea15_row23_col0, #T_1ea15_row24_col0, #T_1ea15_row25_col0, #T_1ea15_row26_col0, #T_1ea15_row27_col0, #T_1ea15_row28_col0, #T_1ea15_row29_col0, #T_1ea15_row30_col0, #T_1ea15_row31_col0, #T_1ea15_row32_col0, #T_1ea15_row33_col0, #T_1ea15_row34_col0, #T_1ea15_row35_col0, #T_1ea15_row36_col0, #T_1ea15_row37_col0, #T_1ea15_row38_col0, #T_1ea15_row39_col0, #T_1ea15_row40_col0, #T_1ea15_row41_col0, #T_1ea15_row42_col0, #T_1ea15_row43_col0, #T_1ea15_row44_col0, #T_1ea15_row45_col0, #T_1ea15_row46_col0, #T_1ea15_row47_col0, #T_1ea15_row48_col0, #T_1ea15_row49_col0, #T_1ea15_row52_col0, #T_1ea15_row53_col0, #T_1ea15_row54_col0, #T_1ea15_row55_col0, #T_1ea15_row57_col0, #T_1ea15_row58_col0, #T_1ea15_row59_col0, #T_1ea15_row60_col0, #T_1ea15_row61_col0, #T_1ea15_row62_col0, #T_1ea15_row63_col0, #T_1ea15_row64_col0, #T_1ea15_row65_col0, #T_1ea15_row66_col0, #T_1ea15_row67_col0, #T_1ea15_row68_col0, #T_1ea15_row69_col0, #T_1ea15_row70_col0, #T_1ea15_row71_col0, #T_1ea15_row72_col0, #T_1ea15_row73_col0, #T_1ea15_row74_col0, #T_1ea15_row75_col0, #T_1ea15_row76_col0, #T_1ea15_row78_col0, #T_1ea15_row79_col0, #T_1ea15_row80_col0, #T_1ea15_row82_col0, #T_1ea15_row83_col0, #T_1ea15_row84_col0, #T_1ea15_row86_col0 {\n",
              "  background-color: #3b4cc0;\n",
              "  color: #f1f1f1;\n",
              "}\n",
              "#T_1ea15_row4_col0, #T_1ea15_row6_col0, #T_1ea15_row50_col0, #T_1ea15_row56_col0, #T_1ea15_row81_col0, #T_1ea15_row85_col0 {\n",
              "  background-color: #6f92f3;\n",
              "  color: #f1f1f1;\n",
              "}\n",
              "#T_1ea15_row17_col0, #T_1ea15_row22_col0 {\n",
              "  background-color: #dddcdc;\n",
              "  color: #000000;\n",
              "}\n",
              "#T_1ea15_row51_col0 {\n",
              "  background-color: #aac7fd;\n",
              "  color: #000000;\n",
              "}\n",
              "#T_1ea15_row77_col0 {\n",
              "  background-color: #b40426;\n",
              "  color: #f1f1f1;\n",
              "}\n",
              "</style>\n",
              "<table id=\"T_1ea15\" class=\"dataframe\">\n",
              "  <thead>\n",
              "    <tr>\n",
              "      <th class=\"blank level0\" >&nbsp;</th>\n",
              "      <th id=\"T_1ea15_level0_col0\" class=\"col_heading level0 col0\" >0</th>\n",
              "    </tr>\n",
              "  </thead>\n",
              "  <tbody>\n",
              "    <tr>\n",
              "      <th id=\"T_1ea15_level0_row0\" class=\"row_heading level0 row0\" >date</th>\n",
              "      <td id=\"T_1ea15_row0_col0\" class=\"data row0 col0\" >0.000000</td>\n",
              "    </tr>\n",
              "    <tr>\n",
              "      <th id=\"T_1ea15_level0_row1\" class=\"row_heading level0 row1\" >rougher.input.feed_au</th>\n",
              "      <td id=\"T_1ea15_row1_col0\" class=\"data row1 col0\" >0.000000</td>\n",
              "    </tr>\n",
              "    <tr>\n",
              "      <th id=\"T_1ea15_level0_row2\" class=\"row_heading level0 row2\" >rougher.input.feed_ag</th>\n",
              "      <td id=\"T_1ea15_row2_col0\" class=\"data row2 col0\" >0.000000</td>\n",
              "    </tr>\n",
              "    <tr>\n",
              "      <th id=\"T_1ea15_level0_row3\" class=\"row_heading level0 row3\" >rougher.input.feed_pb</th>\n",
              "      <td id=\"T_1ea15_row3_col0\" class=\"data row3 col0\" >0.000000</td>\n",
              "    </tr>\n",
              "    <tr>\n",
              "      <th id=\"T_1ea15_level0_row4\" class=\"row_heading level0 row4\" >rougher.input.feed_sol</th>\n",
              "      <td id=\"T_1ea15_row4_col0\" class=\"data row4 col0\" >1.000000</td>\n",
              "    </tr>\n",
              "    <tr>\n",
              "      <th id=\"T_1ea15_level0_row5\" class=\"row_heading level0 row5\" >rougher.input.feed_rate</th>\n",
              "      <td id=\"T_1ea15_row5_col0\" class=\"data row5 col0\" >0.000000</td>\n",
              "    </tr>\n",
              "    <tr>\n",
              "      <th id=\"T_1ea15_level0_row6\" class=\"row_heading level0 row6\" >rougher.input.feed_size</th>\n",
              "      <td id=\"T_1ea15_row6_col0\" class=\"data row6 col0\" >1.000000</td>\n",
              "    </tr>\n",
              "    <tr>\n",
              "      <th id=\"T_1ea15_level0_row7\" class=\"row_heading level0 row7\" >rougher.input.floatbank10_sulfate</th>\n",
              "      <td id=\"T_1ea15_row7_col0\" class=\"data row7 col0\" >0.000000</td>\n",
              "    </tr>\n",
              "    <tr>\n",
              "      <th id=\"T_1ea15_level0_row8\" class=\"row_heading level0 row8\" >rougher.input.floatbank10_xanthate</th>\n",
              "      <td id=\"T_1ea15_row8_col0\" class=\"data row8 col0\" >0.000000</td>\n",
              "    </tr>\n",
              "    <tr>\n",
              "      <th id=\"T_1ea15_level0_row9\" class=\"row_heading level0 row9\" >rougher.state.floatbank10_a_air</th>\n",
              "      <td id=\"T_1ea15_row9_col0\" class=\"data row9 col0\" >0.000000</td>\n",
              "    </tr>\n",
              "    <tr>\n",
              "      <th id=\"T_1ea15_level0_row10\" class=\"row_heading level0 row10\" >rougher.state.floatbank10_a_level</th>\n",
              "      <td id=\"T_1ea15_row10_col0\" class=\"data row10 col0\" >0.000000</td>\n",
              "    </tr>\n",
              "    <tr>\n",
              "      <th id=\"T_1ea15_level0_row11\" class=\"row_heading level0 row11\" >rougher.state.floatbank10_b_air</th>\n",
              "      <td id=\"T_1ea15_row11_col0\" class=\"data row11 col0\" >0.000000</td>\n",
              "    </tr>\n",
              "    <tr>\n",
              "      <th id=\"T_1ea15_level0_row12\" class=\"row_heading level0 row12\" >rougher.state.floatbank10_b_level</th>\n",
              "      <td id=\"T_1ea15_row12_col0\" class=\"data row12 col0\" >0.000000</td>\n",
              "    </tr>\n",
              "    <tr>\n",
              "      <th id=\"T_1ea15_level0_row13\" class=\"row_heading level0 row13\" >rougher.state.floatbank10_c_air</th>\n",
              "      <td id=\"T_1ea15_row13_col0\" class=\"data row13 col0\" >0.000000</td>\n",
              "    </tr>\n",
              "    <tr>\n",
              "      <th id=\"T_1ea15_level0_row14\" class=\"row_heading level0 row14\" >rougher.state.floatbank10_c_level</th>\n",
              "      <td id=\"T_1ea15_row14_col0\" class=\"data row14 col0\" >0.000000</td>\n",
              "    </tr>\n",
              "    <tr>\n",
              "      <th id=\"T_1ea15_level0_row15\" class=\"row_heading level0 row15\" >rougher.state.floatbank10_d_air</th>\n",
              "      <td id=\"T_1ea15_row15_col0\" class=\"data row15 col0\" >0.000000</td>\n",
              "    </tr>\n",
              "    <tr>\n",
              "      <th id=\"T_1ea15_level0_row16\" class=\"row_heading level0 row16\" >rougher.state.floatbank10_d_level</th>\n",
              "      <td id=\"T_1ea15_row16_col0\" class=\"data row16 col0\" >0.000000</td>\n",
              "    </tr>\n",
              "    <tr>\n",
              "      <th id=\"T_1ea15_level0_row17\" class=\"row_heading level0 row17\" >rougher.state.floatbank10_e_air</th>\n",
              "      <td id=\"T_1ea15_row17_col0\" class=\"data row17 col0\" >3.000000</td>\n",
              "    </tr>\n",
              "    <tr>\n",
              "      <th id=\"T_1ea15_level0_row18\" class=\"row_heading level0 row18\" >rougher.state.floatbank10_e_level</th>\n",
              "      <td id=\"T_1ea15_row18_col0\" class=\"data row18 col0\" >0.000000</td>\n",
              "    </tr>\n",
              "    <tr>\n",
              "      <th id=\"T_1ea15_level0_row19\" class=\"row_heading level0 row19\" >rougher.state.floatbank10_f_air</th>\n",
              "      <td id=\"T_1ea15_row19_col0\" class=\"data row19 col0\" >0.000000</td>\n",
              "    </tr>\n",
              "    <tr>\n",
              "      <th id=\"T_1ea15_level0_row20\" class=\"row_heading level0 row20\" >rougher.state.floatbank10_f_level</th>\n",
              "      <td id=\"T_1ea15_row20_col0\" class=\"data row20 col0\" >0.000000</td>\n",
              "    </tr>\n",
              "    <tr>\n",
              "      <th id=\"T_1ea15_level0_row21\" class=\"row_heading level0 row21\" >rougher.input.floatbank11_sulfate</th>\n",
              "      <td id=\"T_1ea15_row21_col0\" class=\"data row21 col0\" >0.000000</td>\n",
              "    </tr>\n",
              "    <tr>\n",
              "      <th id=\"T_1ea15_level0_row22\" class=\"row_heading level0 row22\" >rougher.input.floatbank11_xanthate</th>\n",
              "      <td id=\"T_1ea15_row22_col0\" class=\"data row22 col0\" >3.000000</td>\n",
              "    </tr>\n",
              "    <tr>\n",
              "      <th id=\"T_1ea15_level0_row23\" class=\"row_heading level0 row23\" >rougher.calculation.sulfate_to_au_concentrate</th>\n",
              "      <td id=\"T_1ea15_row23_col0\" class=\"data row23 col0\" >0.000000</td>\n",
              "    </tr>\n",
              "    <tr>\n",
              "      <th id=\"T_1ea15_level0_row24\" class=\"row_heading level0 row24\" >rougher.calculation.floatbank10_sulfate_to_au_feed</th>\n",
              "      <td id=\"T_1ea15_row24_col0\" class=\"data row24 col0\" >0.000000</td>\n",
              "    </tr>\n",
              "    <tr>\n",
              "      <th id=\"T_1ea15_level0_row25\" class=\"row_heading level0 row25\" >rougher.calculation.floatbank11_sulfate_to_au_feed</th>\n",
              "      <td id=\"T_1ea15_row25_col0\" class=\"data row25 col0\" >0.000000</td>\n",
              "    </tr>\n",
              "    <tr>\n",
              "      <th id=\"T_1ea15_level0_row26\" class=\"row_heading level0 row26\" >rougher.calculation.au_pb_ratio</th>\n",
              "      <td id=\"T_1ea15_row26_col0\" class=\"data row26 col0\" >0.000000</td>\n",
              "    </tr>\n",
              "    <tr>\n",
              "      <th id=\"T_1ea15_level0_row27\" class=\"row_heading level0 row27\" >rougher.output.concentrate_au</th>\n",
              "      <td id=\"T_1ea15_row27_col0\" class=\"data row27 col0\" >0.000000</td>\n",
              "    </tr>\n",
              "    <tr>\n",
              "      <th id=\"T_1ea15_level0_row28\" class=\"row_heading level0 row28\" >rougher.output.concentrate_ag</th>\n",
              "      <td id=\"T_1ea15_row28_col0\" class=\"data row28 col0\" >0.000000</td>\n",
              "    </tr>\n",
              "    <tr>\n",
              "      <th id=\"T_1ea15_level0_row29\" class=\"row_heading level0 row29\" >rougher.output.concentrate_pb</th>\n",
              "      <td id=\"T_1ea15_row29_col0\" class=\"data row29 col0\" >0.000000</td>\n",
              "    </tr>\n",
              "    <tr>\n",
              "      <th id=\"T_1ea15_level0_row30\" class=\"row_heading level0 row30\" >rougher.output.concentrate_sol</th>\n",
              "      <td id=\"T_1ea15_row30_col0\" class=\"data row30 col0\" >0.000000</td>\n",
              "    </tr>\n",
              "    <tr>\n",
              "      <th id=\"T_1ea15_level0_row31\" class=\"row_heading level0 row31\" >rougher.output.recovery</th>\n",
              "      <td id=\"T_1ea15_row31_col0\" class=\"data row31 col0\" >0.000000</td>\n",
              "    </tr>\n",
              "    <tr>\n",
              "      <th id=\"T_1ea15_level0_row32\" class=\"row_heading level0 row32\" >rougher.output.tail_au</th>\n",
              "      <td id=\"T_1ea15_row32_col0\" class=\"data row32 col0\" >0.000000</td>\n",
              "    </tr>\n",
              "    <tr>\n",
              "      <th id=\"T_1ea15_level0_row33\" class=\"row_heading level0 row33\" >rougher.output.tail_ag</th>\n",
              "      <td id=\"T_1ea15_row33_col0\" class=\"data row33 col0\" >0.000000</td>\n",
              "    </tr>\n",
              "    <tr>\n",
              "      <th id=\"T_1ea15_level0_row34\" class=\"row_heading level0 row34\" >rougher.output.tail_pb</th>\n",
              "      <td id=\"T_1ea15_row34_col0\" class=\"data row34 col0\" >0.000000</td>\n",
              "    </tr>\n",
              "    <tr>\n",
              "      <th id=\"T_1ea15_level0_row35\" class=\"row_heading level0 row35\" >rougher.output.tail_sol</th>\n",
              "      <td id=\"T_1ea15_row35_col0\" class=\"data row35 col0\" >0.000000</td>\n",
              "    </tr>\n",
              "    <tr>\n",
              "      <th id=\"T_1ea15_level0_row36\" class=\"row_heading level0 row36\" >primary_cleaner.input.sulfate</th>\n",
              "      <td id=\"T_1ea15_row36_col0\" class=\"data row36 col0\" >0.000000</td>\n",
              "    </tr>\n",
              "    <tr>\n",
              "      <th id=\"T_1ea15_level0_row37\" class=\"row_heading level0 row37\" >primary_cleaner.input.depressant</th>\n",
              "      <td id=\"T_1ea15_row37_col0\" class=\"data row37 col0\" >0.000000</td>\n",
              "    </tr>\n",
              "    <tr>\n",
              "      <th id=\"T_1ea15_level0_row38\" class=\"row_heading level0 row38\" >primary_cleaner.input.feed_size</th>\n",
              "      <td id=\"T_1ea15_row38_col0\" class=\"data row38 col0\" >0.000000</td>\n",
              "    </tr>\n",
              "    <tr>\n",
              "      <th id=\"T_1ea15_level0_row39\" class=\"row_heading level0 row39\" >primary_cleaner.input.xanthate</th>\n",
              "      <td id=\"T_1ea15_row39_col0\" class=\"data row39 col0\" >0.000000</td>\n",
              "    </tr>\n",
              "    <tr>\n",
              "      <th id=\"T_1ea15_level0_row40\" class=\"row_heading level0 row40\" >primary_cleaner.state.floatbank8_a_air</th>\n",
              "      <td id=\"T_1ea15_row40_col0\" class=\"data row40 col0\" >0.000000</td>\n",
              "    </tr>\n",
              "    <tr>\n",
              "      <th id=\"T_1ea15_level0_row41\" class=\"row_heading level0 row41\" >primary_cleaner.state.floatbank8_a_level</th>\n",
              "      <td id=\"T_1ea15_row41_col0\" class=\"data row41 col0\" >0.000000</td>\n",
              "    </tr>\n",
              "    <tr>\n",
              "      <th id=\"T_1ea15_level0_row42\" class=\"row_heading level0 row42\" >primary_cleaner.state.floatbank8_b_air</th>\n",
              "      <td id=\"T_1ea15_row42_col0\" class=\"data row42 col0\" >0.000000</td>\n",
              "    </tr>\n",
              "    <tr>\n",
              "      <th id=\"T_1ea15_level0_row43\" class=\"row_heading level0 row43\" >primary_cleaner.state.floatbank8_b_level</th>\n",
              "      <td id=\"T_1ea15_row43_col0\" class=\"data row43 col0\" >0.000000</td>\n",
              "    </tr>\n",
              "    <tr>\n",
              "      <th id=\"T_1ea15_level0_row44\" class=\"row_heading level0 row44\" >primary_cleaner.state.floatbank8_c_air</th>\n",
              "      <td id=\"T_1ea15_row44_col0\" class=\"data row44 col0\" >0.000000</td>\n",
              "    </tr>\n",
              "    <tr>\n",
              "      <th id=\"T_1ea15_level0_row45\" class=\"row_heading level0 row45\" >primary_cleaner.state.floatbank8_c_level</th>\n",
              "      <td id=\"T_1ea15_row45_col0\" class=\"data row45 col0\" >0.000000</td>\n",
              "    </tr>\n",
              "    <tr>\n",
              "      <th id=\"T_1ea15_level0_row46\" class=\"row_heading level0 row46\" >primary_cleaner.state.floatbank8_d_air</th>\n",
              "      <td id=\"T_1ea15_row46_col0\" class=\"data row46 col0\" >0.000000</td>\n",
              "    </tr>\n",
              "    <tr>\n",
              "      <th id=\"T_1ea15_level0_row47\" class=\"row_heading level0 row47\" >primary_cleaner.state.floatbank8_d_level</th>\n",
              "      <td id=\"T_1ea15_row47_col0\" class=\"data row47 col0\" >0.000000</td>\n",
              "    </tr>\n",
              "    <tr>\n",
              "      <th id=\"T_1ea15_level0_row48\" class=\"row_heading level0 row48\" >primary_cleaner.output.concentrate_au</th>\n",
              "      <td id=\"T_1ea15_row48_col0\" class=\"data row48 col0\" >0.000000</td>\n",
              "    </tr>\n",
              "    <tr>\n",
              "      <th id=\"T_1ea15_level0_row49\" class=\"row_heading level0 row49\" >primary_cleaner.output.concentrate_ag</th>\n",
              "      <td id=\"T_1ea15_row49_col0\" class=\"data row49 col0\" >0.000000</td>\n",
              "    </tr>\n",
              "    <tr>\n",
              "      <th id=\"T_1ea15_level0_row50\" class=\"row_heading level0 row50\" >primary_cleaner.output.concentrate_pb</th>\n",
              "      <td id=\"T_1ea15_row50_col0\" class=\"data row50 col0\" >1.000000</td>\n",
              "    </tr>\n",
              "    <tr>\n",
              "      <th id=\"T_1ea15_level0_row51\" class=\"row_heading level0 row51\" >primary_cleaner.output.concentrate_sol</th>\n",
              "      <td id=\"T_1ea15_row51_col0\" class=\"data row51 col0\" >2.000000</td>\n",
              "    </tr>\n",
              "    <tr>\n",
              "      <th id=\"T_1ea15_level0_row52\" class=\"row_heading level0 row52\" >primary_cleaner.output.tail_au</th>\n",
              "      <td id=\"T_1ea15_row52_col0\" class=\"data row52 col0\" >0.000000</td>\n",
              "    </tr>\n",
              "    <tr>\n",
              "      <th id=\"T_1ea15_level0_row53\" class=\"row_heading level0 row53\" >primary_cleaner.output.tail_ag</th>\n",
              "      <td id=\"T_1ea15_row53_col0\" class=\"data row53 col0\" >0.000000</td>\n",
              "    </tr>\n",
              "    <tr>\n",
              "      <th id=\"T_1ea15_level0_row54\" class=\"row_heading level0 row54\" >primary_cleaner.output.tail_pb</th>\n",
              "      <td id=\"T_1ea15_row54_col0\" class=\"data row54 col0\" >0.000000</td>\n",
              "    </tr>\n",
              "    <tr>\n",
              "      <th id=\"T_1ea15_level0_row55\" class=\"row_heading level0 row55\" >primary_cleaner.output.tail_sol</th>\n",
              "      <td id=\"T_1ea15_row55_col0\" class=\"data row55 col0\" >0.000000</td>\n",
              "    </tr>\n",
              "    <tr>\n",
              "      <th id=\"T_1ea15_level0_row56\" class=\"row_heading level0 row56\" >secondary_cleaner.state.floatbank2_a_air</th>\n",
              "      <td id=\"T_1ea15_row56_col0\" class=\"data row56 col0\" >1.000000</td>\n",
              "    </tr>\n",
              "    <tr>\n",
              "      <th id=\"T_1ea15_level0_row57\" class=\"row_heading level0 row57\" >secondary_cleaner.state.floatbank2_a_level</th>\n",
              "      <td id=\"T_1ea15_row57_col0\" class=\"data row57 col0\" >0.000000</td>\n",
              "    </tr>\n",
              "    <tr>\n",
              "      <th id=\"T_1ea15_level0_row58\" class=\"row_heading level0 row58\" >secondary_cleaner.state.floatbank2_b_air</th>\n",
              "      <td id=\"T_1ea15_row58_col0\" class=\"data row58 col0\" >0.000000</td>\n",
              "    </tr>\n",
              "    <tr>\n",
              "      <th id=\"T_1ea15_level0_row59\" class=\"row_heading level0 row59\" >secondary_cleaner.state.floatbank2_b_level</th>\n",
              "      <td id=\"T_1ea15_row59_col0\" class=\"data row59 col0\" >0.000000</td>\n",
              "    </tr>\n",
              "    <tr>\n",
              "      <th id=\"T_1ea15_level0_row60\" class=\"row_heading level0 row60\" >secondary_cleaner.state.floatbank3_a_air</th>\n",
              "      <td id=\"T_1ea15_row60_col0\" class=\"data row60 col0\" >0.000000</td>\n",
              "    </tr>\n",
              "    <tr>\n",
              "      <th id=\"T_1ea15_level0_row61\" class=\"row_heading level0 row61\" >secondary_cleaner.state.floatbank3_a_level</th>\n",
              "      <td id=\"T_1ea15_row61_col0\" class=\"data row61 col0\" >0.000000</td>\n",
              "    </tr>\n",
              "    <tr>\n",
              "      <th id=\"T_1ea15_level0_row62\" class=\"row_heading level0 row62\" >secondary_cleaner.state.floatbank3_b_air</th>\n",
              "      <td id=\"T_1ea15_row62_col0\" class=\"data row62 col0\" >0.000000</td>\n",
              "    </tr>\n",
              "    <tr>\n",
              "      <th id=\"T_1ea15_level0_row63\" class=\"row_heading level0 row63\" >secondary_cleaner.state.floatbank3_b_level</th>\n",
              "      <td id=\"T_1ea15_row63_col0\" class=\"data row63 col0\" >0.000000</td>\n",
              "    </tr>\n",
              "    <tr>\n",
              "      <th id=\"T_1ea15_level0_row64\" class=\"row_heading level0 row64\" >secondary_cleaner.state.floatbank4_a_air</th>\n",
              "      <td id=\"T_1ea15_row64_col0\" class=\"data row64 col0\" >0.000000</td>\n",
              "    </tr>\n",
              "    <tr>\n",
              "      <th id=\"T_1ea15_level0_row65\" class=\"row_heading level0 row65\" >secondary_cleaner.state.floatbank4_a_level</th>\n",
              "      <td id=\"T_1ea15_row65_col0\" class=\"data row65 col0\" >0.000000</td>\n",
              "    </tr>\n",
              "    <tr>\n",
              "      <th id=\"T_1ea15_level0_row66\" class=\"row_heading level0 row66\" >secondary_cleaner.state.floatbank4_b_air</th>\n",
              "      <td id=\"T_1ea15_row66_col0\" class=\"data row66 col0\" >0.000000</td>\n",
              "    </tr>\n",
              "    <tr>\n",
              "      <th id=\"T_1ea15_level0_row67\" class=\"row_heading level0 row67\" >secondary_cleaner.state.floatbank4_b_level</th>\n",
              "      <td id=\"T_1ea15_row67_col0\" class=\"data row67 col0\" >0.000000</td>\n",
              "    </tr>\n",
              "    <tr>\n",
              "      <th id=\"T_1ea15_level0_row68\" class=\"row_heading level0 row68\" >secondary_cleaner.state.floatbank5_a_air</th>\n",
              "      <td id=\"T_1ea15_row68_col0\" class=\"data row68 col0\" >0.000000</td>\n",
              "    </tr>\n",
              "    <tr>\n",
              "      <th id=\"T_1ea15_level0_row69\" class=\"row_heading level0 row69\" >secondary_cleaner.state.floatbank5_a_level</th>\n",
              "      <td id=\"T_1ea15_row69_col0\" class=\"data row69 col0\" >0.000000</td>\n",
              "    </tr>\n",
              "    <tr>\n",
              "      <th id=\"T_1ea15_level0_row70\" class=\"row_heading level0 row70\" >secondary_cleaner.state.floatbank5_b_air</th>\n",
              "      <td id=\"T_1ea15_row70_col0\" class=\"data row70 col0\" >0.000000</td>\n",
              "    </tr>\n",
              "    <tr>\n",
              "      <th id=\"T_1ea15_level0_row71\" class=\"row_heading level0 row71\" >secondary_cleaner.state.floatbank5_b_level</th>\n",
              "      <td id=\"T_1ea15_row71_col0\" class=\"data row71 col0\" >0.000000</td>\n",
              "    </tr>\n",
              "    <tr>\n",
              "      <th id=\"T_1ea15_level0_row72\" class=\"row_heading level0 row72\" >secondary_cleaner.state.floatbank6_a_air</th>\n",
              "      <td id=\"T_1ea15_row72_col0\" class=\"data row72 col0\" >0.000000</td>\n",
              "    </tr>\n",
              "    <tr>\n",
              "      <th id=\"T_1ea15_level0_row73\" class=\"row_heading level0 row73\" >secondary_cleaner.state.floatbank6_a_level</th>\n",
              "      <td id=\"T_1ea15_row73_col0\" class=\"data row73 col0\" >0.000000</td>\n",
              "    </tr>\n",
              "    <tr>\n",
              "      <th id=\"T_1ea15_level0_row74\" class=\"row_heading level0 row74\" >secondary_cleaner.output.tail_au</th>\n",
              "      <td id=\"T_1ea15_row74_col0\" class=\"data row74 col0\" >0.000000</td>\n",
              "    </tr>\n",
              "    <tr>\n",
              "      <th id=\"T_1ea15_level0_row75\" class=\"row_heading level0 row75\" >secondary_cleaner.output.tail_ag</th>\n",
              "      <td id=\"T_1ea15_row75_col0\" class=\"data row75 col0\" >0.000000</td>\n",
              "    </tr>\n",
              "    <tr>\n",
              "      <th id=\"T_1ea15_level0_row76\" class=\"row_heading level0 row76\" >secondary_cleaner.output.tail_pb</th>\n",
              "      <td id=\"T_1ea15_row76_col0\" class=\"data row76 col0\" >0.000000</td>\n",
              "    </tr>\n",
              "    <tr>\n",
              "      <th id=\"T_1ea15_level0_row77\" class=\"row_heading level0 row77\" >secondary_cleaner.output.tail_sol</th>\n",
              "      <td id=\"T_1ea15_row77_col0\" class=\"data row77 col0\" >6.000000</td>\n",
              "    </tr>\n",
              "    <tr>\n",
              "      <th id=\"T_1ea15_level0_row78\" class=\"row_heading level0 row78\" >final.output.concentrate_au</th>\n",
              "      <td id=\"T_1ea15_row78_col0\" class=\"data row78 col0\" >0.000000</td>\n",
              "    </tr>\n",
              "    <tr>\n",
              "      <th id=\"T_1ea15_level0_row79\" class=\"row_heading level0 row79\" >final.output.concentrate_ag</th>\n",
              "      <td id=\"T_1ea15_row79_col0\" class=\"data row79 col0\" >0.000000</td>\n",
              "    </tr>\n",
              "    <tr>\n",
              "      <th id=\"T_1ea15_level0_row80\" class=\"row_heading level0 row80\" >final.output.concentrate_pb</th>\n",
              "      <td id=\"T_1ea15_row80_col0\" class=\"data row80 col0\" >0.000000</td>\n",
              "    </tr>\n",
              "    <tr>\n",
              "      <th id=\"T_1ea15_level0_row81\" class=\"row_heading level0 row81\" >final.output.concentrate_sol</th>\n",
              "      <td id=\"T_1ea15_row81_col0\" class=\"data row81 col0\" >1.000000</td>\n",
              "    </tr>\n",
              "    <tr>\n",
              "      <th id=\"T_1ea15_level0_row82\" class=\"row_heading level0 row82\" >final.output.recovery</th>\n",
              "      <td id=\"T_1ea15_row82_col0\" class=\"data row82 col0\" >0.000000</td>\n",
              "    </tr>\n",
              "    <tr>\n",
              "      <th id=\"T_1ea15_level0_row83\" class=\"row_heading level0 row83\" >final.output.tail_au</th>\n",
              "      <td id=\"T_1ea15_row83_col0\" class=\"data row83 col0\" >0.000000</td>\n",
              "    </tr>\n",
              "    <tr>\n",
              "      <th id=\"T_1ea15_level0_row84\" class=\"row_heading level0 row84\" >final.output.tail_ag</th>\n",
              "      <td id=\"T_1ea15_row84_col0\" class=\"data row84 col0\" >0.000000</td>\n",
              "    </tr>\n",
              "    <tr>\n",
              "      <th id=\"T_1ea15_level0_row85\" class=\"row_heading level0 row85\" >final.output.tail_pb</th>\n",
              "      <td id=\"T_1ea15_row85_col0\" class=\"data row85 col0\" >1.000000</td>\n",
              "    </tr>\n",
              "    <tr>\n",
              "      <th id=\"T_1ea15_level0_row86\" class=\"row_heading level0 row86\" >final.output.tail_sol</th>\n",
              "      <td id=\"T_1ea15_row86_col0\" class=\"data row86 col0\" >0.000000</td>\n",
              "    </tr>\n",
              "  </tbody>\n",
              "</table>\n"
            ]
          },
          "metadata": {},
          "execution_count": 23
        }
      ],
      "source": [
        "pd.DataFrame(\n",
        "    round(\n",
        "        full_df.isna().mean() * 100,\n",
        "    )\n",
        ").style.background_gradient(\"coolwarm\")"
      ]
    },
    {
      "cell_type": "markdown",
      "metadata": {
        "id": "6O6fUt5w0do2"
      },
      "source": [
        "Пропуски есть в тренировочном датасете (но не в целевых признаках), в тестовом они отсутствуют. В полном датасете пропусков в значениях целевых признаков также нет."
      ]
    },
    {
      "cell_type": "markdown",
      "metadata": {
        "id": "jhQnzXNX0do2"
      },
      "source": [
        "Добавим в тестовую информацию целевые показатели. До и после выведем размеры таблицы для проверки."
      ]
    },
    {
      "cell_type": "code",
      "execution_count": null,
      "metadata": {
        "id": "GWGAsNOZ0do2",
        "outputId": "2893e1d9-0f62-4bbe-a4b7-66fca2fad157",
        "colab": {
          "base_uri": "https://localhost:8080/"
        }
      },
      "outputs": [
        {
          "output_type": "stream",
          "name": "stdout",
          "text": [
            "(4860, 53)\n",
            "(4860, 55)\n"
          ]
        }
      ],
      "source": [
        "print(test_df.shape)\n",
        "test_df = test_df.merge(\n",
        "    full_df[[\"date\", \"rougher.output.recovery\", \"final.output.recovery\"]],\n",
        "    how=\"left\",\n",
        "    on=\"date\",\n",
        ")\n",
        "print(test_df.shape)"
      ]
    },
    {
      "cell_type": "markdown",
      "metadata": {
        "id": "9uFgWP-T0do3"
      },
      "source": [
        "Как сказано в условии проекта, соседние по времени параметры часто похожи. Поэтому наилучшим считаю заполнение пропусков соответствующим методом.\n"
      ]
    },
    {
      "cell_type": "code",
      "execution_count": null,
      "metadata": {
        "id": "jYyN8yeh0do3"
      },
      "outputs": [],
      "source": [
        "train_df.ffill(axis='rows', inplace=True)\n",
        "test_df.ffill(axis='rows', inplace=True)\n",
        "full_df.ffill(axis='rows', inplace=True)"
      ]
    },
    {
      "cell_type": "markdown",
      "metadata": {
        "id": "Px0M-XdH0do3"
      },
      "source": [
        "## Выводы.\n",
        "\n",
        " - Загружены необходимые для работы библиотеки.\n",
        " - Загружены данные в виде трёх датасетов.\n",
        " - Рассмотрена информация о них.\n",
        " - Проведён расчёт эффективности обогащения, результат сравнен с соотвествующими значениями из данных. Значение MAE равно 9.73512347450521e-15, из чего сделан вывод, что заданные значения верны.\n",
        " - Выявлено, что в тестовом датасете отсутствуют целевые признаки и параметры, расчитывающиеся позже.\n",
        " - Целевые признаки возвращены в тестовый датасет.\n",
        " - Найдены пропуски в датасетах. Все они не касаются целевых признаков. Пропуски были заменены по методжу ffill.\n",
        " - Явные дубликаты в датасетах необнаружены."
      ]
    },
    {
      "cell_type": "markdown",
      "metadata": {
        "id": "ZVLGG1wL0do4"
      },
      "source": [
        "# Анализ данных"
      ]
    },
    {
      "cell_type": "markdown",
      "metadata": {
        "id": "oKDagkeY0do4"
      },
      "source": [
        "## Исследование изменение концентрации элементов."
      ]
    },
    {
      "cell_type": "markdown",
      "metadata": {
        "id": "nqEOGWlt0do4"
      },
      "source": [
        "Необходимо исследовать, как меняется концентрация металлов Au (золото), Ag (серебро) , Pb (свинец) на различных этапах очистки. Для начала создаём списки с видами металлов и этапов."
      ]
    },
    {
      "cell_type": "code",
      "execution_count": null,
      "metadata": {
        "id": "ltsOzO9Z0do4"
      },
      "outputs": [],
      "source": [
        "METALS_LIST = ['au', 'ag', 'pb']\n",
        "\n",
        "STAGES_LIST = [\n",
        "    'rougher.input.feed',\n",
        "    'rougher.output.concentrate',\n",
        "    'primary_cleaner.output.concentrate',\n",
        "    'final.output.concentrate',\n",
        "]"
      ]
    },
    {
      "cell_type": "markdown",
      "source": [
        "Строим гистограммы изменения концентрации металлов."
      ],
      "metadata": {
        "id": "XxIdIaxhPKOa"
      }
    },
    {
      "cell_type": "code",
      "execution_count": null,
      "metadata": {
        "id": "dXuU_rCs0do5",
        "outputId": "7c2a6688-aad8-4ab9-d478-5876b46b0762",
        "colab": {
          "base_uri": "https://localhost:8080/",
          "height": 1000
        }
      },
      "outputs": [
        {
          "output_type": "display_data",
          "data": {
            "text/plain": [
              "<Figure size 1500x700 with 1 Axes>"
            ],
            "image/png": "[encoded data removed]"
          },
          "metadata": {}
        },
        {
          "output_type": "display_data",
          "data": {
            "text/plain": [
              "<Figure size 1500x700 with 1 Axes>"
            ],
            "image/png": "[encoded data removed]"
          },
          "metadata": {}
        },
        {
          "output_type": "display_data",
          "data": {
            "text/plain": [
              "<Figure size 1500x700 with 1 Axes>"
            ],
            "image/png": "[encoded data removed]"
          },
          "metadata": {}
        }
      ],
      "source": [
        "for metal in METALS_LIST:\n",
        "    stages = [\"{}_{}\".format(x, metal) for x in STAGES_LIST]\n",
        "\n",
        "    full_df[stages].plot(\n",
        "        title=\"Изменение концентрации металла {} на разных этапах очистки\".format(\n",
        "            metal.capitalize()\n",
        "        ),\n",
        "        kind=\"hist\",\n",
        "        bins=100,\n",
        "        grid=True,\n",
        "        legend=True,\n",
        "        figsize=(15, 7),\n",
        "        alpha=0.6,\n",
        "    ).set(xlabel=\"Концентрация, %\", ylabel=\"Количество\")\n",
        "\n",
        "    plt.show()\n"
      ]
    },
    {
      "cell_type": "markdown",
      "metadata": {
        "id": "nK_eG__x0do5"
      },
      "source": [
        "Построим в одной системе координат графики изменения концентрации всех трёх металлов относительно этапов очистки. Выведем средние значения концентрации каждого металла на каждом этапе очистки в таблицу."
      ]
    },
    {
      "cell_type": "code",
      "execution_count": null,
      "metadata": {
        "id": "lGmUy8Ru0do5",
        "outputId": "ca9be92f-2829-4bc4-8972-705a8a220ba5",
        "colab": {
          "base_uri": "https://localhost:8080/",
          "height": 767
        }
      },
      "outputs": [
        {
          "output_type": "display_data",
          "data": {
            "text/plain": [
              "<Figure size 1500x700 with 1 Axes>"
            ],
            "image/png": "[encoded data removed]"
          },
          "metadata": {}
        },
        {
          "output_type": "display_data",
          "data": {
            "text/plain": [
              "   rougher.input.feed rougher.output.concentrate  \\\n",
              "au           8.352941                   19.71747   \n",
              "ag            8.87746                  11.944253   \n",
              "pb           3.592094                   7.498953   \n",
              "\n",
              "   primary_cleaner.output.concentrate final.output.concentrate  \n",
              "au                          32.007535                43.979499  \n",
              "ag                           8.468626                 5.192032  \n",
              "pb                           9.731606                 9.923715  "
            ],
            "text/html": [
              "\n",
              "  <div id=\"df-6374444a-974d-4cee-ac90-c78529f34428\">\n",
              "    <div class=\"colab-df-container\">\n",
              "      <div>\n",
              "<style scoped>\n",
              "    .dataframe tbody tr th:only-of-type {\n",
              "        vertical-align: middle;\n",
              "    }\n",
              "\n",
              "    .dataframe tbody tr th {\n",
              "        vertical-align: top;\n",
              "    }\n",
              "\n",
              "    .dataframe thead th {\n",
              "        text-align: right;\n",
              "    }\n",
              "</style>\n",
              "<table border=\"1\" class=\"dataframe\">\n",
              "  <thead>\n",
              "    <tr style=\"text-align: right;\">\n",
              "      <th></th>\n",
              "      <th>rougher.input.feed</th>\n",
              "      <th>rougher.output.concentrate</th>\n",
              "      <th>primary_cleaner.output.concentrate</th>\n",
              "      <th>final.output.concentrate</th>\n",
              "    </tr>\n",
              "  </thead>\n",
              "  <tbody>\n",
              "    <tr>\n",
              "      <th>au</th>\n",
              "      <td>8.352941</td>\n",
              "      <td>19.71747</td>\n",
              "      <td>32.007535</td>\n",
              "      <td>43.979499</td>\n",
              "    </tr>\n",
              "    <tr>\n",
              "      <th>ag</th>\n",
              "      <td>8.87746</td>\n",
              "      <td>11.944253</td>\n",
              "      <td>8.468626</td>\n",
              "      <td>5.192032</td>\n",
              "    </tr>\n",
              "    <tr>\n",
              "      <th>pb</th>\n",
              "      <td>3.592094</td>\n",
              "      <td>7.498953</td>\n",
              "      <td>9.731606</td>\n",
              "      <td>9.923715</td>\n",
              "    </tr>\n",
              "  </tbody>\n",
              "</table>\n",
              "</div>\n",
              "      <button class=\"colab-df-convert\" onclick=\"convertToInteractive('df-6374444a-974d-4cee-ac90-c78529f34428')\"\n",
              "              title=\"Convert this dataframe to an interactive table.\"\n",
              "              style=\"display:none;\">\n",
              "        \n",
              "  <svg xmlns=\"http://www.w3.org/2000/svg\" height=\"24px\"viewBox=\"0 0 24 24\"\n",
              "       width=\"24px\">\n",
              "    <path d=\"M0 0h24v24H0V0z\" fill=\"none\"/>\n",
              "    <path d=\"M18.56 5.44l.94 2.06.94-2.06 2.06-.94-2.06-.94-.94-2.06-.94 2.06-2.06.94zm-11 1L8.5 8.5l.94-2.06 2.06-.94-2.06-.94L8.5 2.5l-.94 2.06-2.06.94zm10 10l.94 2.06.94-2.06 2.06-.94-2.06-.94-.94-2.06-.94 2.06-2.06.94z\"/><path d=\"M17.41 7.96l-1.37-1.37c-.4-.4-.92-.59-1.43-.59-.52 0-1.04.2-1.43.59L10.3 9.45l-7.72 7.72c-.78.78-.78 2.05 0 2.83L4 21.41c.39.39.9.59 1.41.59.51 0 1.02-.2 1.41-.59l7.78-7.78 2.81-2.81c.8-.78.8-2.07 0-2.86zM5.41 20L4 18.59l7.72-7.72 1.47 1.35L5.41 20z\"/>\n",
              "  </svg>\n",
              "      </button>\n",
              "      \n",
              "  <style>\n",
              "    .colab-df-container {\n",
              "      display:flex;\n",
              "      flex-wrap:wrap;\n",
              "      gap: 12px;\n",
              "    }\n",
              "\n",
              "    .colab-df-convert {\n",
              "      background-color: #E8F0FE;\n",
              "      border: none;\n",
              "      border-radius: 50%;\n",
              "      cursor: pointer;\n",
              "      display: none;\n",
              "      fill: #1967D2;\n",
              "      height: 32px;\n",
              "      padding: 0 0 0 0;\n",
              "      width: 32px;\n",
              "    }\n",
              "\n",
              "    .colab-df-convert:hover {\n",
              "      background-color: #E2EBFA;\n",
              "      box-shadow: 0px 1px 2px rgba(60, 64, 67, 0.3), 0px 1px 3px 1px rgba(60, 64, 67, 0.15);\n",
              "      fill: #174EA6;\n",
              "    }\n",
              "\n",
              "    [theme=dark] .colab-df-convert {\n",
              "      background-color: #3B4455;\n",
              "      fill: #D2E3FC;\n",
              "    }\n",
              "\n",
              "    [theme=dark] .colab-df-convert:hover {\n",
              "      background-color: #434B5C;\n",
              "      box-shadow: 0px 1px 3px 1px rgba(0, 0, 0, 0.15);\n",
              "      filter: drop-shadow(0px 1px 2px rgba(0, 0, 0, 0.3));\n",
              "      fill: #FFFFFF;\n",
              "    }\n",
              "  </style>\n",
              "\n",
              "      <script>\n",
              "        const buttonEl =\n",
              "          document.querySelector('#df-6374444a-974d-4cee-ac90-c78529f34428 button.colab-df-convert');\n",
              "        buttonEl.style.display =\n",
              "          google.colab.kernel.accessAllowed ? 'block' : 'none';\n",
              "\n",
              "        async function convertToInteractive(key) {\n",
              "          const element = document.querySelector('#df-6374444a-974d-4cee-ac90-c78529f34428');\n",
              "          const dataTable =\n",
              "            await google.colab.kernel.invokeFunction('convertToInteractive',\n",
              "                                                     [key], {});\n",
              "          if (!dataTable) return;\n",
              "\n",
              "          const docLinkHtml = 'Like what you see? Visit the ' +\n",
              "            '<a target=\"_blank\" href=https://colab.research.google.com/notebooks/data_table.ipynb>data table notebook</a>'\n",
              "            + ' to learn more about interactive tables.';\n",
              "          element.innerHTML = '';\n",
              "          dataTable['output_type'] = 'display_data';\n",
              "          await google.colab.output.renderOutput(dataTable, element);\n",
              "          const docLink = document.createElement('div');\n",
              "          docLink.innerHTML = docLinkHtml;\n",
              "          element.appendChild(docLink);\n",
              "        }\n",
              "      </script>\n",
              "    </div>\n",
              "  </div>\n",
              "  "
            ]
          },
          "metadata": {}
        }
      ],
      "source": [
        "metals_concentrate = pd.DataFrame(columns=STAGES_LIST)\n",
        "\n",
        "for metal in METALS_LIST:\n",
        "    for stage in STAGES_LIST:\n",
        "        metals_concentrate.loc[metal, stage] = full_df[\n",
        "            \"{}_{}\".format(stage, metal)\n",
        "        ].mean()\n",
        "\n",
        "for metal in METALS_LIST:\n",
        "    metals_concentrate.loc[metal].plot(\n",
        "        title=\"Изменение концентрации металлов на разных этапах очистки\",\n",
        "        grid=True,\n",
        "        legend=True,\n",
        "        figsize=(15, 7),\n",
        "    ).set(xlabel=\"Стадия\", ylabel=\"Концентрация, %\")\n",
        "plt.show()\n",
        "\n",
        "display(metals_concentrate)"
      ]
    },
    {
      "cell_type": "markdown",
      "metadata": {
        "id": "E_5ZZ32k0do6"
      },
      "source": [
        "По графикам и средним показателям видно, что\n",
        "\n",
        " - Концентрация золота стабильно и сильно растёт.\n",
        " - Концентрация серебра растёт в течение первой стадии, а после начала второй начинает падать.\n",
        " - Концентрация свинца, как побочного элемента химической реакции, несильно, но растёт с первой по третью стадию, а дальше становится практически постоянной."
      ]
    },
    {
      "cell_type": "markdown",
      "source": [
        "Построим график распределения плотности для сравнение распределения размеров гранул сырья на обучающей и тестовой выборках."
      ],
      "metadata": {
        "id": "P1sonbGdQX6d"
      }
    },
    {
      "cell_type": "code",
      "execution_count": null,
      "metadata": {
        "id": "ghNRSQJM0do8",
        "outputId": "4d7d8338-7929-48f3-aad8-cf788495b48f",
        "colab": {
          "base_uri": "https://localhost:8080/",
          "height": 622
        }
      },
      "outputs": [
        {
          "output_type": "display_data",
          "data": {
            "text/plain": [
              "<Figure size 1500x700 with 1 Axes>"
            ],
            "image/png": "[encoded data removed]"
          },
          "metadata": {}
        }
      ],
      "source": [
        "for feed_sizes in (\"rougher.input.feed_size\", \"primary_cleaner.input.feed_size\"):\n",
        "    for dataframe in [train_df, test_df]:\n",
        "        dataframe[feed_sizes].plot.kde(\n",
        "            figsize=(15, 7),\n",
        "            xlim=(0, 80),\n",
        "            grid=True,\n",
        "            legend=True,\n",
        "            alpha=0.7,\n",
        "            title=\"Сравнение распределения размеров гранул сырья на обучающей и тестовой выборках\",\n",
        "        )\n"
      ]
    },
    {
      "cell_type": "markdown",
      "metadata": {
        "id": "WFjeDZu50do7"
      },
      "source": [
        "Из гриафика видно, что распределение размеров гранул для тренировочной и тестовой выборки практически одинаковы."
      ]
    },
    {
      "cell_type": "markdown",
      "metadata": {
        "id": "ZrCS8A8O0do9"
      },
      "source": [
        "## Исследование суммарной концентрации всех веществ в сырье, в черновом и финальном концентратах."
      ]
    },
    {
      "cell_type": "markdown",
      "metadata": {
        "id": "fhsRnE_Q0do9"
      },
      "source": [
        "Посчитаем необходимые нам для каждого из трёх случаев суммарные концентрации веществ, взятые из тренировочной выборки, на которой будет обучаться модель, результаты занесём в список."
      ]
    },
    {
      "cell_type": "code",
      "execution_count": null,
      "metadata": {
        "id": "BOzuwVJV0do9"
      },
      "outputs": [],
      "source": [
        "sum_r_feed = train_df[['rougher.input.feed_ag',\n",
        "                   'rougher.input.feed_pb',\n",
        "                   'rougher.input.feed_sol',\n",
        "                   'rougher.input.feed_au']].sum(axis=1)\n",
        "sum_r_conc = train_df[['rougher.output.concentrate_pb',\n",
        "                   'rougher.output.concentrate_ag',\n",
        "                   'rougher.output.concentrate_sol',\n",
        "                   'rougher.output.concentrate_au']].sum(axis=1)\n",
        "sum_fin_conc = train_df[['final.output.concentrate_pb',\n",
        "                   'final.output.concentrate_ag',\n",
        "                   'final.output.concentrate_sol',\n",
        "                   'final.output.concentrate_au']].sum(axis=1)\n",
        "SUM_CONC = [sum_r_feed, sum_r_conc, sum_fin_conc]"
      ]
    },
    {
      "cell_type": "markdown",
      "metadata": {
        "id": "YFfmrpyC0do-"
      },
      "source": [
        "На основе посчитанных суммарных концентраций построим гистограммы для сырья, чернового и финального концентратов соответственно. Кроме того, посмотрим посмотрим распределение данных так же с помощью describe() и построим ящики с усами."
      ]
    },
    {
      "cell_type": "code",
      "execution_count": null,
      "metadata": {
        "id": "1FJY7fAz0do-",
        "outputId": "8e562488-909b-4c2b-a332-3e1be01e4b0c",
        "colab": {
          "base_uri": "https://localhost:8080/",
          "height": 1000
        }
      },
      "outputs": [
        {
          "output_type": "display_data",
          "data": {
            "text/plain": [
              "count    19439.000000\n",
              "mean        57.322230\n",
              "std          7.209464\n",
              "min          0.040000\n",
              "25%         53.559598\n",
              "50%         57.594391\n",
              "75%         61.954409\n",
              "max         76.978947\n",
              "dtype: float64"
            ]
          },
          "metadata": {}
        },
        {
          "output_type": "display_data",
          "data": {
            "text/plain": [
              "<Figure size 1000x500 with 1 Axes>"
            ],
            "image/png": "[encoded data removed]"
          },
          "metadata": {}
        },
        {
          "output_type": "display_data",
          "data": {
            "text/plain": [
              "<Figure size 1000x500 with 1 Axes>"
            ],
            "image/png": "[encoded data removed]"
          },
          "metadata": {}
        },
        {
          "output_type": "stream",
          "name": "stdout",
          "text": [
            "----------------\n"
          ]
        },
        {
          "output_type": "display_data",
          "data": {
            "text/plain": [
              "count    19439.000000\n",
              "mean        68.171375\n",
              "std         12.490476\n",
              "min          0.000000\n",
              "25%         66.012495\n",
              "50%         70.181495\n",
              "75%         74.356904\n",
              "max         88.140119\n",
              "dtype: float64"
            ]
          },
          "metadata": {}
        },
        {
          "output_type": "display_data",
          "data": {
            "text/plain": [
              "<Figure size 1000x500 with 1 Axes>"
            ],
            "image/png": "[encoded data removed]"
          },
          "metadata": {}
        },
        {
          "output_type": "display_data",
          "data": {
            "text/plain": [
              "<Figure size 1000x500 with 1 Axes>"
            ],
            "image/png": "[encoded data removed]"
          },
          "metadata": {}
        },
        {
          "output_type": "stream",
          "name": "stdout",
          "text": [
            "----------------\n"
          ]
        },
        {
          "output_type": "display_data",
          "data": {
            "text/plain": [
              "count    19439.000000\n",
              "mean        68.654112\n",
              "std          7.427434\n",
              "min          0.000000\n",
              "25%         67.932362\n",
              "50%         69.598444\n",
              "75%         71.368472\n",
              "max         80.210644\n",
              "dtype: float64"
            ]
          },
          "metadata": {}
        },
        {
          "output_type": "display_data",
          "data": {
            "text/plain": [
              "<Figure size 1000x500 with 1 Axes>"
            ],
            "image/png": "[encoded data removed]"
          },
          "metadata": {}
        },
        {
          "output_type": "display_data",
          "data": {
            "text/plain": [
              "<Figure size 1000x500 with 1 Axes>"
            ],
            "image/png": "[encoded data removed]"
          },
          "metadata": {}
        },
        {
          "output_type": "stream",
          "name": "stdout",
          "text": [
            "----------------\n"
          ]
        }
      ],
      "source": [
        "for conc in SUM_CONC:\n",
        "    display(conc.describe())\n",
        "    conc.plot(kind='box',\n",
        "              grid=True,\n",
        "              figsize=(10, 5))\n",
        "    plt.show()\n",
        "    conc.plot(\n",
        "                title = 'Cуммарная концентрация всех веществ',\n",
        "                kind='hist',\n",
        "                bins=100,\n",
        "                grid=True,\n",
        "                figsize=(10, 5),\n",
        "            ).set(xlabel='Концентрация, %', ylabel='Количество')\n",
        "\n",
        "    plt.show()\n",
        "    print('----------------')"
      ]
    },
    {
      "cell_type": "markdown",
      "metadata": {
        "id": "pAP5bRTJ0do-"
      },
      "source": [
        "Во всех трёх случаях наблюдаем большое количество выбросов. Причиной их могут быть неисправность аппратуры, считывавшей показатели, ошибки при заполнении датасетов и т. д. Эти значения могут ухудшить показатели нашей будущей модели, считаю, что от них надо избавиться. Предполагаю, что выбросы в суммарных показателях-результат выбросов в отдельных показателях. Поэтому удалим их.\n",
        "\n",
        "\n",
        "Теперь создадим список столбцов с нужными параметрами."
      ]
    },
    {
      "cell_type": "code",
      "execution_count": null,
      "metadata": {
        "id": "5ALFbJX60do-"
      },
      "outputs": [],
      "source": [
        "COLUMNS_CLN = [\n",
        "    \"rougher.input.feed_ag\",\n",
        "    \"rougher.input.feed_pb\",\n",
        "    \"rougher.input.feed_sol\",\n",
        "    \"rougher.input.feed_au\",\n",
        "    \"rougher.output.concentrate_pb\",\n",
        "    \"rougher.output.concentrate_ag\",\n",
        "    \"rougher.output.concentrate_sol\",\n",
        "    \"rougher.output.concentrate_au\",\n",
        "    \"final.output.concentrate_pb\",\n",
        "    \"final.output.concentrate_ag\",\n",
        "    \"final.output.concentrate_sol\",\n",
        "    \"final.output.concentrate_au\"\n",
        "]"
      ]
    },
    {
      "cell_type": "markdown",
      "source": [
        "Удалим все строки, показания в которых лежат за пределами верхней и нижней границ \"усов\"."
      ],
      "metadata": {
        "id": "LtAxEgMMQzSr"
      }
    },
    {
      "cell_type": "code",
      "execution_count": null,
      "metadata": {
        "id": "t64Fnw0p0do_"
      },
      "outputs": [],
      "source": [
        "for col in COLUMNS_CLN:\n",
        "    q1 = train_df[col].quantile(0.25)\n",
        "    q3 = train_df[col].quantile(0.75)\n",
        "    iqr = q3-q1\n",
        "    min_value = q1 - 1.5*iqr\n",
        "    max_value = q3 + 1.5*iqr\n",
        "    train_df = train_df[(train_df[col] >= min_value) & (train_df[col] <= max_value)]"
      ]
    },
    {
      "cell_type": "markdown",
      "metadata": {
        "id": "TaSnCI3P0do_"
      },
      "source": [
        "## Выводы."
      ]
    },
    {
      "cell_type": "markdown",
      "metadata": {
        "id": "Tu4X5bEt0do_"
      },
      "source": [
        " - Были исследовано изменение концентрации металлов относительно стадий очистки, выявлены закономерности для каждого из металлов.\n",
        " - Было произведено сравнение распределения размеров гранул сырья на обучающей и тестовой выборках, оно оказалось примерно одинаковым.\n",
        " - Проведено исследование суммарной концентрации всех веществ в сырье, в черновом и финальном концентратах, при котором было обнаружено большое количество выбросов, которые были удалены."
      ]
    },
    {
      "cell_type": "markdown",
      "metadata": {
        "id": "5Oz1lrMv0dpA"
      },
      "source": [
        "# Модель"
      ]
    },
    {
      "cell_type": "markdown",
      "metadata": {
        "id": "kR3QNYuo0dpA"
      },
      "source": [
        "## Подготовка выборок для моделей."
      ]
    },
    {
      "cell_type": "markdown",
      "metadata": {
        "id": "KAznYJoy0dpA"
      },
      "source": [
        "Сначала посмотрим, какие признаки, имеющиеся в тренировочной выборке, отсутствуют в тестовой. Они будут лишними для наших моделей."
      ]
    },
    {
      "cell_type": "code",
      "execution_count": null,
      "metadata": {
        "id": "FvfAO9C20dpA"
      },
      "outputs": [],
      "source": [
        "missing_test_fields = set(train_df.columns.to_list()) - set(test_df.columns.to_list())\n",
        "print(missing_test_fields)"
      ]
    },
    {
      "cell_type": "markdown",
      "metadata": {
        "id": "L3JzoB380dpB"
      },
      "source": [
        "Удалим их из тренировочной выборки и сделаем проверку."
      ]
    },
    {
      "cell_type": "code",
      "execution_count": null,
      "metadata": {
        "id": "KeeTwrsb0dpB"
      },
      "outputs": [],
      "source": [
        "train_df = train_df.drop(missing_test_fields, axis='columns')\n",
        "missing_test_fields = set(train_df.columns.to_list()) - set(test_df.columns.to_list())\n",
        "print(missing_test_fields)"
      ]
    },
    {
      "cell_type": "markdown",
      "metadata": {
        "id": "zYPX5WZW0dpB"
      },
      "source": [
        "Удалим из обеих выборок столбец с датой как неинформативный для нашей модели."
      ]
    },
    {
      "cell_type": "code",
      "execution_count": null,
      "metadata": {
        "id": "EJzQ5ZrL0dpB"
      },
      "outputs": [],
      "source": [
        "train_df = train_df.drop(columns = ['date'],axis = 1)\n",
        "test_df = test_df.drop(columns = ['date'],axis = 1)"
      ]
    },
    {
      "cell_type": "markdown",
      "metadata": {
        "id": "OYauzJqy0dpB"
      },
      "source": [
        "Тренировочные данные очищены от лишних признаков."
      ]
    },
    {
      "cell_type": "markdown",
      "metadata": {
        "id": "xwB8vtjD0dpC"
      },
      "source": [
        "Отделим фичи от целевых показателей."
      ]
    },
    {
      "cell_type": "code",
      "execution_count": null,
      "metadata": {
        "id": "6UM764xd0dpC"
      },
      "outputs": [],
      "source": [
        "MODEL_TARGETS = ['rougher.output.recovery', 'final.output.recovery']\n",
        "features_train = train_df.drop(MODEL_TARGETS, axis='columns')\n",
        "target_train = train_df[MODEL_TARGETS]\n",
        "features_test = test_df.drop(MODEL_TARGETS, axis='columns')\n",
        "target_test = test_df[MODEL_TARGETS]"
      ]
    },
    {
      "cell_type": "markdown",
      "metadata": {
        "id": "CnsXXDRU0dpC"
      },
      "source": [
        "Проведём стандартизацию численных значений."
      ]
    },
    {
      "cell_type": "code",
      "execution_count": null,
      "metadata": {
        "id": "aECj56RM0dpC"
      },
      "outputs": [],
      "source": [
        "scaler = StandardScaler()\n",
        "scaler.fit(features_train)\n",
        "features_train = scaler.transform(features_train)\n",
        "features_test = scaler.transform(features_test)"
      ]
    },
    {
      "cell_type": "markdown",
      "metadata": {
        "id": "zLDZwINX0dpC"
      },
      "source": [
        "Напишем функцию для подсчёта cимметричной средней абсолютной процентной ошибки (sMAPE).\n",
        "![image.png](data:image/png;base64,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)"
      ]
    },
    {
      "cell_type": "code",
      "execution_count": null,
      "metadata": {
        "id": "Y8GQuEFu0dpC"
      },
      "outputs": [],
      "source": [
        "def smape_calculate(target_actual, target_predictions):\n",
        "    numerator = np.abs(target_actual - target_predictions)\n",
        "    denominator = (np.abs(target_actual) + np.abs(target_predictions)) / 2\n",
        "\n",
        "    return 1 / len(target_actual) * np.sum(numerator / denominator) * 100"
      ]
    },
    {
      "cell_type": "markdown",
      "metadata": {
        "id": "rW7bl2v60dpD"
      },
      "source": [
        "Также напишем функцию для подсчёта итоговой sMAPE.\n",
        "![image.png](data:image/png;base64,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)"
      ]
    },
    {
      "cell_type": "code",
      "execution_count": null,
      "metadata": {
        "id": "bOJY3Gqj0dpD"
      },
      "outputs": [],
      "source": [
        "def final_smape_calculate(target_actual, target_predictions):\n",
        "    target_actual_rougher = target_actual['rougher.output.recovery']\n",
        "    target_actual_final = target_actual['final.output.recovery']\n",
        "\n",
        "    target_predictions_rougher = target_predictions[:, 0]\n",
        "    target_predictions_final = target_predictions[:, 1]\n",
        "\n",
        "    return 0.25 * smape_calculate(target_actual_rougher, target_predictions_rougher) \\\n",
        "        + 0.75 * smape_calculate(target_actual_rougher, target_predictions_rougher)"
      ]
    },
    {
      "cell_type": "markdown",
      "metadata": {
        "id": "tOezyYlP0dpD"
      },
      "source": [
        "## Сравнение моделей."
      ]
    },
    {
      "cell_type": "markdown",
      "metadata": {
        "id": "0gzJv1pY0dpD"
      },
      "source": [
        "Зададим оставшиеся параметры и оценим качество моделей на тренировочной выборке. Раз речь у нас идёт о cимметричной средней абсолютной процентной ошибке, чем результат меньше, тем лучше.\n",
        "\n",
        "Фиксируем параметр random_state с помощью отдельной переменной."
      ]
    },
    {
      "cell_type": "code",
      "execution_count": null,
      "metadata": {
        "id": "Wfj2ox4X0dpD"
      },
      "outputs": [],
      "source": [
        "RND_ST = np.random.RandomState(12345)"
      ]
    },
    {
      "cell_type": "markdown",
      "source": [
        "Создаём scorer c параметром greater_is_better=False"
      ],
      "metadata": {
        "id": "zkwkfGQIRLUZ"
      }
    },
    {
      "cell_type": "code",
      "execution_count": null,
      "metadata": {
        "id": "pQ2Fpsl60dpE"
      },
      "outputs": [],
      "source": [
        "scorer_smape = make_scorer(final_smape_calculate, greater_is_better=False)"
      ]
    },
    {
      "cell_type": "markdown",
      "metadata": {
        "id": "YmhLKDsW0dpE"
      },
      "source": [
        "Создаём модель линейнай регрессия."
      ]
    },
    {
      "cell_type": "code",
      "execution_count": null,
      "metadata": {
        "id": "amX04R5n0dpE"
      },
      "outputs": [],
      "source": [
        "model = LinearRegression()\n",
        "smape = cross_val_score(\n",
        "    model, features_train, target_train, cv=5, scoring=scorer_smape\n",
        ").mean()\n",
        "print(f\"Лучшее значение sMAPE для линейной регрессии: {-smape}\")\n"
      ]
    },
    {
      "cell_type": "markdown",
      "metadata": {
        "id": "HaBOtgB40dpF"
      },
      "source": [
        "Создаём модель дерева решений."
      ]
    },
    {
      "cell_type": "code",
      "execution_count": null,
      "metadata": {
        "id": "V-SP3dYc0dpF"
      },
      "outputs": [],
      "source": [
        "param_grid = {\"max_depth\": range(1, 13)}\n",
        "\n",
        "model = DecisionTreeRegressor(random_state=RND_ST)\n",
        "search = GridSearchCV(model, param_grid, cv=5, scoring=scorer_smape)\n",
        "search.fit(features_train, target_train)\n",
        "print(\n",
        "    f\"Лучшее значение sMAPE для дерева решений: {-search.best_score_} при значениях гиперпараметров: {search.best_params_}\"\n",
        ")"
      ]
    },
    {
      "cell_type": "markdown",
      "metadata": {
        "id": "aIknTgaZ0dpF"
      },
      "source": [
        "Создаём модель случайного леса."
      ]
    },
    {
      "cell_type": "code",
      "execution_count": null,
      "metadata": {
        "id": "-TSqUVxy0dpF"
      },
      "outputs": [],
      "source": [
        "param_grid = {\"n_estimators\": range(10, 51, 10), \"max_depth\": range(1, 13, 2)}\n",
        "\n",
        "model = RandomForestRegressor(random_state=RND_ST)\n",
        "search = GridSearchCV(model, param_grid, cv=5, scoring=scorer_smape, n_jobs=-1)\n",
        "search.fit(features_train, target_train)\n",
        "print(\n",
        "    f\"Лучшее значение sMAPE для случайного леса: {-search.best_score_} при значениях гиперпараметров: {search.best_params_}\"\n",
        ")"
      ]
    },
    {
      "cell_type": "markdown",
      "metadata": {
        "id": "EtwzjwZG0dpF"
      },
      "source": [
        "Лучше всех себя показала модель случайного леса с максимальной глубиной дерева 11 и количеством деревьев 50. Её и выберем для проверки на тестовых данных."
      ]
    },
    {
      "cell_type": "markdown",
      "metadata": {
        "id": "wB7g0AsJ0dpG"
      },
      "source": [
        "## Проверка выбранной модели на тестовых данных."
      ]
    },
    {
      "cell_type": "markdown",
      "metadata": {
        "id": "HZQKPxSI0dpG"
      },
      "source": [
        "Запускаем случайный лес с выбраннами параметрами на тестовой выборке."
      ]
    },
    {
      "cell_type": "code",
      "execution_count": null,
      "metadata": {
        "id": "7xd_LixP0dpG"
      },
      "outputs": [],
      "source": [
        "model = RandomForestRegressor(max_depth=11, n_estimators=50, random_state=RND_ST, n_jobs=-1)\n",
        "model.fit(features_train, target_train)\n",
        "predictions_test = model.predict(features_test)\n",
        "print(f'sMAPE для тестовых данных: {final_smape_calculate(target_test, predictions_test)}')"
      ]
    },
    {
      "cell_type": "markdown",
      "source": [
        "Для определения адекватности полученного значения модели сравним её с константной моделью."
      ],
      "metadata": {
        "id": "WvBToW5RRz3t"
      }
    },
    {
      "cell_type": "code",
      "execution_count": null,
      "metadata": {
        "id": "D4cvpgOd0dpH"
      },
      "outputs": [],
      "source": [
        "dmr_median = DummyRegressor(strategy=\"median\")\n",
        "\n",
        "dmr_median.fit(features_train, target_train)\n",
        "predictions_dummy = dmr_median.predict(features_test)\n",
        "print(f'sMAPE для константной модели: {final_smape_calculate(target_test, predictions_dummy)}')"
      ]
    },
    {
      "cell_type": "markdown",
      "metadata": {
        "id": "o7mGqIyr0dpH"
      },
      "source": [
        "Значение константной модели закономерно выше, чем у выбранной."
      ]
    },
    {
      "cell_type": "markdown",
      "metadata": {
        "id": "FDpKLysX0dpH"
      },
      "source": [
        "## Выводы.\n",
        " - Все модели были обучены на тренировочной выборке, на основе их предсказаний было посчитано значение sMAPE.\n",
        " - Лучше всех себя показала модель случайного леса, обеспечивашая при предсказании целевых признаков значение sMAPE 6.37.\n",
        " - На тестовой выборке случайный лес предсказал значения целевых признаков с sMAPE 8.11.\n",
        " - Посчитано значение sMAPE для контстантной модели, оно равняентся 8.52. Таким образом, качество выбранной модели обосновано."
      ]
    }
  ],
  "metadata": {
    "ExecuteTimeLog": [
      {
        "duration": 594,
        "start_time": "2023-03-16T17:57:40.638Z"
      },
      {
        "duration": 1922,
        "start_time": "2023-03-16T17:58:01.202Z"
      },
      {
        "duration": 256,
        "start_time": "2023-03-16T17:58:04.929Z"
      },
      {
        "duration": 3304,
        "start_time": "2023-03-16T17:59:33.990Z"
      },
      {
        "duration": 2302,
        "start_time": "2023-03-16T17:59:56.707Z"
      },
      {
        "duration": 1945,
        "start_time": "2023-03-16T19:06:07.861Z"
      },
      {
        "duration": 980,
        "start_time": "2023-03-16T19:06:09.808Z"
      },
      {
        "duration": 46,
        "start_time": "2023-03-16T19:08:40.971Z"
      },
      {
        "duration": 1009,
        "start_time": "2023-03-16T19:08:42.276Z"
      },
      {
        "duration": 44,
        "start_time": "2023-03-16T19:08:45.767Z"
      },
      {
        "duration": 198,
        "start_time": "2023-03-16T19:08:48.087Z"
      },
      {
        "duration": 37,
        "start_time": "2023-03-16T19:08:51.770Z"
      },
      {
        "duration": 691,
        "start_time": "2023-03-16T19:15:13.233Z"
      },
      {
        "duration": 9,
        "start_time": "2023-03-16T19:15:26.104Z"
      },
      {
        "duration": 58,
        "start_time": "2023-03-16T19:16:09.420Z"
      },
      {
        "duration": 22,
        "start_time": "2023-03-16T19:16:37.567Z"
      },
      {
        "duration": 19,
        "start_time": "2023-03-16T19:16:47.619Z"
      },
      {
        "duration": 232,
        "start_time": "2023-03-16T19:17:07.893Z"
      },
      {
        "duration": 11,
        "start_time": "2023-03-16T19:17:34.597Z"
      },
      {
        "duration": 26,
        "start_time": "2023-03-16T19:17:46.222Z"
      },
      {
        "duration": 17,
        "start_time": "2023-03-16T19:17:55.468Z"
      },
      {
        "duration": 129,
        "start_time": "2023-03-16T19:18:00.383Z"
      },
      {
        "duration": 27,
        "start_time": "2023-03-16T19:19:03.668Z"
      },
      {
        "duration": 24,
        "start_time": "2023-03-16T19:19:14.999Z"
      },
      {
        "duration": 16,
        "start_time": "2023-03-16T19:19:25.571Z"
      },
      {
        "duration": 247,
        "start_time": "2023-03-16T19:19:29.462Z"
      },
      {
        "duration": 36037,
        "start_time": "2023-03-16T19:22:46.985Z"
      },
      {
        "duration": 7,
        "start_time": "2023-03-16T19:44:00.125Z"
      },
      {
        "duration": 919,
        "start_time": "2023-03-16T19:44:14.575Z"
      },
      {
        "duration": 4,
        "start_time": "2023-03-16T20:07:58.810Z"
      },
      {
        "duration": 2,
        "start_time": "2023-03-16T20:09:09.903Z"
      },
      {
        "duration": 26,
        "start_time": "2023-03-16T20:09:10.568Z"
      },
      {
        "duration": 9,
        "start_time": "2023-03-16T20:09:41.424Z"
      },
      {
        "duration": 10,
        "start_time": "2023-03-16T20:10:03.395Z"
      },
      {
        "duration": 8,
        "start_time": "2023-03-16T20:10:10.770Z"
      },
      {
        "duration": 15,
        "start_time": "2023-03-16T20:10:55.662Z"
      },
      {
        "duration": 3,
        "start_time": "2023-03-16T20:12:47.605Z"
      },
      {
        "duration": 5,
        "start_time": "2023-03-16T20:13:59.790Z"
      },
      {
        "duration": 21,
        "start_time": "2023-03-16T20:14:20.460Z"
      },
      {
        "duration": 13,
        "start_time": "2023-03-16T20:14:49.083Z"
      },
      {
        "duration": 29,
        "start_time": "2023-03-16T20:14:55.469Z"
      },
      {
        "duration": 25,
        "start_time": "2023-03-16T20:15:57.766Z"
      },
      {
        "duration": 7,
        "start_time": "2023-03-16T20:16:16.310Z"
      },
      {
        "duration": 6,
        "start_time": "2023-03-16T20:16:17.586Z"
      },
      {
        "duration": 17,
        "start_time": "2023-03-16T20:16:37.568Z"
      },
      {
        "duration": 9,
        "start_time": "2023-03-16T20:17:28.207Z"
      },
      {
        "duration": 5,
        "start_time": "2023-03-16T20:18:35.804Z"
      },
      {
        "duration": 98,
        "start_time": "2023-03-16T21:16:34.388Z"
      },
      {
        "duration": 12,
        "start_time": "2023-03-16T21:19:43.218Z"
      },
      {
        "duration": 4,
        "start_time": "2023-03-16T21:19:55.786Z"
      },
      {
        "duration": 9,
        "start_time": "2023-03-16T21:20:51.919Z"
      },
      {
        "duration": 5,
        "start_time": "2023-03-16T21:21:47.805Z"
      },
      {
        "duration": 13,
        "start_time": "2023-03-16T21:23:24.006Z"
      },
      {
        "duration": 9,
        "start_time": "2023-03-16T21:23:32.972Z"
      },
      {
        "duration": 63,
        "start_time": "2023-03-17T09:38:50.134Z"
      },
      {
        "duration": 1917,
        "start_time": "2023-03-17T09:38:53.739Z"
      },
      {
        "duration": 2967,
        "start_time": "2023-03-17T09:38:56.765Z"
      },
      {
        "duration": 25,
        "start_time": "2023-03-17T09:39:01.556Z"
      },
      {
        "duration": 31,
        "start_time": "2023-03-17T09:39:04.779Z"
      },
      {
        "duration": 304,
        "start_time": "2023-03-17T09:39:06.253Z"
      },
      {
        "duration": 23,
        "start_time": "2023-03-17T09:39:08.305Z"
      },
      {
        "duration": 20,
        "start_time": "2023-03-17T09:39:10.258Z"
      },
      {
        "duration": 36,
        "start_time": "2023-03-17T09:39:12.737Z"
      },
      {
        "duration": 3,
        "start_time": "2023-03-17T09:39:15.819Z"
      },
      {
        "duration": 13,
        "start_time": "2023-03-17T09:39:17.674Z"
      },
      {
        "duration": 6,
        "start_time": "2023-03-17T09:39:19.427Z"
      },
      {
        "duration": 5,
        "start_time": "2023-03-17T09:39:21.698Z"
      },
      {
        "duration": 9,
        "start_time": "2023-03-17T09:39:24.023Z"
      },
      {
        "duration": 68,
        "start_time": "2023-03-17T09:39:26.944Z"
      },
      {
        "duration": 30,
        "start_time": "2023-03-17T09:39:51.565Z"
      },
      {
        "duration": 27,
        "start_time": "2023-03-17T09:40:06.825Z"
      },
      {
        "duration": 16510,
        "start_time": "2023-03-17T10:25:05.565Z"
      },
      {
        "duration": 768,
        "start_time": "2023-03-17T10:25:28.800Z"
      },
      {
        "duration": 2563,
        "start_time": "2023-03-17T10:25:49.716Z"
      },
      {
        "duration": 2395,
        "start_time": "2023-03-17T10:25:52.282Z"
      },
      {
        "duration": 773,
        "start_time": "2023-03-17T10:25:54.679Z"
      },
      {
        "duration": 37,
        "start_time": "2023-03-17T10:25:55.455Z"
      },
      {
        "duration": 36,
        "start_time": "2023-03-17T10:25:55.495Z"
      },
      {
        "duration": 308,
        "start_time": "2023-03-17T10:25:55.533Z"
      },
      {
        "duration": 21,
        "start_time": "2023-03-17T10:25:55.843Z"
      },
      {
        "duration": 57,
        "start_time": "2023-03-17T10:25:55.866Z"
      },
      {
        "duration": 201,
        "start_time": "2023-03-17T10:25:55.926Z"
      },
      {
        "duration": 29,
        "start_time": "2023-03-17T10:25:56.130Z"
      },
      {
        "duration": 48,
        "start_time": "2023-03-17T10:25:56.162Z"
      },
      {
        "duration": 306,
        "start_time": "2023-03-17T10:25:56.212Z"
      },
      {
        "duration": 3,
        "start_time": "2023-03-17T10:25:56.520Z"
      },
      {
        "duration": 23,
        "start_time": "2023-03-17T10:25:56.526Z"
      },
      {
        "duration": 6,
        "start_time": "2023-03-17T10:25:56.551Z"
      },
      {
        "duration": 27,
        "start_time": "2023-03-17T10:25:56.559Z"
      },
      {
        "duration": 28,
        "start_time": "2023-03-17T10:25:56.588Z"
      },
      {
        "duration": 64,
        "start_time": "2023-03-17T10:25:56.618Z"
      },
      {
        "duration": 31,
        "start_time": "2023-03-17T10:25:56.685Z"
      },
      {
        "duration": 28,
        "start_time": "2023-03-17T10:25:56.718Z"
      },
      {
        "duration": 63024,
        "start_time": "2023-03-17T10:28:56.292Z"
      },
      {
        "duration": 1650,
        "start_time": "2023-03-17T10:49:22.308Z"
      },
      {
        "duration": 760,
        "start_time": "2023-03-17T10:49:23.960Z"
      },
      {
        "duration": 22,
        "start_time": "2023-03-17T10:49:24.722Z"
      },
      {
        "duration": 56,
        "start_time": "2023-03-17T10:49:24.747Z"
      },
      {
        "duration": 292,
        "start_time": "2023-03-17T10:49:24.806Z"
      },
      {
        "duration": 14,
        "start_time": "2023-03-17T10:49:25.100Z"
      },
      {
        "duration": 23,
        "start_time": "2023-03-17T10:49:25.115Z"
      },
      {
        "duration": 174,
        "start_time": "2023-03-17T10:49:25.140Z"
      },
      {
        "duration": 18,
        "start_time": "2023-03-17T10:49:25.315Z"
      },
      {
        "duration": 49,
        "start_time": "2023-03-17T10:49:25.335Z"
      },
      {
        "duration": 350,
        "start_time": "2023-03-17T10:49:25.385Z"
      },
      {
        "duration": 4,
        "start_time": "2023-03-17T10:49:25.737Z"
      },
      {
        "duration": 23,
        "start_time": "2023-03-17T10:49:25.743Z"
      },
      {
        "duration": 9,
        "start_time": "2023-03-17T10:49:25.784Z"
      },
      {
        "duration": 11,
        "start_time": "2023-03-17T10:49:25.798Z"
      },
      {
        "duration": 11,
        "start_time": "2023-03-17T10:49:25.811Z"
      },
      {
        "duration": 133,
        "start_time": "2023-03-17T10:49:25.824Z"
      },
      {
        "duration": 43,
        "start_time": "2023-03-17T10:49:25.960Z"
      },
      {
        "duration": 135,
        "start_time": "2023-03-17T10:53:48.323Z"
      },
      {
        "duration": 814,
        "start_time": "2023-03-17T10:53:58.527Z"
      },
      {
        "duration": 1768,
        "start_time": "2023-03-17T11:00:03.902Z"
      },
      {
        "duration": 27,
        "start_time": "2023-03-17T11:02:26.316Z"
      },
      {
        "duration": 1177,
        "start_time": "2023-03-17T11:03:17.015Z"
      },
      {
        "duration": 21,
        "start_time": "2023-03-17T11:05:12.199Z"
      },
      {
        "duration": 17,
        "start_time": "2023-03-17T11:05:33.956Z"
      },
      {
        "duration": 1365,
        "start_time": "2023-03-17T11:07:29.840Z"
      },
      {
        "duration": 22,
        "start_time": "2023-03-17T11:08:18.540Z"
      },
      {
        "duration": 843,
        "start_time": "2023-03-17T11:08:26.515Z"
      },
      {
        "duration": 3,
        "start_time": "2023-03-17T11:14:21.460Z"
      },
      {
        "duration": 5,
        "start_time": "2023-03-17T11:14:26.857Z"
      },
      {
        "duration": 3,
        "start_time": "2023-03-17T11:15:19.925Z"
      },
      {
        "duration": 7,
        "start_time": "2023-03-17T11:15:21.105Z"
      },
      {
        "duration": 7,
        "start_time": "2023-03-17T11:15:26.911Z"
      },
      {
        "duration": 52,
        "start_time": "2023-03-17T11:16:21.734Z"
      },
      {
        "duration": 1571,
        "start_time": "2023-03-17T11:16:32.502Z"
      },
      {
        "duration": 761,
        "start_time": "2023-03-17T11:16:34.077Z"
      },
      {
        "duration": 22,
        "start_time": "2023-03-17T11:16:34.841Z"
      },
      {
        "duration": 33,
        "start_time": "2023-03-17T11:16:34.881Z"
      },
      {
        "duration": 367,
        "start_time": "2023-03-17T11:16:34.917Z"
      },
      {
        "duration": 20,
        "start_time": "2023-03-17T11:16:35.287Z"
      },
      {
        "duration": 49,
        "start_time": "2023-03-17T11:16:35.310Z"
      },
      {
        "duration": 193,
        "start_time": "2023-03-17T11:16:35.362Z"
      },
      {
        "duration": 29,
        "start_time": "2023-03-17T11:16:35.557Z"
      },
      {
        "duration": 35,
        "start_time": "2023-03-17T11:16:35.589Z"
      },
      {
        "duration": 306,
        "start_time": "2023-03-17T11:16:35.626Z"
      },
      {
        "duration": 5,
        "start_time": "2023-03-17T11:16:35.934Z"
      },
      {
        "duration": 35,
        "start_time": "2023-03-17T11:16:35.940Z"
      },
      {
        "duration": 15,
        "start_time": "2023-03-17T11:16:35.977Z"
      },
      {
        "duration": 10,
        "start_time": "2023-03-17T11:16:35.994Z"
      },
      {
        "duration": 23,
        "start_time": "2023-03-17T11:16:36.007Z"
      },
      {
        "duration": 114,
        "start_time": "2023-03-17T11:16:36.032Z"
      },
      {
        "duration": 39,
        "start_time": "2023-03-17T11:16:36.149Z"
      },
      {
        "duration": 5,
        "start_time": "2023-03-17T11:16:36.190Z"
      },
      {
        "duration": 27,
        "start_time": "2023-03-17T11:16:36.197Z"
      },
      {
        "duration": 1601,
        "start_time": "2023-03-17T11:20:39.218Z"
      },
      {
        "duration": 709,
        "start_time": "2023-03-17T11:20:40.821Z"
      },
      {
        "duration": 21,
        "start_time": "2023-03-17T11:20:41.531Z"
      },
      {
        "duration": 43,
        "start_time": "2023-03-17T11:20:41.554Z"
      },
      {
        "duration": 273,
        "start_time": "2023-03-17T11:20:41.599Z"
      },
      {
        "duration": 22,
        "start_time": "2023-03-17T11:20:41.875Z"
      },
      {
        "duration": 36,
        "start_time": "2023-03-17T11:20:41.899Z"
      },
      {
        "duration": 185,
        "start_time": "2023-03-17T11:20:41.937Z"
      },
      {
        "duration": 21,
        "start_time": "2023-03-17T11:20:42.125Z"
      },
      {
        "duration": 51,
        "start_time": "2023-03-17T11:20:42.148Z"
      },
      {
        "duration": 289,
        "start_time": "2023-03-17T11:20:42.202Z"
      },
      {
        "duration": 6,
        "start_time": "2023-03-17T11:20:42.492Z"
      },
      {
        "duration": 19,
        "start_time": "2023-03-17T11:20:42.500Z"
      },
      {
        "duration": 6,
        "start_time": "2023-03-17T11:20:42.522Z"
      },
      {
        "duration": 19,
        "start_time": "2023-03-17T11:20:42.530Z"
      },
      {
        "duration": 12,
        "start_time": "2023-03-17T11:20:42.580Z"
      },
      {
        "duration": 75,
        "start_time": "2023-03-17T11:20:42.595Z"
      },
      {
        "duration": 23,
        "start_time": "2023-03-17T11:20:42.682Z"
      },
      {
        "duration": 174,
        "start_time": "2023-03-17T11:23:37.992Z"
      },
      {
        "duration": 16,
        "start_time": "2023-03-17T11:23:57.263Z"
      },
      {
        "duration": 22,
        "start_time": "2023-03-17T11:24:03.950Z"
      },
      {
        "duration": 3,
        "start_time": "2023-03-17T11:24:16.188Z"
      },
      {
        "duration": 3,
        "start_time": "2023-03-17T11:26:32.239Z"
      },
      {
        "duration": 7,
        "start_time": "2023-03-17T11:26:32.869Z"
      },
      {
        "duration": 34,
        "start_time": "2023-03-17T11:31:58.516Z"
      },
      {
        "duration": 47,
        "start_time": "2023-03-17T11:33:47.063Z"
      },
      {
        "duration": 45,
        "start_time": "2023-03-17T11:34:10.764Z"
      },
      {
        "duration": 54,
        "start_time": "2023-03-17T11:34:14.636Z"
      },
      {
        "duration": 74,
        "start_time": "2023-03-17T11:34:26.786Z"
      },
      {
        "duration": 21,
        "start_time": "2023-03-17T11:34:39.151Z"
      },
      {
        "duration": 1878,
        "start_time": "2023-03-17T11:35:09.802Z"
      },
      {
        "duration": 722,
        "start_time": "2023-03-17T11:35:11.682Z"
      },
      {
        "duration": 22,
        "start_time": "2023-03-17T11:35:12.406Z"
      },
      {
        "duration": 52,
        "start_time": "2023-03-17T11:35:12.430Z"
      },
      {
        "duration": 270,
        "start_time": "2023-03-17T11:35:12.485Z"
      },
      {
        "duration": 31,
        "start_time": "2023-03-17T11:35:12.757Z"
      },
      {
        "duration": 26,
        "start_time": "2023-03-17T11:35:12.790Z"
      },
      {
        "duration": 168,
        "start_time": "2023-03-17T11:35:12.819Z"
      },
      {
        "duration": 21,
        "start_time": "2023-03-17T11:35:12.989Z"
      },
      {
        "duration": 22,
        "start_time": "2023-03-17T11:35:13.013Z"
      },
      {
        "duration": 311,
        "start_time": "2023-03-17T11:35:13.038Z"
      },
      {
        "duration": 4,
        "start_time": "2023-03-17T11:35:13.351Z"
      },
      {
        "duration": 29,
        "start_time": "2023-03-17T11:35:13.357Z"
      },
      {
        "duration": 6,
        "start_time": "2023-03-17T11:35:13.389Z"
      },
      {
        "duration": 11,
        "start_time": "2023-03-17T11:35:13.397Z"
      },
      {
        "duration": 19,
        "start_time": "2023-03-17T11:35:13.409Z"
      },
      {
        "duration": 86,
        "start_time": "2023-03-17T11:35:13.430Z"
      },
      {
        "duration": 26,
        "start_time": "2023-03-17T11:35:13.518Z"
      },
      {
        "duration": 5,
        "start_time": "2023-03-17T11:35:13.546Z"
      },
      {
        "duration": 42,
        "start_time": "2023-03-17T11:35:13.553Z"
      },
      {
        "duration": 34,
        "start_time": "2023-03-17T11:35:13.598Z"
      },
      {
        "duration": 20,
        "start_time": "2023-03-17T11:36:28.147Z"
      },
      {
        "duration": 30,
        "start_time": "2023-03-17T11:37:34.227Z"
      },
      {
        "duration": 35,
        "start_time": "2023-03-17T11:37:44.994Z"
      },
      {
        "duration": 127,
        "start_time": "2023-03-17T11:48:30.847Z"
      },
      {
        "duration": 768,
        "start_time": "2023-03-17T11:52:39.187Z"
      },
      {
        "duration": 20,
        "start_time": "2023-03-17T12:02:42.044Z"
      },
      {
        "duration": 816,
        "start_time": "2023-03-17T12:30:20.006Z"
      },
      {
        "duration": 22,
        "start_time": "2023-03-17T12:30:27.516Z"
      },
      {
        "duration": 1581,
        "start_time": "2023-03-17T12:31:43.846Z"
      },
      {
        "duration": 831,
        "start_time": "2023-03-17T12:31:45.430Z"
      },
      {
        "duration": 28,
        "start_time": "2023-03-17T12:31:46.263Z"
      },
      {
        "duration": 24,
        "start_time": "2023-03-17T12:31:46.294Z"
      },
      {
        "duration": 264,
        "start_time": "2023-03-17T12:31:46.320Z"
      },
      {
        "duration": 14,
        "start_time": "2023-03-17T12:31:46.586Z"
      },
      {
        "duration": 39,
        "start_time": "2023-03-17T12:31:46.602Z"
      },
      {
        "duration": 143,
        "start_time": "2023-03-17T12:31:46.643Z"
      },
      {
        "duration": 18,
        "start_time": "2023-03-17T12:31:46.787Z"
      },
      {
        "duration": 20,
        "start_time": "2023-03-17T12:31:46.808Z"
      },
      {
        "duration": 277,
        "start_time": "2023-03-17T12:31:46.829Z"
      },
      {
        "duration": 3,
        "start_time": "2023-03-17T12:31:47.108Z"
      },
      {
        "duration": 33,
        "start_time": "2023-03-17T12:31:47.113Z"
      },
      {
        "duration": 13,
        "start_time": "2023-03-17T12:31:47.147Z"
      },
      {
        "duration": 11,
        "start_time": "2023-03-17T12:31:47.162Z"
      },
      {
        "duration": 31,
        "start_time": "2023-03-17T12:31:47.175Z"
      },
      {
        "duration": 81,
        "start_time": "2023-03-17T12:31:47.208Z"
      },
      {
        "duration": 19,
        "start_time": "2023-03-17T12:31:47.292Z"
      },
      {
        "duration": 17,
        "start_time": "2023-03-17T12:31:47.313Z"
      },
      {
        "duration": 25,
        "start_time": "2023-03-17T12:32:52.408Z"
      },
      {
        "duration": 75,
        "start_time": "2023-03-17T19:36:47.329Z"
      },
      {
        "duration": 1894,
        "start_time": "2023-03-17T19:36:52.737Z"
      },
      {
        "duration": 2534,
        "start_time": "2023-03-17T19:36:54.633Z"
      },
      {
        "duration": 21,
        "start_time": "2023-03-17T19:36:57.170Z"
      },
      {
        "duration": 23,
        "start_time": "2023-03-17T19:36:57.193Z"
      },
      {
        "duration": 276,
        "start_time": "2023-03-17T19:36:57.218Z"
      },
      {
        "duration": 13,
        "start_time": "2023-03-17T19:36:57.495Z"
      },
      {
        "duration": 47,
        "start_time": "2023-03-17T19:36:57.509Z"
      },
      {
        "duration": 144,
        "start_time": "2023-03-17T19:36:57.558Z"
      },
      {
        "duration": 19,
        "start_time": "2023-03-17T19:36:57.703Z"
      },
      {
        "duration": 47,
        "start_time": "2023-03-17T19:36:57.725Z"
      },
      {
        "duration": 280,
        "start_time": "2023-03-17T19:36:57.773Z"
      },
      {
        "duration": 8,
        "start_time": "2023-03-17T19:36:58.058Z"
      },
      {
        "duration": 14,
        "start_time": "2023-03-17T19:36:58.067Z"
      },
      {
        "duration": 5,
        "start_time": "2023-03-17T19:36:58.083Z"
      },
      {
        "duration": 5,
        "start_time": "2023-03-17T19:36:58.089Z"
      },
      {
        "duration": 9,
        "start_time": "2023-03-17T19:36:58.095Z"
      },
      {
        "duration": 182,
        "start_time": "2023-03-17T19:36:58.106Z"
      },
      {
        "duration": 15,
        "start_time": "2023-03-17T19:36:58.290Z"
      },
      {
        "duration": 20,
        "start_time": "2023-03-17T19:36:58.307Z"
      },
      {
        "duration": 19,
        "start_time": "2023-03-17T19:36:58.356Z"
      },
      {
        "duration": 5,
        "start_time": "2023-03-17T19:36:58.377Z"
      },
      {
        "duration": 7,
        "start_time": "2023-03-17T19:40:19.099Z"
      },
      {
        "duration": 22,
        "start_time": "2023-03-17T19:40:22.390Z"
      },
      {
        "duration": 14,
        "start_time": "2023-03-17T19:45:57.688Z"
      },
      {
        "duration": 22,
        "start_time": "2023-03-17T19:46:39.856Z"
      },
      {
        "duration": 9,
        "start_time": "2023-03-17T19:47:26.628Z"
      },
      {
        "duration": 9,
        "start_time": "2023-03-17T19:47:40.122Z"
      },
      {
        "duration": 122,
        "start_time": "2023-03-17T20:10:55.563Z"
      },
      {
        "duration": 1306,
        "start_time": "2023-03-17T20:11:03.904Z"
      },
      {
        "duration": 1394,
        "start_time": "2023-03-17T20:11:29.629Z"
      },
      {
        "duration": 4,
        "start_time": "2023-03-17T20:15:26.566Z"
      },
      {
        "duration": 13,
        "start_time": "2023-03-17T20:15:50.164Z"
      },
      {
        "duration": 5650,
        "start_time": "2023-03-17T20:16:00.458Z"
      },
      {
        "duration": 1617,
        "start_time": "2023-03-18T10:50:52.524Z"
      },
      {
        "duration": 2065,
        "start_time": "2023-03-18T10:50:54.145Z"
      },
      {
        "duration": 21,
        "start_time": "2023-03-18T10:50:56.212Z"
      },
      {
        "duration": 23,
        "start_time": "2023-03-18T10:50:56.235Z"
      },
      {
        "duration": 234,
        "start_time": "2023-03-18T10:50:56.260Z"
      },
      {
        "duration": 13,
        "start_time": "2023-03-18T10:50:56.495Z"
      },
      {
        "duration": 24,
        "start_time": "2023-03-18T10:50:56.509Z"
      },
      {
        "duration": 142,
        "start_time": "2023-03-18T10:50:56.534Z"
      },
      {
        "duration": 16,
        "start_time": "2023-03-18T10:50:56.678Z"
      },
      {
        "duration": 19,
        "start_time": "2023-03-18T10:50:56.697Z"
      },
      {
        "duration": 258,
        "start_time": "2023-03-18T10:50:56.718Z"
      },
      {
        "duration": 4,
        "start_time": "2023-03-18T10:50:56.977Z"
      },
      {
        "duration": 12,
        "start_time": "2023-03-18T10:50:56.982Z"
      },
      {
        "duration": 5,
        "start_time": "2023-03-18T10:50:56.996Z"
      },
      {
        "duration": 5,
        "start_time": "2023-03-18T10:50:57.002Z"
      },
      {
        "duration": 7,
        "start_time": "2023-03-18T10:50:57.008Z"
      },
      {
        "duration": 165,
        "start_time": "2023-03-18T10:50:57.017Z"
      },
      {
        "duration": 15,
        "start_time": "2023-03-18T10:50:57.184Z"
      },
      {
        "duration": 20,
        "start_time": "2023-03-18T10:50:57.200Z"
      },
      {
        "duration": 13,
        "start_time": "2023-03-18T10:50:57.222Z"
      },
      {
        "duration": 42,
        "start_time": "2023-03-18T10:50:57.237Z"
      },
      {
        "duration": 3,
        "start_time": "2023-03-18T10:50:57.280Z"
      },
      {
        "duration": 5072,
        "start_time": "2023-03-18T10:50:57.285Z"
      },
      {
        "duration": 2794,
        "start_time": "2023-03-18T10:56:35.517Z"
      },
      {
        "duration": 3091,
        "start_time": "2023-03-18T10:57:42.686Z"
      },
      {
        "duration": 2881,
        "start_time": "2023-03-18T10:58:02.930Z"
      },
      {
        "duration": 2689,
        "start_time": "2023-03-18T10:58:22.802Z"
      },
      {
        "duration": 2842,
        "start_time": "2023-03-18T10:58:34.560Z"
      },
      {
        "duration": 2698,
        "start_time": "2023-03-18T10:58:51.927Z"
      },
      {
        "duration": 2805,
        "start_time": "2023-03-18T10:59:02.605Z"
      },
      {
        "duration": 2818,
        "start_time": "2023-03-18T10:59:11.007Z"
      },
      {
        "duration": 2648,
        "start_time": "2023-03-18T10:59:20.580Z"
      },
      {
        "duration": 2808,
        "start_time": "2023-03-18T11:00:11.031Z"
      },
      {
        "duration": 4,
        "start_time": "2023-03-18T11:00:23.484Z"
      },
      {
        "duration": 120,
        "start_time": "2023-03-18T11:00:25.348Z"
      },
      {
        "duration": 4,
        "start_time": "2023-03-18T11:00:27.857Z"
      },
      {
        "duration": 14,
        "start_time": "2023-03-18T11:00:28.801Z"
      },
      {
        "duration": 15,
        "start_time": "2023-03-18T11:00:45.812Z"
      },
      {
        "duration": 15,
        "start_time": "2023-03-18T11:00:52.345Z"
      },
      {
        "duration": 4,
        "start_time": "2023-03-18T11:00:53.986Z"
      },
      {
        "duration": 2881,
        "start_time": "2023-03-18T11:00:55.466Z"
      },
      {
        "duration": 4,
        "start_time": "2023-03-18T11:06:24.115Z"
      },
      {
        "duration": 2687,
        "start_time": "2023-03-18T11:07:23.160Z"
      },
      {
        "duration": 2903,
        "start_time": "2023-03-18T11:08:56.310Z"
      },
      {
        "duration": 2778,
        "start_time": "2023-03-18T11:09:37.440Z"
      },
      {
        "duration": 2783,
        "start_time": "2023-03-18T11:09:57.685Z"
      },
      {
        "duration": 15,
        "start_time": "2023-03-18T11:24:40.707Z"
      },
      {
        "duration": 213,
        "start_time": "2023-03-18T11:24:55.814Z"
      },
      {
        "duration": 223,
        "start_time": "2023-03-18T11:25:14.395Z"
      },
      {
        "duration": 242,
        "start_time": "2023-03-18T11:33:20.232Z"
      },
      {
        "duration": 1151,
        "start_time": "2023-03-18T11:33:54.316Z"
      },
      {
        "duration": 341,
        "start_time": "2023-03-18T11:33:59.696Z"
      },
      {
        "duration": 223,
        "start_time": "2023-03-18T11:34:56.324Z"
      },
      {
        "duration": 229,
        "start_time": "2023-03-18T11:35:22.840Z"
      },
      {
        "duration": 218,
        "start_time": "2023-03-18T11:35:29.918Z"
      },
      {
        "duration": 233,
        "start_time": "2023-03-18T11:35:43.576Z"
      },
      {
        "duration": 226,
        "start_time": "2023-03-18T11:36:05.359Z"
      },
      {
        "duration": 224,
        "start_time": "2023-03-18T11:43:30.626Z"
      },
      {
        "duration": 251,
        "start_time": "2023-03-18T11:43:50.462Z"
      },
      {
        "duration": 1114,
        "start_time": "2023-03-18T12:09:26.745Z"
      },
      {
        "duration": 962,
        "start_time": "2023-03-18T12:22:06.522Z"
      },
      {
        "duration": 1170,
        "start_time": "2023-03-18T12:22:22.591Z"
      },
      {
        "duration": 1063,
        "start_time": "2023-03-18T12:22:34.247Z"
      },
      {
        "duration": 1158,
        "start_time": "2023-03-18T12:22:39.730Z"
      },
      {
        "duration": 2,
        "start_time": "2023-03-18T12:25:26.588Z"
      },
      {
        "duration": 2808,
        "start_time": "2023-03-18T12:26:50.622Z"
      },
      {
        "duration": 14,
        "start_time": "2023-03-18T12:58:19.243Z"
      },
      {
        "duration": 9,
        "start_time": "2023-03-18T12:58:33.892Z"
      },
      {
        "duration": 9,
        "start_time": "2023-03-18T12:59:04.875Z"
      },
      {
        "duration": 10,
        "start_time": "2023-03-18T12:59:40.394Z"
      },
      {
        "duration": 1018,
        "start_time": "2023-03-18T13:05:30.562Z"
      },
      {
        "duration": 11,
        "start_time": "2023-03-18T13:31:01.893Z"
      },
      {
        "duration": 3,
        "start_time": "2023-03-18T13:31:04.348Z"
      },
      {
        "duration": 2855,
        "start_time": "2023-03-18T13:31:05.118Z"
      },
      {
        "duration": 2900,
        "start_time": "2023-03-18T13:31:37.595Z"
      },
      {
        "duration": 232,
        "start_time": "2023-03-18T13:32:33.158Z"
      },
      {
        "duration": 1143,
        "start_time": "2023-03-18T13:33:37.921Z"
      },
      {
        "duration": 11,
        "start_time": "2023-03-18T13:40:29.944Z"
      },
      {
        "duration": 11,
        "start_time": "2023-03-18T13:40:51.694Z"
      },
      {
        "duration": 1549,
        "start_time": "2023-03-18T13:40:53.588Z"
      },
      {
        "duration": 1334,
        "start_time": "2023-03-18T13:41:20.411Z"
      },
      {
        "duration": 11,
        "start_time": "2023-03-18T13:42:40.849Z"
      },
      {
        "duration": 1120,
        "start_time": "2023-03-18T13:42:42.901Z"
      },
      {
        "duration": 1132,
        "start_time": "2023-03-18T13:42:51.545Z"
      },
      {
        "duration": 1136,
        "start_time": "2023-03-18T13:43:42.705Z"
      },
      {
        "duration": 1163,
        "start_time": "2023-03-18T13:43:49.546Z"
      },
      {
        "duration": 996,
        "start_time": "2023-03-18T13:44:27.095Z"
      },
      {
        "duration": 1187,
        "start_time": "2023-03-18T13:44:33.784Z"
      },
      {
        "duration": 1184,
        "start_time": "2023-03-18T13:45:44.654Z"
      },
      {
        "duration": 1197,
        "start_time": "2023-03-18T13:45:56.902Z"
      },
      {
        "duration": 5,
        "start_time": "2023-03-18T13:47:11.807Z"
      },
      {
        "duration": 11,
        "start_time": "2023-03-18T13:48:23.052Z"
      },
      {
        "duration": 3,
        "start_time": "2023-03-18T13:48:27.150Z"
      },
      {
        "duration": 2732,
        "start_time": "2023-03-18T13:48:28.324Z"
      },
      {
        "duration": 456,
        "start_time": "2023-03-18T13:49:34.034Z"
      },
      {
        "duration": 1144,
        "start_time": "2023-03-18T13:49:55.747Z"
      },
      {
        "duration": 220,
        "start_time": "2023-03-18T13:50:05.457Z"
      },
      {
        "duration": 223,
        "start_time": "2023-03-18T13:50:23.110Z"
      },
      {
        "duration": 239,
        "start_time": "2023-03-18T13:50:42.563Z"
      },
      {
        "duration": 1155,
        "start_time": "2023-03-18T13:51:13.580Z"
      },
      {
        "duration": 1428,
        "start_time": "2023-03-18T13:51:20.899Z"
      },
      {
        "duration": 1051,
        "start_time": "2023-03-18T13:51:46.542Z"
      },
      {
        "duration": 12,
        "start_time": "2023-03-18T13:52:28.739Z"
      },
      {
        "duration": 1150,
        "start_time": "2023-03-18T13:52:30.300Z"
      },
      {
        "duration": 1237,
        "start_time": "2023-03-18T13:52:50.781Z"
      },
      {
        "duration": 1143,
        "start_time": "2023-03-18T13:53:07.527Z"
      },
      {
        "duration": 1209,
        "start_time": "2023-03-18T13:53:15.456Z"
      },
      {
        "duration": 1037,
        "start_time": "2023-03-18T13:55:01.404Z"
      },
      {
        "duration": 1156,
        "start_time": "2023-03-18T13:55:22.684Z"
      },
      {
        "duration": 998,
        "start_time": "2023-03-18T13:55:30.225Z"
      },
      {
        "duration": 1139,
        "start_time": "2023-03-18T13:55:36.999Z"
      },
      {
        "duration": 23,
        "start_time": "2023-03-18T14:00:06.913Z"
      },
      {
        "duration": 1022,
        "start_time": "2023-03-18T14:00:16.501Z"
      },
      {
        "duration": 1176,
        "start_time": "2023-03-18T14:00:46.665Z"
      },
      {
        "duration": 48,
        "start_time": "2023-03-18T17:13:08.835Z"
      },
      {
        "duration": 1676,
        "start_time": "2023-03-18T17:13:16.617Z"
      },
      {
        "duration": 2367,
        "start_time": "2023-03-18T17:13:18.295Z"
      },
      {
        "duration": 22,
        "start_time": "2023-03-18T17:13:20.664Z"
      },
      {
        "duration": 33,
        "start_time": "2023-03-18T17:13:20.688Z"
      },
      {
        "duration": 232,
        "start_time": "2023-03-18T17:13:20.723Z"
      },
      {
        "duration": 12,
        "start_time": "2023-03-18T17:13:20.957Z"
      },
      {
        "duration": 40,
        "start_time": "2023-03-18T17:13:20.971Z"
      },
      {
        "duration": 156,
        "start_time": "2023-03-18T17:13:21.012Z"
      },
      {
        "duration": 23,
        "start_time": "2023-03-18T17:13:21.170Z"
      },
      {
        "duration": 21,
        "start_time": "2023-03-18T17:13:21.196Z"
      },
      {
        "duration": 262,
        "start_time": "2023-03-18T17:13:21.218Z"
      },
      {
        "duration": 7,
        "start_time": "2023-03-18T17:13:21.482Z"
      },
      {
        "duration": 17,
        "start_time": "2023-03-18T17:13:21.491Z"
      },
      {
        "duration": 8,
        "start_time": "2023-03-18T17:13:21.509Z"
      },
      {
        "duration": 16,
        "start_time": "2023-03-18T17:13:21.519Z"
      },
      {
        "duration": 10,
        "start_time": "2023-03-18T17:13:21.536Z"
      },
      {
        "duration": 77,
        "start_time": "2023-03-18T17:13:21.547Z"
      },
      {
        "duration": 21,
        "start_time": "2023-03-18T17:13:21.626Z"
      },
      {
        "duration": 43,
        "start_time": "2023-03-18T17:13:21.650Z"
      },
      {
        "duration": 19,
        "start_time": "2023-03-18T17:13:21.695Z"
      },
      {
        "duration": 36,
        "start_time": "2023-03-18T17:13:21.715Z"
      },
      {
        "duration": 4,
        "start_time": "2023-03-18T17:13:21.753Z"
      },
      {
        "duration": 2872,
        "start_time": "2023-03-18T17:13:21.759Z"
      },
      {
        "duration": 132,
        "start_time": "2023-03-18T17:13:24.634Z"
      },
      {
        "duration": 0,
        "start_time": "2023-03-18T17:13:24.768Z"
      },
      {
        "duration": 0,
        "start_time": "2023-03-18T17:13:24.770Z"
      },
      {
        "duration": 0,
        "start_time": "2023-03-18T17:13:24.772Z"
      },
      {
        "duration": 267,
        "start_time": "2023-03-18T17:15:22.917Z"
      },
      {
        "duration": 18,
        "start_time": "2023-03-18T17:15:27.581Z"
      },
      {
        "duration": 1053,
        "start_time": "2023-03-18T17:15:38.605Z"
      },
      {
        "duration": 15,
        "start_time": "2023-03-18T17:16:05.365Z"
      },
      {
        "duration": 18,
        "start_time": "2023-03-18T17:16:17.510Z"
      },
      {
        "duration": 1044,
        "start_time": "2023-03-18T17:17:51.026Z"
      },
      {
        "duration": 9,
        "start_time": "2023-03-18T17:18:06.260Z"
      },
      {
        "duration": 23,
        "start_time": "2023-03-18T17:18:07.558Z"
      },
      {
        "duration": 19,
        "start_time": "2023-03-18T17:18:16.020Z"
      },
      {
        "duration": 15,
        "start_time": "2023-03-18T17:18:27.271Z"
      },
      {
        "duration": 16,
        "start_time": "2023-03-18T17:19:02.542Z"
      },
      {
        "duration": 1175,
        "start_time": "2023-03-18T17:22:04.155Z"
      },
      {
        "duration": 1204,
        "start_time": "2023-03-18T17:22:30.002Z"
      },
      {
        "duration": 1138,
        "start_time": "2023-03-18T17:22:40.798Z"
      },
      {
        "duration": 959,
        "start_time": "2023-03-18T17:22:49.799Z"
      },
      {
        "duration": 975,
        "start_time": "2023-03-18T17:23:04.700Z"
      },
      {
        "duration": 996,
        "start_time": "2023-03-18T17:24:18.582Z"
      },
      {
        "duration": 983,
        "start_time": "2023-03-18T17:24:29.360Z"
      },
      {
        "duration": 1397,
        "start_time": "2023-03-18T17:24:36.297Z"
      },
      {
        "duration": 16,
        "start_time": "2023-03-18T17:24:53.349Z"
      },
      {
        "duration": 1028,
        "start_time": "2023-03-18T17:24:57.554Z"
      },
      {
        "duration": 77,
        "start_time": "2023-03-18T17:31:07.821Z"
      },
      {
        "duration": 17,
        "start_time": "2023-03-18T17:31:10.945Z"
      },
      {
        "duration": 10,
        "start_time": "2023-03-18T17:31:24.190Z"
      },
      {
        "duration": 919,
        "start_time": "2023-03-18T17:31:33.227Z"
      },
      {
        "duration": 826,
        "start_time": "2023-03-18T17:31:45.444Z"
      },
      {
        "duration": 1079,
        "start_time": "2023-03-18T17:32:02.149Z"
      },
      {
        "duration": 2,
        "start_time": "2023-03-18T17:33:59.394Z"
      },
      {
        "duration": 3019,
        "start_time": "2023-03-18T17:34:56.503Z"
      },
      {
        "duration": 2756,
        "start_time": "2023-03-18T17:35:02.502Z"
      },
      {
        "duration": 2987,
        "start_time": "2023-03-18T17:35:59.810Z"
      },
      {
        "duration": 3,
        "start_time": "2023-03-18T17:36:41.868Z"
      },
      {
        "duration": 9,
        "start_time": "2023-03-18T17:36:42.569Z"
      },
      {
        "duration": 2773,
        "start_time": "2023-03-18T17:36:44.151Z"
      },
      {
        "duration": 1042,
        "start_time": "2023-03-18T17:37:39.242Z"
      },
      {
        "duration": 1033,
        "start_time": "2023-03-18T17:37:47.462Z"
      },
      {
        "duration": 798,
        "start_time": "2023-03-18T17:40:23.819Z"
      },
      {
        "duration": 1219,
        "start_time": "2023-03-18T17:43:27.671Z"
      },
      {
        "duration": 122,
        "start_time": "2023-03-18T17:44:20.045Z"
      },
      {
        "duration": 15,
        "start_time": "2023-03-18T17:48:02.131Z"
      },
      {
        "duration": 21,
        "start_time": "2023-03-18T17:48:42.821Z"
      },
      {
        "duration": 280,
        "start_time": "2023-03-18T17:50:05.945Z"
      },
      {
        "duration": 395,
        "start_time": "2023-03-18T17:55:52.047Z"
      },
      {
        "duration": 1212,
        "start_time": "2023-03-18T17:56:41.396Z"
      },
      {
        "duration": 88,
        "start_time": "2023-03-18T17:57:19.456Z"
      },
      {
        "duration": 119,
        "start_time": "2023-03-18T17:57:35.400Z"
      },
      {
        "duration": 83,
        "start_time": "2023-03-18T17:57:49.613Z"
      },
      {
        "duration": 1208,
        "start_time": "2023-03-18T17:57:59.397Z"
      },
      {
        "duration": 1411,
        "start_time": "2023-03-18T17:58:17.716Z"
      },
      {
        "duration": 1210,
        "start_time": "2023-03-18T17:58:29.416Z"
      },
      {
        "duration": 10,
        "start_time": "2023-03-18T18:01:02.904Z"
      },
      {
        "duration": 17,
        "start_time": "2023-03-18T18:02:06.561Z"
      },
      {
        "duration": 20,
        "start_time": "2023-03-18T18:02:19.610Z"
      },
      {
        "duration": 1281,
        "start_time": "2023-03-18T18:02:33.934Z"
      },
      {
        "duration": 80,
        "start_time": "2023-03-18T18:05:41.619Z"
      },
      {
        "duration": 1386,
        "start_time": "2023-03-18T18:05:46.255Z"
      },
      {
        "duration": 1238,
        "start_time": "2023-03-18T18:06:30.898Z"
      },
      {
        "duration": 9,
        "start_time": "2023-03-18T18:16:22.202Z"
      },
      {
        "duration": 1289,
        "start_time": "2023-03-18T18:16:23.355Z"
      },
      {
        "duration": 4,
        "start_time": "2023-03-18T18:23:45.496Z"
      },
      {
        "duration": 6,
        "start_time": "2023-03-18T18:23:49.306Z"
      },
      {
        "duration": 15,
        "start_time": "2023-03-18T18:24:05.456Z"
      },
      {
        "duration": 8,
        "start_time": "2023-03-18T18:24:17.398Z"
      },
      {
        "duration": 6,
        "start_time": "2023-03-18T18:24:41.004Z"
      },
      {
        "duration": 6,
        "start_time": "2023-03-18T18:25:43.020Z"
      },
      {
        "duration": 6,
        "start_time": "2023-03-18T18:26:24.205Z"
      },
      {
        "duration": 8,
        "start_time": "2023-03-18T18:26:32.918Z"
      },
      {
        "duration": 75,
        "start_time": "2023-03-19T11:25:22.939Z"
      },
      {
        "duration": 1817,
        "start_time": "2023-03-19T11:25:27.224Z"
      },
      {
        "duration": 3455,
        "start_time": "2023-03-19T11:25:29.044Z"
      },
      {
        "duration": 23,
        "start_time": "2023-03-19T11:25:32.500Z"
      },
      {
        "duration": 28,
        "start_time": "2023-03-19T11:25:32.525Z"
      },
      {
        "duration": 282,
        "start_time": "2023-03-19T11:25:32.556Z"
      },
      {
        "duration": 15,
        "start_time": "2023-03-19T11:25:32.839Z"
      },
      {
        "duration": 48,
        "start_time": "2023-03-19T11:25:32.855Z"
      },
      {
        "duration": 146,
        "start_time": "2023-03-19T11:25:32.905Z"
      },
      {
        "duration": 28,
        "start_time": "2023-03-19T11:25:33.054Z"
      },
      {
        "duration": 34,
        "start_time": "2023-03-19T11:25:33.086Z"
      },
      {
        "duration": 275,
        "start_time": "2023-03-19T11:25:33.121Z"
      },
      {
        "duration": 4,
        "start_time": "2023-03-19T11:25:33.398Z"
      },
      {
        "duration": 20,
        "start_time": "2023-03-19T11:25:33.403Z"
      },
      {
        "duration": 5,
        "start_time": "2023-03-19T11:25:33.425Z"
      },
      {
        "duration": 12,
        "start_time": "2023-03-19T11:25:33.431Z"
      },
      {
        "duration": 11,
        "start_time": "2023-03-19T11:25:33.445Z"
      },
      {
        "duration": 84,
        "start_time": "2023-03-19T11:25:33.457Z"
      },
      {
        "duration": 16,
        "start_time": "2023-03-19T11:25:33.543Z"
      },
      {
        "duration": 43,
        "start_time": "2023-03-19T11:25:33.561Z"
      },
      {
        "duration": 24,
        "start_time": "2023-03-19T11:25:33.606Z"
      },
      {
        "duration": 18,
        "start_time": "2023-03-19T11:25:33.632Z"
      },
      {
        "duration": 30,
        "start_time": "2023-03-19T11:25:33.652Z"
      },
      {
        "duration": 3237,
        "start_time": "2023-03-19T11:25:33.683Z"
      },
      {
        "duration": 280,
        "start_time": "2023-03-19T11:25:36.923Z"
      },
      {
        "duration": 1305,
        "start_time": "2023-03-19T11:25:37.205Z"
      },
      {
        "duration": 9,
        "start_time": "2023-03-19T11:25:38.512Z"
      },
      {
        "duration": 915,
        "start_time": "2023-03-19T11:25:38.523Z"
      },
      {
        "duration": 1495,
        "start_time": "2023-03-19T11:34:28.204Z"
      },
      {
        "duration": 39079,
        "start_time": "2023-03-19T11:36:35.396Z"
      },
      {
        "duration": 485,
        "start_time": "2023-03-19T11:38:41.448Z"
      },
      {
        "duration": 40236,
        "start_time": "2023-03-19T11:43:36.875Z"
      },
      {
        "duration": 46411,
        "start_time": "2023-03-19T11:45:03.398Z"
      },
      {
        "duration": 48329,
        "start_time": "2023-03-19T11:46:06.441Z"
      },
      {
        "duration": 53429,
        "start_time": "2023-03-19T11:47:17.618Z"
      },
      {
        "duration": 1612,
        "start_time": "2023-03-19T12:24:46.424Z"
      },
      {
        "duration": 2871,
        "start_time": "2023-03-19T12:24:48.039Z"
      },
      {
        "duration": 21,
        "start_time": "2023-03-19T12:24:50.912Z"
      },
      {
        "duration": 26,
        "start_time": "2023-03-19T12:24:50.936Z"
      },
      {
        "duration": 289,
        "start_time": "2023-03-19T12:24:50.964Z"
      },
      {
        "duration": 17,
        "start_time": "2023-03-19T12:24:51.255Z"
      },
      {
        "duration": 24,
        "start_time": "2023-03-19T12:24:51.282Z"
      },
      {
        "duration": 160,
        "start_time": "2023-03-19T12:24:51.308Z"
      },
      {
        "duration": 30,
        "start_time": "2023-03-19T12:24:51.480Z"
      },
      {
        "duration": 25,
        "start_time": "2023-03-19T12:24:51.513Z"
      },
      {
        "duration": 309,
        "start_time": "2023-03-19T12:24:51.541Z"
      },
      {
        "duration": 4,
        "start_time": "2023-03-19T12:24:51.852Z"
      },
      {
        "duration": 32,
        "start_time": "2023-03-19T12:24:51.858Z"
      },
      {
        "duration": 23,
        "start_time": "2023-03-19T12:24:51.892Z"
      },
      {
        "duration": 15,
        "start_time": "2023-03-19T12:24:51.917Z"
      },
      {
        "duration": 22,
        "start_time": "2023-03-19T12:24:51.934Z"
      },
      {
        "duration": 125,
        "start_time": "2023-03-19T12:24:51.958Z"
      },
      {
        "duration": 22,
        "start_time": "2023-03-19T12:24:52.085Z"
      },
      {
        "duration": 39,
        "start_time": "2023-03-19T12:24:52.109Z"
      },
      {
        "duration": 47,
        "start_time": "2023-03-19T12:24:52.150Z"
      },
      {
        "duration": 33,
        "start_time": "2023-03-19T12:24:52.199Z"
      },
      {
        "duration": 16,
        "start_time": "2023-03-19T12:24:52.235Z"
      },
      {
        "duration": 3155,
        "start_time": "2023-03-19T12:24:52.253Z"
      },
      {
        "duration": 293,
        "start_time": "2023-03-19T12:24:55.409Z"
      },
      {
        "duration": 1361,
        "start_time": "2023-03-19T12:24:55.703Z"
      },
      {
        "duration": 18,
        "start_time": "2023-03-19T12:24:57.066Z"
      },
      {
        "duration": 1336,
        "start_time": "2023-03-19T12:24:57.086Z"
      },
      {
        "duration": 3,
        "start_time": "2023-03-19T12:24:58.425Z"
      },
      {
        "duration": 163,
        "start_time": "2023-03-19T12:40:15.801Z"
      },
      {
        "duration": 14,
        "start_time": "2023-03-19T12:41:12.300Z"
      },
      {
        "duration": 6,
        "start_time": "2023-03-19T12:41:17.076Z"
      },
      {
        "duration": 10,
        "start_time": "2023-03-19T12:42:47.339Z"
      },
      {
        "duration": 14,
        "start_time": "2023-03-19T12:42:51.291Z"
      },
      {
        "duration": 9,
        "start_time": "2023-03-19T12:42:54.393Z"
      },
      {
        "duration": 1520,
        "start_time": "2023-03-19T12:43:02.314Z"
      },
      {
        "duration": 812,
        "start_time": "2023-03-19T12:43:03.836Z"
      },
      {
        "duration": 20,
        "start_time": "2023-03-19T12:43:04.650Z"
      },
      {
        "duration": 40,
        "start_time": "2023-03-19T12:43:04.673Z"
      },
      {
        "duration": 306,
        "start_time": "2023-03-19T12:43:04.715Z"
      },
      {
        "duration": 20,
        "start_time": "2023-03-19T12:43:05.023Z"
      },
      {
        "duration": 52,
        "start_time": "2023-03-19T12:43:05.045Z"
      },
      {
        "duration": 194,
        "start_time": "2023-03-19T12:43:05.106Z"
      },
      {
        "duration": 24,
        "start_time": "2023-03-19T12:43:05.303Z"
      },
      {
        "duration": 29,
        "start_time": "2023-03-19T12:43:05.332Z"
      },
      {
        "duration": 317,
        "start_time": "2023-03-19T12:43:05.363Z"
      },
      {
        "duration": 3,
        "start_time": "2023-03-19T12:43:05.684Z"
      },
      {
        "duration": 25,
        "start_time": "2023-03-19T12:43:05.693Z"
      },
      {
        "duration": 18,
        "start_time": "2023-03-19T12:43:05.720Z"
      },
      {
        "duration": 8,
        "start_time": "2023-03-19T12:43:05.740Z"
      },
      {
        "duration": 14,
        "start_time": "2023-03-19T12:43:05.750Z"
      },
      {
        "duration": 101,
        "start_time": "2023-03-19T12:43:05.766Z"
      },
      {
        "duration": 31,
        "start_time": "2023-03-19T12:43:05.869Z"
      },
      {
        "duration": 58,
        "start_time": "2023-03-19T12:43:05.903Z"
      },
      {
        "duration": 32,
        "start_time": "2023-03-19T12:43:05.964Z"
      },
      {
        "duration": 38,
        "start_time": "2023-03-19T12:43:05.998Z"
      },
      {
        "duration": 14,
        "start_time": "2023-03-19T12:43:06.038Z"
      },
      {
        "duration": 3457,
        "start_time": "2023-03-19T12:43:06.055Z"
      },
      {
        "duration": 277,
        "start_time": "2023-03-19T12:43:09.514Z"
      },
      {
        "duration": 1324,
        "start_time": "2023-03-19T12:43:09.796Z"
      },
      {
        "duration": 13,
        "start_time": "2023-03-19T12:43:11.122Z"
      },
      {
        "duration": 1475,
        "start_time": "2023-03-19T12:43:11.139Z"
      },
      {
        "duration": 6,
        "start_time": "2023-03-19T12:43:12.618Z"
      },
      {
        "duration": 0,
        "start_time": "2023-03-19T12:43:12.626Z"
      },
      {
        "duration": 0,
        "start_time": "2023-03-19T12:43:12.627Z"
      },
      {
        "duration": 11,
        "start_time": "2023-03-19T12:43:20.046Z"
      },
      {
        "duration": 5,
        "start_time": "2023-03-19T12:46:59.840Z"
      },
      {
        "duration": 1775,
        "start_time": "2023-03-19T12:47:08.151Z"
      },
      {
        "duration": 835,
        "start_time": "2023-03-19T12:47:09.928Z"
      },
      {
        "duration": 43,
        "start_time": "2023-03-19T12:47:10.766Z"
      },
      {
        "duration": 35,
        "start_time": "2023-03-19T12:47:10.812Z"
      },
      {
        "duration": 357,
        "start_time": "2023-03-19T12:47:10.850Z"
      },
      {
        "duration": 22,
        "start_time": "2023-03-19T12:47:11.211Z"
      },
      {
        "duration": 57,
        "start_time": "2023-03-19T12:47:11.236Z"
      },
      {
        "duration": 180,
        "start_time": "2023-03-19T12:47:11.295Z"
      },
      {
        "duration": 29,
        "start_time": "2023-03-19T12:47:11.481Z"
      },
      {
        "duration": 41,
        "start_time": "2023-03-19T12:47:11.515Z"
      },
      {
        "duration": 313,
        "start_time": "2023-03-19T12:47:11.559Z"
      },
      {
        "duration": 20,
        "start_time": "2023-03-19T12:47:11.874Z"
      },
      {
        "duration": 35,
        "start_time": "2023-03-19T12:47:11.896Z"
      },
      {
        "duration": 10,
        "start_time": "2023-03-19T12:47:11.934Z"
      },
      {
        "duration": 13,
        "start_time": "2023-03-19T12:47:11.947Z"
      },
      {
        "duration": 28,
        "start_time": "2023-03-19T12:47:11.962Z"
      },
      {
        "duration": 126,
        "start_time": "2023-03-19T12:47:11.993Z"
      },
      {
        "duration": 24,
        "start_time": "2023-03-19T12:47:12.124Z"
      },
      {
        "duration": 49,
        "start_time": "2023-03-19T12:47:12.150Z"
      },
      {
        "duration": 20,
        "start_time": "2023-03-19T12:47:12.201Z"
      },
      {
        "duration": 20,
        "start_time": "2023-03-19T12:47:12.223Z"
      },
      {
        "duration": 3,
        "start_time": "2023-03-19T12:47:12.246Z"
      },
      {
        "duration": 3658,
        "start_time": "2023-03-19T12:47:12.251Z"
      },
      {
        "duration": 370,
        "start_time": "2023-03-19T12:47:15.911Z"
      },
      {
        "duration": 1620,
        "start_time": "2023-03-19T12:47:16.283Z"
      },
      {
        "duration": 11,
        "start_time": "2023-03-19T12:47:17.906Z"
      },
      {
        "duration": 1532,
        "start_time": "2023-03-19T12:47:17.919Z"
      },
      {
        "duration": 5,
        "start_time": "2023-03-19T12:47:19.458Z"
      },
      {
        "duration": 0,
        "start_time": "2023-03-19T12:47:19.465Z"
      },
      {
        "duration": 0,
        "start_time": "2023-03-19T12:47:19.468Z"
      },
      {
        "duration": 9,
        "start_time": "2023-03-19T12:48:07.093Z"
      },
      {
        "duration": 15,
        "start_time": "2023-03-19T12:48:11.875Z"
      },
      {
        "duration": 14,
        "start_time": "2023-03-19T12:59:37.599Z"
      },
      {
        "duration": 23,
        "start_time": "2023-03-19T13:42:07.177Z"
      },
      {
        "duration": 112,
        "start_time": "2023-03-19T13:43:03.727Z"
      },
      {
        "duration": 21,
        "start_time": "2023-03-19T13:43:07.793Z"
      },
      {
        "duration": 24,
        "start_time": "2023-03-19T13:43:10.857Z"
      },
      {
        "duration": 19,
        "start_time": "2023-03-19T13:48:02.945Z"
      },
      {
        "duration": 148,
        "start_time": "2023-03-19T13:48:20.803Z"
      },
      {
        "duration": 7,
        "start_time": "2023-03-19T13:49:12.003Z"
      },
      {
        "duration": 17,
        "start_time": "2023-03-19T13:49:25.340Z"
      },
      {
        "duration": 1477,
        "start_time": "2023-03-19T13:49:49.996Z"
      },
      {
        "duration": 712,
        "start_time": "2023-03-19T13:49:51.475Z"
      },
      {
        "duration": 18,
        "start_time": "2023-03-19T13:49:52.189Z"
      },
      {
        "duration": 27,
        "start_time": "2023-03-19T13:49:52.209Z"
      },
      {
        "duration": 272,
        "start_time": "2023-03-19T13:49:52.237Z"
      },
      {
        "duration": 14,
        "start_time": "2023-03-19T13:49:52.511Z"
      },
      {
        "duration": 26,
        "start_time": "2023-03-19T13:49:52.526Z"
      },
      {
        "duration": 161,
        "start_time": "2023-03-19T13:49:52.554Z"
      },
      {
        "duration": 20,
        "start_time": "2023-03-19T13:49:52.717Z"
      },
      {
        "duration": 23,
        "start_time": "2023-03-19T13:49:52.739Z"
      },
      {
        "duration": 287,
        "start_time": "2023-03-19T13:49:52.764Z"
      },
      {
        "duration": 3,
        "start_time": "2023-03-19T13:49:53.053Z"
      },
      {
        "duration": 70,
        "start_time": "2023-03-19T13:49:53.058Z"
      },
      {
        "duration": 27,
        "start_time": "2023-03-19T13:49:53.131Z"
      },
      {
        "duration": 9,
        "start_time": "2023-03-19T13:49:53.160Z"
      },
      {
        "duration": 17,
        "start_time": "2023-03-19T13:49:53.170Z"
      },
      {
        "duration": 73,
        "start_time": "2023-03-19T13:49:53.189Z"
      },
      {
        "duration": 30,
        "start_time": "2023-03-19T13:49:53.264Z"
      },
      {
        "duration": 26,
        "start_time": "2023-03-19T13:49:53.296Z"
      },
      {
        "duration": 17,
        "start_time": "2023-03-19T13:49:53.324Z"
      },
      {
        "duration": 42,
        "start_time": "2023-03-19T13:49:53.344Z"
      },
      {
        "duration": 4,
        "start_time": "2023-03-19T13:49:53.388Z"
      },
      {
        "duration": 3164,
        "start_time": "2023-03-19T13:49:53.393Z"
      },
      {
        "duration": 265,
        "start_time": "2023-03-19T13:49:56.559Z"
      },
      {
        "duration": 1192,
        "start_time": "2023-03-19T13:49:56.826Z"
      },
      {
        "duration": 10,
        "start_time": "2023-03-19T13:49:58.020Z"
      },
      {
        "duration": 1290,
        "start_time": "2023-03-19T13:49:58.032Z"
      },
      {
        "duration": 4,
        "start_time": "2023-03-19T13:49:59.326Z"
      },
      {
        "duration": 0,
        "start_time": "2023-03-19T13:49:59.331Z"
      },
      {
        "duration": 0,
        "start_time": "2023-03-19T13:49:59.332Z"
      },
      {
        "duration": 0,
        "start_time": "2023-03-19T13:49:59.334Z"
      },
      {
        "duration": 0,
        "start_time": "2023-03-19T13:49:59.335Z"
      },
      {
        "duration": 0,
        "start_time": "2023-03-19T13:49:59.336Z"
      },
      {
        "duration": 0,
        "start_time": "2023-03-19T13:49:59.337Z"
      },
      {
        "duration": 0,
        "start_time": "2023-03-19T13:49:59.338Z"
      },
      {
        "duration": 4,
        "start_time": "2023-03-19T13:52:39.464Z"
      },
      {
        "duration": 9,
        "start_time": "2023-03-19T13:52:41.303Z"
      },
      {
        "duration": 35,
        "start_time": "2023-03-19T13:52:42.422Z"
      },
      {
        "duration": 122,
        "start_time": "2023-03-19T13:53:03.228Z"
      },
      {
        "duration": 1499,
        "start_time": "2023-03-19T13:53:19.558Z"
      },
      {
        "duration": 769,
        "start_time": "2023-03-19T13:53:21.059Z"
      },
      {
        "duration": 20,
        "start_time": "2023-03-19T13:53:21.830Z"
      },
      {
        "duration": 47,
        "start_time": "2023-03-19T13:53:21.852Z"
      },
      {
        "duration": 267,
        "start_time": "2023-03-19T13:53:21.901Z"
      },
      {
        "duration": 21,
        "start_time": "2023-03-19T13:53:22.170Z"
      },
      {
        "duration": 22,
        "start_time": "2023-03-19T13:53:22.193Z"
      },
      {
        "duration": 146,
        "start_time": "2023-03-19T13:53:22.217Z"
      },
      {
        "duration": 30,
        "start_time": "2023-03-19T13:53:22.365Z"
      },
      {
        "duration": 24,
        "start_time": "2023-03-19T13:53:22.397Z"
      },
      {
        "duration": 271,
        "start_time": "2023-03-19T13:53:22.423Z"
      },
      {
        "duration": 3,
        "start_time": "2023-03-19T13:53:22.697Z"
      },
      {
        "duration": 15,
        "start_time": "2023-03-19T13:53:22.702Z"
      },
      {
        "duration": 4,
        "start_time": "2023-03-19T13:53:22.720Z"
      },
      {
        "duration": 6,
        "start_time": "2023-03-19T13:53:22.726Z"
      },
      {
        "duration": 11,
        "start_time": "2023-03-19T13:53:22.733Z"
      },
      {
        "duration": 88,
        "start_time": "2023-03-19T13:53:22.745Z"
      },
      {
        "duration": 17,
        "start_time": "2023-03-19T13:53:22.835Z"
      },
      {
        "duration": 41,
        "start_time": "2023-03-19T13:53:22.853Z"
      },
      {
        "duration": 17,
        "start_time": "2023-03-19T13:53:22.896Z"
      },
      {
        "duration": 19,
        "start_time": "2023-03-19T13:53:22.914Z"
      },
      {
        "duration": 3,
        "start_time": "2023-03-19T13:53:22.935Z"
      },
      {
        "duration": 2973,
        "start_time": "2023-03-19T13:53:22.940Z"
      },
      {
        "duration": 328,
        "start_time": "2023-03-19T13:53:25.916Z"
      },
      {
        "duration": 1203,
        "start_time": "2023-03-19T13:53:26.246Z"
      },
      {
        "duration": 9,
        "start_time": "2023-03-19T13:53:27.451Z"
      },
      {
        "duration": 1352,
        "start_time": "2023-03-19T13:53:27.462Z"
      },
      {
        "duration": 4,
        "start_time": "2023-03-19T13:53:28.816Z"
      },
      {
        "duration": 0,
        "start_time": "2023-03-19T13:53:28.823Z"
      },
      {
        "duration": 0,
        "start_time": "2023-03-19T13:53:28.824Z"
      },
      {
        "duration": 0,
        "start_time": "2023-03-19T13:53:28.826Z"
      },
      {
        "duration": 0,
        "start_time": "2023-03-19T13:53:28.828Z"
      },
      {
        "duration": 0,
        "start_time": "2023-03-19T13:53:28.830Z"
      },
      {
        "duration": 0,
        "start_time": "2023-03-19T13:53:28.831Z"
      },
      {
        "duration": 0,
        "start_time": "2023-03-19T13:53:28.833Z"
      },
      {
        "duration": 4,
        "start_time": "2023-03-19T13:53:44.096Z"
      },
      {
        "duration": 9,
        "start_time": "2023-03-19T13:53:45.262Z"
      },
      {
        "duration": 12,
        "start_time": "2023-03-19T13:53:46.523Z"
      },
      {
        "duration": 5,
        "start_time": "2023-03-19T13:54:40.837Z"
      },
      {
        "duration": 50,
        "start_time": "2023-03-19T13:58:17.729Z"
      },
      {
        "duration": 1518,
        "start_time": "2023-03-19T16:53:06.513Z"
      },
      {
        "duration": 736,
        "start_time": "2023-03-19T16:53:08.034Z"
      },
      {
        "duration": 26,
        "start_time": "2023-03-19T16:53:08.772Z"
      },
      {
        "duration": 36,
        "start_time": "2023-03-19T16:53:08.800Z"
      },
      {
        "duration": 242,
        "start_time": "2023-03-19T16:53:08.838Z"
      },
      {
        "duration": 17,
        "start_time": "2023-03-19T16:53:09.082Z"
      },
      {
        "duration": 22,
        "start_time": "2023-03-19T16:53:09.101Z"
      },
      {
        "duration": 151,
        "start_time": "2023-03-19T16:53:09.125Z"
      },
      {
        "duration": 20,
        "start_time": "2023-03-19T16:53:09.281Z"
      },
      {
        "duration": 21,
        "start_time": "2023-03-19T16:53:09.304Z"
      },
      {
        "duration": 286,
        "start_time": "2023-03-19T16:53:09.327Z"
      },
      {
        "duration": 4,
        "start_time": "2023-03-19T16:53:09.615Z"
      },
      {
        "duration": 14,
        "start_time": "2023-03-19T16:53:09.620Z"
      },
      {
        "duration": 7,
        "start_time": "2023-03-19T16:53:09.636Z"
      },
      {
        "duration": 5,
        "start_time": "2023-03-19T16:53:09.645Z"
      },
      {
        "duration": 8,
        "start_time": "2023-03-19T16:53:09.682Z"
      },
      {
        "duration": 64,
        "start_time": "2023-03-19T16:53:09.692Z"
      },
      {
        "duration": 32,
        "start_time": "2023-03-19T16:53:09.757Z"
      },
      {
        "duration": 31,
        "start_time": "2023-03-19T16:53:09.791Z"
      },
      {
        "duration": 17,
        "start_time": "2023-03-19T16:53:09.824Z"
      },
      {
        "duration": 38,
        "start_time": "2023-03-19T16:53:09.843Z"
      },
      {
        "duration": 3,
        "start_time": "2023-03-19T16:53:09.883Z"
      },
      {
        "duration": 3115,
        "start_time": "2023-03-19T16:53:09.888Z"
      },
      {
        "duration": 249,
        "start_time": "2023-03-19T16:53:13.005Z"
      },
      {
        "duration": 1182,
        "start_time": "2023-03-19T16:53:13.257Z"
      },
      {
        "duration": 10,
        "start_time": "2023-03-19T16:53:14.441Z"
      },
      {
        "duration": 1225,
        "start_time": "2023-03-19T16:53:14.453Z"
      },
      {
        "duration": 4,
        "start_time": "2023-03-19T16:53:15.682Z"
      },
      {
        "duration": 11,
        "start_time": "2023-03-19T16:53:15.688Z"
      },
      {
        "duration": 12,
        "start_time": "2023-03-19T16:53:15.700Z"
      },
      {
        "duration": 14,
        "start_time": "2023-03-19T16:53:15.714Z"
      },
      {
        "duration": 171,
        "start_time": "2023-03-19T16:53:15.730Z"
      },
      {
        "duration": 0,
        "start_time": "2023-03-19T16:53:15.903Z"
      },
      {
        "duration": 0,
        "start_time": "2023-03-19T16:53:15.905Z"
      },
      {
        "duration": 20,
        "start_time": "2023-03-19T16:54:30.309Z"
      },
      {
        "duration": 4,
        "start_time": "2023-03-19T16:54:32.335Z"
      },
      {
        "duration": 4,
        "start_time": "2023-03-19T16:54:33.632Z"
      },
      {
        "duration": 10,
        "start_time": "2023-03-19T16:59:12.506Z"
      },
      {
        "duration": 219,
        "start_time": "2023-03-19T16:59:18.704Z"
      },
      {
        "duration": 24,
        "start_time": "2023-03-19T16:59:47.806Z"
      },
      {
        "duration": 95,
        "start_time": "2023-03-19T17:00:07.013Z"
      },
      {
        "duration": 5,
        "start_time": "2023-03-19T17:05:05.088Z"
      },
      {
        "duration": 3,
        "start_time": "2023-03-19T17:11:58.898Z"
      },
      {
        "duration": 12,
        "start_time": "2023-03-19T17:13:12.407Z"
      },
      {
        "duration": 12,
        "start_time": "2023-03-19T17:13:20.523Z"
      },
      {
        "duration": 26604,
        "start_time": "2023-03-19T17:13:36.755Z"
      },
      {
        "duration": 0,
        "start_time": "2023-03-19T17:21:52.568Z"
      },
      {
        "duration": 0,
        "start_time": "2023-03-19T17:21:52.569Z"
      },
      {
        "duration": 2280,
        "start_time": "2023-03-19T17:21:54.828Z"
      },
      {
        "duration": 14,
        "start_time": "2023-03-19T17:22:40.126Z"
      },
      {
        "duration": 10,
        "start_time": "2023-03-19T17:22:49.048Z"
      },
      {
        "duration": 8030,
        "start_time": "2023-03-19T17:22:55.947Z"
      },
      {
        "duration": 3,
        "start_time": "2023-03-19T17:23:09.853Z"
      },
      {
        "duration": 41,
        "start_time": "2023-03-19T17:23:11.903Z"
      },
      {
        "duration": 8151,
        "start_time": "2023-03-19T17:23:22.539Z"
      },
      {
        "duration": 10464,
        "start_time": "2023-03-19T17:23:48.725Z"
      },
      {
        "duration": 162074,
        "start_time": "2023-03-19T17:24:14.937Z"
      },
      {
        "duration": 653625,
        "start_time": "2023-03-19T17:27:08.222Z"
      },
      {
        "duration": 0,
        "start_time": "2023-03-19T17:44:19.255Z"
      },
      {
        "duration": 11850,
        "start_time": "2023-03-19T17:44:22.059Z"
      },
      {
        "duration": 65963,
        "start_time": "2023-03-19T17:44:36.708Z"
      },
      {
        "duration": 2857,
        "start_time": "2023-03-19T17:45:42.673Z"
      },
      {
        "duration": 0,
        "start_time": "2023-03-19T17:51:33.293Z"
      },
      {
        "duration": 1003344,
        "start_time": "2023-03-19T17:51:35.389Z"
      },
      {
        "duration": 43,
        "start_time": "2023-03-19T18:08:18.735Z"
      },
      {
        "duration": 0,
        "start_time": "2023-03-19T18:08:18.780Z"
      },
      {
        "duration": 15,
        "start_time": "2023-03-19T18:08:58.679Z"
      },
      {
        "duration": 1216,
        "start_time": "2023-03-19T18:09:10.722Z"
      },
      {
        "duration": 10,
        "start_time": "2023-03-19T18:09:57.866Z"
      },
      {
        "duration": 4,
        "start_time": "2023-03-19T18:11:11.505Z"
      },
      {
        "duration": 24020,
        "start_time": "2023-03-19T18:11:24.933Z"
      },
      {
        "duration": 4848,
        "start_time": "2023-03-19T18:14:18.022Z"
      },
      {
        "duration": 1210,
        "start_time": "2023-03-19T18:14:26.965Z"
      },
      {
        "duration": 1417,
        "start_time": "2023-03-19T18:14:34.052Z"
      },
      {
        "duration": 1030123,
        "start_time": "2023-03-19T18:14:43.792Z"
      },
      {
        "duration": 4976,
        "start_time": "2023-03-19T18:31:53.917Z"
      },
      {
        "duration": 12686,
        "start_time": "2023-03-19T18:38:32.345Z"
      },
      {
        "duration": 1629,
        "start_time": "2023-03-20T08:44:03.932Z"
      },
      {
        "duration": 2354,
        "start_time": "2023-03-20T08:44:05.563Z"
      },
      {
        "duration": 22,
        "start_time": "2023-03-20T08:44:07.919Z"
      },
      {
        "duration": 28,
        "start_time": "2023-03-20T08:44:07.943Z"
      },
      {
        "duration": 256,
        "start_time": "2023-03-20T08:44:07.973Z"
      },
      {
        "duration": 134,
        "start_time": "2023-03-20T08:44:08.230Z"
      },
      {
        "duration": 23,
        "start_time": "2023-03-20T08:44:08.366Z"
      },
      {
        "duration": 22,
        "start_time": "2023-03-20T08:44:08.392Z"
      },
      {
        "duration": 167,
        "start_time": "2023-03-20T08:44:08.416Z"
      },
      {
        "duration": 22,
        "start_time": "2023-03-20T08:44:08.588Z"
      },
      {
        "duration": 21,
        "start_time": "2023-03-20T08:44:08.612Z"
      },
      {
        "duration": 53,
        "start_time": "2023-03-20T08:44:08.635Z"
      },
      {
        "duration": 285,
        "start_time": "2023-03-20T08:44:08.691Z"
      },
      {
        "duration": 114,
        "start_time": "2023-03-20T08:44:08.979Z"
      },
      {
        "duration": 3,
        "start_time": "2023-03-20T08:44:09.096Z"
      },
      {
        "duration": 22,
        "start_time": "2023-03-20T08:44:09.101Z"
      },
      {
        "duration": 6,
        "start_time": "2023-03-20T08:44:09.125Z"
      },
      {
        "duration": 8,
        "start_time": "2023-03-20T08:44:09.133Z"
      },
      {
        "duration": 18,
        "start_time": "2023-03-20T08:44:09.143Z"
      },
      {
        "duration": 84,
        "start_time": "2023-03-20T08:44:09.162Z"
      },
      {
        "duration": 17,
        "start_time": "2023-03-20T08:44:09.248Z"
      },
      {
        "duration": 42,
        "start_time": "2023-03-20T08:44:09.267Z"
      },
      {
        "duration": 16,
        "start_time": "2023-03-20T08:44:09.311Z"
      },
      {
        "duration": 15,
        "start_time": "2023-03-20T08:44:09.329Z"
      },
      {
        "duration": 4,
        "start_time": "2023-03-20T08:44:09.346Z"
      },
      {
        "duration": 2966,
        "start_time": "2023-03-20T08:44:09.351Z"
      },
      {
        "duration": 257,
        "start_time": "2023-03-20T08:44:12.319Z"
      },
      {
        "duration": 1242,
        "start_time": "2023-03-20T08:44:12.588Z"
      },
      {
        "duration": 8,
        "start_time": "2023-03-20T08:44:13.832Z"
      },
      {
        "duration": 1341,
        "start_time": "2023-03-20T08:44:13.842Z"
      },
      {
        "duration": 4,
        "start_time": "2023-03-20T08:44:15.185Z"
      },
      {
        "duration": 24,
        "start_time": "2023-03-20T08:44:15.190Z"
      },
      {
        "duration": 9,
        "start_time": "2023-03-20T08:44:15.215Z"
      },
      {
        "duration": 11,
        "start_time": "2023-03-20T08:44:15.226Z"
      },
      {
        "duration": 26,
        "start_time": "2023-03-20T08:44:15.238Z"
      },
      {
        "duration": 3,
        "start_time": "2023-03-20T08:44:15.266Z"
      },
      {
        "duration": 19,
        "start_time": "2023-03-20T08:44:15.271Z"
      },
      {
        "duration": 5,
        "start_time": "2023-03-20T08:44:15.291Z"
      },
      {
        "duration": 123,
        "start_time": "2023-03-20T08:44:15.297Z"
      },
      {
        "duration": 0,
        "start_time": "2023-03-20T08:44:15.422Z"
      },
      {
        "duration": 0,
        "start_time": "2023-03-20T08:44:15.423Z"
      },
      {
        "duration": 0,
        "start_time": "2023-03-20T08:44:15.424Z"
      },
      {
        "duration": 0,
        "start_time": "2023-03-20T08:44:15.426Z"
      },
      {
        "duration": 3,
        "start_time": "2023-03-20T09:45:58.225Z"
      },
      {
        "duration": 3831,
        "start_time": "2023-03-20T09:46:02.764Z"
      },
      {
        "duration": 25133,
        "start_time": "2023-03-20T09:46:14.806Z"
      },
      {
        "duration": 1540,
        "start_time": "2023-03-20T09:47:01.938Z"
      },
      {
        "duration": 794,
        "start_time": "2023-03-20T09:47:03.479Z"
      },
      {
        "duration": 29,
        "start_time": "2023-03-20T09:47:04.274Z"
      },
      {
        "duration": 28,
        "start_time": "2023-03-20T09:47:04.306Z"
      },
      {
        "duration": 272,
        "start_time": "2023-03-20T09:47:04.335Z"
      },
      {
        "duration": 181,
        "start_time": "2023-03-20T09:47:04.609Z"
      },
      {
        "duration": 16,
        "start_time": "2023-03-20T09:47:04.792Z"
      },
      {
        "duration": 26,
        "start_time": "2023-03-20T09:47:04.810Z"
      },
      {
        "duration": 184,
        "start_time": "2023-03-20T09:47:04.838Z"
      },
      {
        "duration": 28,
        "start_time": "2023-03-20T09:47:05.026Z"
      },
      {
        "duration": 38,
        "start_time": "2023-03-20T09:47:05.056Z"
      },
      {
        "duration": 30,
        "start_time": "2023-03-20T09:47:05.097Z"
      },
      {
        "duration": 329,
        "start_time": "2023-03-20T09:47:05.130Z"
      },
      {
        "duration": 105,
        "start_time": "2023-03-20T09:47:05.461Z"
      },
      {
        "duration": 3,
        "start_time": "2023-03-20T09:47:05.567Z"
      },
      {
        "duration": 24,
        "start_time": "2023-03-20T09:47:05.572Z"
      },
      {
        "duration": 7,
        "start_time": "2023-03-20T09:47:05.598Z"
      },
      {
        "duration": 6,
        "start_time": "2023-03-20T09:47:05.606Z"
      },
      {
        "duration": 19,
        "start_time": "2023-03-20T09:47:05.614Z"
      },
      {
        "duration": 85,
        "start_time": "2023-03-20T09:47:05.635Z"
      },
      {
        "duration": 20,
        "start_time": "2023-03-20T09:47:05.722Z"
      },
      {
        "duration": 35,
        "start_time": "2023-03-20T09:47:05.744Z"
      },
      {
        "duration": 21,
        "start_time": "2023-03-20T09:47:05.789Z"
      },
      {
        "duration": 18,
        "start_time": "2023-03-20T09:47:05.813Z"
      },
      {
        "duration": 4,
        "start_time": "2023-03-20T09:47:05.833Z"
      },
      {
        "duration": 3151,
        "start_time": "2023-03-20T09:47:05.838Z"
      },
      {
        "duration": 282,
        "start_time": "2023-03-20T09:47:08.991Z"
      },
      {
        "duration": 1277,
        "start_time": "2023-03-20T09:47:09.276Z"
      },
      {
        "duration": 9,
        "start_time": "2023-03-20T09:47:10.554Z"
      },
      {
        "duration": 1378,
        "start_time": "2023-03-20T09:47:10.565Z"
      },
      {
        "duration": 4,
        "start_time": "2023-03-20T09:47:11.945Z"
      },
      {
        "duration": 36,
        "start_time": "2023-03-20T09:47:11.951Z"
      },
      {
        "duration": 58,
        "start_time": "2023-03-20T09:47:11.989Z"
      },
      {
        "duration": 47,
        "start_time": "2023-03-20T09:47:12.049Z"
      },
      {
        "duration": 81,
        "start_time": "2023-03-20T09:47:12.098Z"
      },
      {
        "duration": 50,
        "start_time": "2023-03-20T09:47:12.181Z"
      },
      {
        "duration": 59,
        "start_time": "2023-03-20T09:47:12.233Z"
      },
      {
        "duration": 50,
        "start_time": "2023-03-20T09:47:12.294Z"
      },
      {
        "duration": 67,
        "start_time": "2023-03-20T09:47:12.346Z"
      },
      {
        "duration": 3089,
        "start_time": "2023-03-20T09:47:12.415Z"
      },
      {
        "duration": 25717,
        "start_time": "2023-03-20T09:47:15.509Z"
      },
      {
        "duration": 151925,
        "start_time": "2023-03-20T09:47:41.228Z"
      },
      {
        "duration": 0,
        "start_time": "2023-03-20T09:50:13.156Z"
      },
      {
        "duration": 2606,
        "start_time": "2023-03-20T09:50:24.189Z"
      },
      {
        "duration": 26194,
        "start_time": "2023-03-20T09:50:45.011Z"
      },
      {
        "duration": 12970,
        "start_time": "2023-03-20T09:51:35.326Z"
      },
      {
        "duration": 12602,
        "start_time": "2023-03-20T09:52:11.882Z"
      },
      {
        "duration": 4,
        "start_time": "2023-03-20T09:52:48.908Z"
      },
      {
        "duration": 4,
        "start_time": "2023-03-20T09:52:49.966Z"
      },
      {
        "duration": 5,
        "start_time": "2023-03-20T09:55:21.646Z"
      },
      {
        "duration": 4,
        "start_time": "2023-03-20T09:55:22.269Z"
      },
      {
        "duration": 13227,
        "start_time": "2023-03-20T09:55:26.633Z"
      },
      {
        "duration": 2186,
        "start_time": "2023-03-20T09:56:10.104Z"
      },
      {
        "duration": 1856,
        "start_time": "2023-03-20T09:56:28.539Z"
      },
      {
        "duration": 25648,
        "start_time": "2023-03-20T09:56:36.056Z"
      },
      {
        "duration": 11,
        "start_time": "2023-03-20T10:04:44.696Z"
      },
      {
        "duration": 4533,
        "start_time": "2023-03-20T10:05:08.157Z"
      },
      {
        "duration": 1653,
        "start_time": "2023-03-20T10:06:12.365Z"
      },
      {
        "duration": 894,
        "start_time": "2023-03-20T10:06:14.021Z"
      },
      {
        "duration": 29,
        "start_time": "2023-03-20T10:06:14.917Z"
      },
      {
        "duration": 54,
        "start_time": "2023-03-20T10:06:14.950Z"
      },
      {
        "duration": 301,
        "start_time": "2023-03-20T10:06:15.006Z"
      },
      {
        "duration": 154,
        "start_time": "2023-03-20T10:06:15.309Z"
      },
      {
        "duration": 28,
        "start_time": "2023-03-20T10:06:15.466Z"
      },
      {
        "duration": 29,
        "start_time": "2023-03-20T10:06:15.497Z"
      },
      {
        "duration": 170,
        "start_time": "2023-03-20T10:06:15.527Z"
      },
      {
        "duration": 21,
        "start_time": "2023-03-20T10:06:15.700Z"
      },
      {
        "duration": 21,
        "start_time": "2023-03-20T10:06:15.723Z"
      },
      {
        "duration": 49,
        "start_time": "2023-03-20T10:06:15.746Z"
      },
      {
        "duration": 290,
        "start_time": "2023-03-20T10:06:15.796Z"
      },
      {
        "duration": 107,
        "start_time": "2023-03-20T10:06:16.089Z"
      },
      {
        "duration": 4,
        "start_time": "2023-03-20T10:06:16.197Z"
      },
      {
        "duration": 13,
        "start_time": "2023-03-20T10:06:16.203Z"
      },
      {
        "duration": 13,
        "start_time": "2023-03-20T10:06:16.218Z"
      },
      {
        "duration": 5,
        "start_time": "2023-03-20T10:06:16.233Z"
      },
      {
        "duration": 11,
        "start_time": "2023-03-20T10:06:16.239Z"
      },
      {
        "duration": 93,
        "start_time": "2023-03-20T10:06:16.251Z"
      },
      {
        "duration": 19,
        "start_time": "2023-03-20T10:06:16.345Z"
      },
      {
        "duration": 23,
        "start_time": "2023-03-20T10:06:16.388Z"
      },
      {
        "duration": 15,
        "start_time": "2023-03-20T10:06:16.413Z"
      },
      {
        "duration": 15,
        "start_time": "2023-03-20T10:06:16.429Z"
      },
      {
        "duration": 3,
        "start_time": "2023-03-20T10:06:16.445Z"
      },
      {
        "duration": 3128,
        "start_time": "2023-03-20T10:06:16.450Z"
      },
      {
        "duration": 280,
        "start_time": "2023-03-20T10:06:19.580Z"
      },
      {
        "duration": 1259,
        "start_time": "2023-03-20T10:06:19.864Z"
      },
      {
        "duration": 10,
        "start_time": "2023-03-20T10:06:21.125Z"
      },
      {
        "duration": 1268,
        "start_time": "2023-03-20T10:06:21.137Z"
      },
      {
        "duration": 4,
        "start_time": "2023-03-20T10:06:22.406Z"
      },
      {
        "duration": 17,
        "start_time": "2023-03-20T10:06:22.412Z"
      },
      {
        "duration": 15,
        "start_time": "2023-03-20T10:06:22.431Z"
      },
      {
        "duration": 21,
        "start_time": "2023-03-20T10:06:22.448Z"
      },
      {
        "duration": 34,
        "start_time": "2023-03-20T10:06:22.471Z"
      },
      {
        "duration": 3,
        "start_time": "2023-03-20T10:06:22.507Z"
      },
      {
        "duration": 13,
        "start_time": "2023-03-20T10:06:22.512Z"
      },
      {
        "duration": 10,
        "start_time": "2023-03-20T10:06:22.526Z"
      },
      {
        "duration": 4,
        "start_time": "2023-03-20T10:06:22.538Z"
      },
      {
        "duration": 1946,
        "start_time": "2023-03-20T10:06:22.544Z"
      },
      {
        "duration": 8510,
        "start_time": "2023-03-20T10:06:24.493Z"
      },
      {
        "duration": 0,
        "start_time": "2023-03-20T10:06:33.005Z"
      },
      {
        "duration": 0,
        "start_time": "2023-03-20T10:06:33.007Z"
      },
      {
        "duration": 25310,
        "start_time": "2023-03-20T10:06:58.354Z"
      },
      {
        "duration": 1085340,
        "start_time": "2023-03-20T10:08:27.470Z"
      },
      {
        "duration": 13012,
        "start_time": "2023-03-20T10:48:41.131Z"
      },
      {
        "duration": 12532,
        "start_time": "2023-03-20T10:58:10.296Z"
      },
      {
        "duration": 12789,
        "start_time": "2023-03-20T10:58:38.173Z"
      },
      {
        "duration": 3,
        "start_time": "2023-03-20T11:05:14.474Z"
      },
      {
        "duration": 2407,
        "start_time": "2023-03-20T11:06:19.585Z"
      },
      {
        "duration": 1798,
        "start_time": "2023-03-20T11:06:38.990Z"
      },
      {
        "duration": 20,
        "start_time": "2023-03-20T12:48:52.681Z"
      },
      {
        "duration": 4,
        "start_time": "2023-03-20T12:51:14.677Z"
      },
      {
        "duration": 88,
        "start_time": "2023-03-20T12:53:29.217Z"
      },
      {
        "duration": 77,
        "start_time": "2023-03-20T12:53:35.589Z"
      },
      {
        "duration": 5,
        "start_time": "2023-03-20T12:53:42.581Z"
      },
      {
        "duration": 2927,
        "start_time": "2023-03-20T12:53:53.757Z"
      },
      {
        "duration": 1293,
        "start_time": "2023-03-20T12:56:35.631Z"
      },
      {
        "duration": 260,
        "start_time": "2023-03-20T12:56:44.610Z"
      },
      {
        "duration": 4,
        "start_time": "2023-03-20T12:59:51.352Z"
      },
      {
        "duration": 4,
        "start_time": "2023-03-20T12:59:55.293Z"
      },
      {
        "duration": 4,
        "start_time": "2023-03-20T13:00:00.827Z"
      },
      {
        "duration": 26105,
        "start_time": "2023-03-20T13:15:57.833Z"
      },
      {
        "duration": 13093,
        "start_time": "2023-03-20T13:20:47.189Z"
      },
      {
        "duration": 10,
        "start_time": "2023-03-20T13:24:44.142Z"
      },
      {
        "duration": 15,
        "start_time": "2023-03-20T13:39:30.887Z"
      },
      {
        "duration": 4,
        "start_time": "2023-03-20T13:39:35.525Z"
      },
      {
        "duration": 21,
        "start_time": "2023-03-20T13:39:37.160Z"
      },
      {
        "duration": 8,
        "start_time": "2023-03-20T13:40:34.715Z"
      },
      {
        "duration": 1740,
        "start_time": "2023-03-20T13:40:45.111Z"
      },
      {
        "duration": 1503,
        "start_time": "2023-03-20T15:58:56.431Z"
      },
      {
        "duration": 2150,
        "start_time": "2023-03-20T15:58:57.937Z"
      },
      {
        "duration": 18,
        "start_time": "2023-03-20T15:59:00.088Z"
      },
      {
        "duration": 33,
        "start_time": "2023-03-20T15:59:00.108Z"
      },
      {
        "duration": 262,
        "start_time": "2023-03-20T15:59:00.143Z"
      },
      {
        "duration": 128,
        "start_time": "2023-03-20T15:59:00.407Z"
      },
      {
        "duration": 14,
        "start_time": "2023-03-20T15:59:00.537Z"
      },
      {
        "duration": 49,
        "start_time": "2023-03-20T15:59:00.553Z"
      },
      {
        "duration": 160,
        "start_time": "2023-03-20T15:59:00.604Z"
      },
      {
        "duration": 28,
        "start_time": "2023-03-20T15:59:00.766Z"
      },
      {
        "duration": 52,
        "start_time": "2023-03-20T15:59:00.797Z"
      },
      {
        "duration": 46,
        "start_time": "2023-03-20T15:59:00.851Z"
      },
      {
        "duration": 278,
        "start_time": "2023-03-20T15:59:00.899Z"
      },
      {
        "duration": 110,
        "start_time": "2023-03-20T15:59:01.179Z"
      },
      {
        "duration": 3,
        "start_time": "2023-03-20T15:59:01.293Z"
      },
      {
        "duration": 27,
        "start_time": "2023-03-20T15:59:01.298Z"
      },
      {
        "duration": 14,
        "start_time": "2023-03-20T15:59:01.327Z"
      },
      {
        "duration": 16,
        "start_time": "2023-03-20T15:59:01.343Z"
      },
      {
        "duration": 25,
        "start_time": "2023-03-20T15:59:01.361Z"
      },
      {
        "duration": 62,
        "start_time": "2023-03-20T15:59:01.389Z"
      },
      {
        "duration": 33,
        "start_time": "2023-03-20T15:59:01.452Z"
      },
      {
        "duration": 98,
        "start_time": "2023-03-20T15:59:01.488Z"
      },
      {
        "duration": 34,
        "start_time": "2023-03-20T15:59:01.588Z"
      },
      {
        "duration": 40,
        "start_time": "2023-03-20T15:59:01.624Z"
      },
      {
        "duration": 22,
        "start_time": "2023-03-20T15:59:01.665Z"
      },
      {
        "duration": 2758,
        "start_time": "2023-03-20T15:59:01.689Z"
      },
      {
        "duration": 253,
        "start_time": "2023-03-20T15:59:04.449Z"
      },
      {
        "duration": 1225,
        "start_time": "2023-03-20T15:59:04.705Z"
      },
      {
        "duration": 9,
        "start_time": "2023-03-20T15:59:05.932Z"
      },
      {
        "duration": 1294,
        "start_time": "2023-03-20T15:59:05.943Z"
      },
      {
        "duration": 3,
        "start_time": "2023-03-20T15:59:07.239Z"
      },
      {
        "duration": 7,
        "start_time": "2023-03-20T15:59:07.243Z"
      },
      {
        "duration": 65,
        "start_time": "2023-03-20T15:59:07.251Z"
      },
      {
        "duration": 4,
        "start_time": "2023-03-20T15:59:07.318Z"
      },
      {
        "duration": 6,
        "start_time": "2023-03-20T15:59:07.324Z"
      },
      {
        "duration": 6,
        "start_time": "2023-03-20T15:59:07.332Z"
      },
      {
        "duration": 8,
        "start_time": "2023-03-20T15:59:07.340Z"
      },
      {
        "duration": 26,
        "start_time": "2023-03-20T15:59:07.374Z"
      },
      {
        "duration": 4,
        "start_time": "2023-03-20T15:59:07.402Z"
      },
      {
        "duration": 4,
        "start_time": "2023-03-20T15:59:07.407Z"
      },
      {
        "duration": 6,
        "start_time": "2023-03-20T15:59:07.413Z"
      },
      {
        "duration": 4,
        "start_time": "2023-03-20T15:59:07.420Z"
      },
      {
        "duration": 3361,
        "start_time": "2023-03-20T15:59:07.426Z"
      },
      {
        "duration": 18545,
        "start_time": "2023-03-20T15:59:10.792Z"
      },
      {
        "duration": 0,
        "start_time": "2023-03-20T15:59:29.338Z"
      },
      {
        "duration": 0,
        "start_time": "2023-03-20T15:59:29.340Z"
      },
      {
        "duration": 4,
        "start_time": "2023-03-20T16:01:55.884Z"
      },
      {
        "duration": 1211,
        "start_time": "2023-03-20T16:02:09.586Z"
      },
      {
        "duration": 1211,
        "start_time": "2023-03-20T16:03:28.247Z"
      },
      {
        "duration": 1245,
        "start_time": "2023-03-20T16:03:45.974Z"
      },
      {
        "duration": 8,
        "start_time": "2023-03-20T16:04:37.789Z"
      },
      {
        "duration": 1213,
        "start_time": "2023-03-20T16:04:49.032Z"
      },
      {
        "duration": 7,
        "start_time": "2023-03-20T16:06:25.479Z"
      },
      {
        "duration": 1170,
        "start_time": "2023-03-20T16:06:36.924Z"
      },
      {
        "duration": 14,
        "start_time": "2023-03-20T16:06:58.899Z"
      },
      {
        "duration": 1433,
        "start_time": "2023-03-20T16:11:44.272Z"
      },
      {
        "duration": 683,
        "start_time": "2023-03-20T16:11:46.832Z"
      },
      {
        "duration": 17,
        "start_time": "2023-03-20T16:11:49.720Z"
      },
      {
        "duration": 30,
        "start_time": "2023-03-20T16:12:04.774Z"
      },
      {
        "duration": 219,
        "start_time": "2023-03-20T16:12:06.841Z"
      },
      {
        "duration": 121,
        "start_time": "2023-03-20T16:12:09.796Z"
      },
      {
        "duration": 13,
        "start_time": "2023-03-20T16:12:11.651Z"
      },
      {
        "duration": 23,
        "start_time": "2023-03-20T16:12:13.072Z"
      },
      {
        "duration": 117,
        "start_time": "2023-03-20T16:12:14.397Z"
      },
      {
        "duration": 18,
        "start_time": "2023-03-20T16:12:15.591Z"
      },
      {
        "duration": 18,
        "start_time": "2023-03-20T16:12:16.746Z"
      },
      {
        "duration": 20,
        "start_time": "2023-03-20T16:12:17.416Z"
      },
      {
        "duration": 239,
        "start_time": "2023-03-20T16:12:18.108Z"
      },
      {
        "duration": 89,
        "start_time": "2023-03-20T16:12:20.867Z"
      },
      {
        "duration": 3,
        "start_time": "2023-03-20T16:12:31.710Z"
      },
      {
        "duration": 30,
        "start_time": "2023-03-20T16:12:32.516Z"
      },
      {
        "duration": 5,
        "start_time": "2023-03-20T16:12:37.106Z"
      },
      {
        "duration": 14,
        "start_time": "2023-03-20T16:12:42.209Z"
      },
      {
        "duration": 4,
        "start_time": "2023-03-20T16:12:54.054Z"
      },
      {
        "duration": 8,
        "start_time": "2023-03-20T16:12:56.507Z"
      },
      {
        "duration": 70,
        "start_time": "2023-03-20T16:13:11.050Z"
      },
      {
        "duration": 25,
        "start_time": "2023-03-20T16:13:13.841Z"
      },
      {
        "duration": 18,
        "start_time": "2023-03-20T16:13:23.114Z"
      },
      {
        "duration": 26,
        "start_time": "2023-03-20T16:13:25.263Z"
      },
      {
        "duration": 23,
        "start_time": "2023-03-20T16:13:28.243Z"
      },
      {
        "duration": 13,
        "start_time": "2023-03-20T16:13:38.641Z"
      },
      {
        "duration": 16,
        "start_time": "2023-03-20T16:13:45.984Z"
      },
      {
        "duration": 20,
        "start_time": "2023-03-20T16:13:54.784Z"
      },
      {
        "duration": 17,
        "start_time": "2023-03-20T16:14:01.105Z"
      },
      {
        "duration": 3,
        "start_time": "2023-03-20T16:14:15.233Z"
      },
      {
        "duration": 2756,
        "start_time": "2023-03-20T16:14:16.697Z"
      },
      {
        "duration": 230,
        "start_time": "2023-03-20T16:14:22.730Z"
      },
      {
        "duration": 19,
        "start_time": "2023-03-20T16:14:30.880Z"
      },
      {
        "duration": 1066,
        "start_time": "2023-03-20T16:14:54.962Z"
      },
      {
        "duration": 16,
        "start_time": "2023-03-20T16:15:02.402Z"
      },
      {
        "duration": 10,
        "start_time": "2023-03-20T16:15:22.671Z"
      },
      {
        "duration": 13,
        "start_time": "2023-03-20T16:15:27.823Z"
      },
      {
        "duration": 1164,
        "start_time": "2023-03-20T16:15:42.076Z"
      },
      {
        "duration": 15,
        "start_time": "2023-03-20T16:15:52.299Z"
      },
      {
        "duration": 6,
        "start_time": "2023-03-20T16:17:04.452Z"
      },
      {
        "duration": 70,
        "start_time": "2023-03-20T16:17:11.383Z"
      },
      {
        "duration": 108,
        "start_time": "2023-03-20T16:17:15.427Z"
      },
      {
        "duration": 86,
        "start_time": "2023-03-20T16:17:29.602Z"
      },
      {
        "duration": 79,
        "start_time": "2023-03-20T16:17:36.368Z"
      },
      {
        "duration": 3,
        "start_time": "2023-03-20T16:17:51.881Z"
      },
      {
        "duration": 60,
        "start_time": "2023-03-20T16:17:54.195Z"
      },
      {
        "duration": 4,
        "start_time": "2023-03-20T16:18:30.857Z"
      },
      {
        "duration": 7,
        "start_time": "2023-03-20T16:18:32.761Z"
      },
      {
        "duration": 7,
        "start_time": "2023-03-20T16:18:35.070Z"
      },
      {
        "duration": 8,
        "start_time": "2023-03-20T16:18:40.153Z"
      },
      {
        "duration": 18,
        "start_time": "2023-03-20T16:18:42.461Z"
      },
      {
        "duration": 4,
        "start_time": "2023-03-20T16:18:45.145Z"
      },
      {
        "duration": 4,
        "start_time": "2023-03-20T16:18:46.673Z"
      },
      {
        "duration": 3,
        "start_time": "2023-03-20T16:18:48.841Z"
      },
      {
        "duration": 3,
        "start_time": "2023-03-20T16:18:50.068Z"
      },
      {
        "duration": 2432,
        "start_time": "2023-03-20T16:18:52.444Z"
      },
      {
        "duration": 14960,
        "start_time": "2023-03-20T16:19:02.020Z"
      },
      {
        "duration": 7649,
        "start_time": "2023-03-20T16:19:30.050Z"
      },
      {
        "duration": 633828,
        "start_time": "2023-03-20T16:19:48.682Z"
      },
      {
        "duration": 1117,
        "start_time": "2023-03-20T16:36:05.432Z"
      },
      {
        "duration": 368,
        "start_time": "2023-03-20T16:37:07.513Z"
      },
      {
        "duration": 888,
        "start_time": "2023-03-20T16:37:57.973Z"
      },
      {
        "duration": 8985,
        "start_time": "2023-03-20T16:42:22.995Z"
      },
      {
        "duration": 699,
        "start_time": "2023-03-21T13:50:17.419Z"
      },
      {
        "duration": 51,
        "start_time": "2023-03-21T18:56:08.122Z"
      },
      {
        "duration": 1895,
        "start_time": "2023-03-21T19:05:33.520Z"
      },
      {
        "duration": 2775,
        "start_time": "2023-03-21T19:05:35.418Z"
      },
      {
        "duration": 21,
        "start_time": "2023-03-21T19:05:40.040Z"
      },
      {
        "duration": 28,
        "start_time": "2023-03-21T19:05:42.703Z"
      },
      {
        "duration": 241,
        "start_time": "2023-03-21T19:05:43.197Z"
      },
      {
        "duration": 128,
        "start_time": "2023-03-21T19:05:43.589Z"
      },
      {
        "duration": 14,
        "start_time": "2023-03-21T19:05:43.852Z"
      },
      {
        "duration": 32,
        "start_time": "2023-03-21T19:05:44.223Z"
      },
      {
        "duration": 128,
        "start_time": "2023-03-21T19:05:44.483Z"
      },
      {
        "duration": 22,
        "start_time": "2023-03-21T19:05:44.908Z"
      },
      {
        "duration": 18,
        "start_time": "2023-03-21T19:05:45.313Z"
      },
      {
        "duration": 20,
        "start_time": "2023-03-21T19:05:45.631Z"
      },
      {
        "duration": 262,
        "start_time": "2023-03-21T19:05:45.902Z"
      },
      {
        "duration": 98,
        "start_time": "2023-03-21T19:05:46.260Z"
      },
      {
        "duration": 4,
        "start_time": "2023-03-21T19:05:49.105Z"
      },
      {
        "duration": 11,
        "start_time": "2023-03-21T19:05:49.511Z"
      },
      {
        "duration": 5,
        "start_time": "2023-03-21T19:05:50.623Z"
      },
      {
        "duration": 4,
        "start_time": "2023-03-21T19:05:52.945Z"
      },
      {
        "duration": 11,
        "start_time": "2023-03-21T19:05:53.294Z"
      },
      {
        "duration": 95,
        "start_time": "2023-03-21T19:05:54.190Z"
      },
      {
        "duration": 17,
        "start_time": "2023-03-21T19:05:54.383Z"
      },
      {
        "duration": 22,
        "start_time": "2023-03-21T19:05:54.597Z"
      },
      {
        "duration": 14,
        "start_time": "2023-03-21T19:05:55.254Z"
      },
      {
        "duration": 18,
        "start_time": "2023-03-21T19:05:56.183Z"
      },
      {
        "duration": 3,
        "start_time": "2023-03-21T19:05:59.147Z"
      },
      {
        "duration": 2838,
        "start_time": "2023-03-21T19:05:59.463Z"
      },
      {
        "duration": 243,
        "start_time": "2023-03-21T19:06:02.303Z"
      },
      {
        "duration": 1128,
        "start_time": "2023-03-21T19:06:03.009Z"
      },
      {
        "duration": 192,
        "start_time": "2023-03-21T19:06:30.091Z"
      },
      {
        "duration": 12,
        "start_time": "2023-03-21T19:07:10.623Z"
      },
      {
        "duration": 366,
        "start_time": "2023-03-21T19:07:18.255Z"
      },
      {
        "duration": 539,
        "start_time": "2023-03-21T19:08:01.911Z"
      },
      {
        "duration": 388,
        "start_time": "2023-03-21T19:10:04.301Z"
      },
      {
        "duration": 663,
        "start_time": "2023-03-21T19:10:28.839Z"
      },
      {
        "duration": 555,
        "start_time": "2023-03-21T19:14:15.165Z"
      },
      {
        "duration": 861,
        "start_time": "2023-03-21T19:14:33.743Z"
      },
      {
        "duration": 863,
        "start_time": "2023-03-21T19:15:30.863Z"
      },
      {
        "duration": 51,
        "start_time": "2023-03-21T19:18:06.090Z"
      },
      {
        "duration": 874,
        "start_time": "2023-03-21T19:18:12.665Z"
      },
      {
        "duration": 4,
        "start_time": "2023-03-21T19:18:26.908Z"
      },
      {
        "duration": 1045,
        "start_time": "2023-03-21T19:18:29.685Z"
      },
      {
        "duration": 952,
        "start_time": "2023-03-21T19:18:46.882Z"
      },
      {
        "duration": 923,
        "start_time": "2023-03-21T19:18:55.988Z"
      },
      {
        "duration": 954,
        "start_time": "2023-03-21T19:19:50.486Z"
      },
      {
        "duration": 1095,
        "start_time": "2023-03-21T19:20:26.449Z"
      },
      {
        "duration": 1279,
        "start_time": "2023-03-21T19:21:15.383Z"
      },
      {
        "duration": 1136,
        "start_time": "2023-03-21T19:21:29.729Z"
      },
      {
        "duration": 1180,
        "start_time": "2023-03-21T19:21:59.484Z"
      },
      {
        "duration": 1108,
        "start_time": "2023-03-21T19:22:06.860Z"
      },
      {
        "duration": 1151,
        "start_time": "2023-03-21T19:22:38.297Z"
      },
      {
        "duration": 1119,
        "start_time": "2023-03-21T19:22:50.221Z"
      },
      {
        "duration": 1150,
        "start_time": "2023-03-21T19:23:02.499Z"
      },
      {
        "duration": 1156,
        "start_time": "2023-03-21T19:23:13.885Z"
      },
      {
        "duration": 1185,
        "start_time": "2023-03-21T19:23:53.802Z"
      },
      {
        "duration": 1256,
        "start_time": "2023-03-21T19:24:19.699Z"
      },
      {
        "duration": 1115,
        "start_time": "2023-03-21T19:24:51.925Z"
      },
      {
        "duration": 1145,
        "start_time": "2023-03-21T19:26:39.343Z"
      },
      {
        "duration": 1167,
        "start_time": "2023-03-21T19:27:01.509Z"
      },
      {
        "duration": 59,
        "start_time": "2023-03-21T19:28:51.560Z"
      },
      {
        "duration": 10,
        "start_time": "2023-03-21T19:28:57.898Z"
      },
      {
        "duration": 1127,
        "start_time": "2023-03-21T19:29:06.151Z"
      },
      {
        "duration": 1140,
        "start_time": "2023-03-21T19:30:23.538Z"
      },
      {
        "duration": 1154,
        "start_time": "2023-03-21T19:30:33.155Z"
      },
      {
        "duration": 56,
        "start_time": "2023-03-21T19:31:27.044Z"
      },
      {
        "duration": 9,
        "start_time": "2023-03-21T19:32:45.105Z"
      },
      {
        "duration": 1412,
        "start_time": "2023-03-21T19:32:46.645Z"
      },
      {
        "duration": 3,
        "start_time": "2023-03-21T19:32:50.859Z"
      },
      {
        "duration": 67,
        "start_time": "2023-03-21T19:32:54.253Z"
      },
      {
        "duration": 61,
        "start_time": "2023-03-21T19:33:43.687Z"
      },
      {
        "duration": 4,
        "start_time": "2023-03-21T19:34:12.881Z"
      },
      {
        "duration": 7,
        "start_time": "2023-03-21T19:34:13.888Z"
      },
      {
        "duration": 7,
        "start_time": "2023-03-21T19:34:16.452Z"
      },
      {
        "duration": 8,
        "start_time": "2023-03-21T19:34:18.181Z"
      },
      {
        "duration": 17,
        "start_time": "2023-03-21T19:34:19.555Z"
      },
      {
        "duration": 4,
        "start_time": "2023-03-21T19:34:20.721Z"
      },
      {
        "duration": 4,
        "start_time": "2023-03-21T19:34:23.282Z"
      },
      {
        "duration": 3,
        "start_time": "2023-03-21T19:34:25.409Z"
      },
      {
        "duration": 3,
        "start_time": "2023-03-21T19:34:27.505Z"
      },
      {
        "duration": 1014,
        "start_time": "2023-03-21T19:34:51.996Z"
      },
      {
        "duration": 17279,
        "start_time": "2023-03-21T19:35:13.252Z"
      },
      {
        "duration": 721589,
        "start_time": "2023-03-21T19:36:14.914Z"
      },
      {
        "duration": 17011,
        "start_time": "2023-03-21T19:48:47.660Z"
      },
      {
        "duration": 12,
        "start_time": "2023-03-21T19:51:13.479Z"
      },
      {
        "duration": 4,
        "start_time": "2023-03-21T19:51:25.929Z"
      },
      {
        "duration": 9,
        "start_time": "2023-03-21T19:51:30.429Z"
      },
      {
        "duration": 12,
        "start_time": "2023-03-21T19:51:52.012Z"
      },
      {
        "duration": 10,
        "start_time": "2023-03-21T19:52:06.902Z"
      },
      {
        "duration": 8,
        "start_time": "2023-03-21T19:55:42.684Z"
      },
      {
        "duration": 57,
        "start_time": "2023-03-21T19:56:24.283Z"
      },
      {
        "duration": 61,
        "start_time": "2023-03-21T19:57:57.609Z"
      }
    ],
    "kernelspec": {
      "display_name": "Python 3 (ipykernel)",
      "language": "python",
      "name": "python3"
    },
    "language_info": {
      "codemirror_mode": {
        "name": "ipython",
        "version": 3
      },
      "file_extension": ".py",
      "mimetype": "text/x-python",
      "name": "python",
      "nbconvert_exporter": "python",
      "pygments_lexer": "ipython3",
      "version": "3.9.5"
    },
    "toc": {
      "base_numbering": 1,
      "nav_menu": {},
      "number_sections": true,
      "sideBar": true,
      "skip_h1_title": true,
      "title_cell": "Содержание",
      "title_sidebar": "Contents",
      "toc_cell": true,
      "toc_position": {
        "height": "calc(100% - 180px)",
        "left": "10px",
        "top": "150px",
        "width": "165px"
      },
      "toc_section_display": true,
      "toc_window_display": true
    },
    "colab": {
      "provenance": [],
      "toc_visible": true
    }
  },
  "nbformat": 4,
  "nbformat_minor": 0
}